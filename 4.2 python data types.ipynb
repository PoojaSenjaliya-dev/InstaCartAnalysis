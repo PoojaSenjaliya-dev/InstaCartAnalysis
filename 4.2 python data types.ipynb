{
 "cells": [
  {
   "cell_type": "code",
   "execution_count": 6,
   "id": "f3c895b0-78bc-4188-8443-501cd0654a84",
   "metadata": {},
   "outputs": [],
   "source": [
    "# Import libraries\n",
    "import pandas as pd\n",
    "import numpy as np\n",
    "import os\n"
   ]
  },
  {
   "cell_type": "code",
   "execution_count": 69,
   "id": "73e1e9a1-0bee-4f7f-a06b-9fd93db9f2e0",
   "metadata": {},
   "outputs": [],
   "source": [
    "X = 2\n",
    "A= 6\n",
    "Y = 'pooja'\n",
    "S= 'Thummar'\n",
    "Z=1.5579"
   ]
  },
  {
   "cell_type": "code",
   "execution_count": 45,
   "id": "aaa265b2-b318-459d-8d8c-6b32da727e5b",
   "metadata": {},
   "outputs": [
    {
     "data": {
      "text/plain": [
       "(2, 'pooja', 1.5579)"
      ]
     },
     "execution_count": 45,
     "metadata": {},
     "output_type": "execute_result"
    }
   ],
   "source": [
    "X,Y,Z"
   ]
  },
  {
   "cell_type": "code",
   "execution_count": 47,
   "id": "56a20926-e365-4f1b-a09e-664df012acb4",
   "metadata": {},
   "outputs": [
    {
     "name": "stdout",
     "output_type": "stream",
     "text": [
      "pooja 2 1.5579\n"
     ]
    }
   ],
   "source": [
    "print(Y,X,Z)"
   ]
  },
  {
   "cell_type": "code",
   "execution_count": 37,
   "id": "11484945-4379-48b2-a1ca-bb11e6da929e",
   "metadata": {},
   "outputs": [
    {
     "data": {
      "text/plain": [
       "str"
      ]
     },
     "execution_count": 37,
     "metadata": {},
     "output_type": "execute_result"
    }
   ],
   "source": [
    "type (Y)"
   ]
  },
  {
   "cell_type": "code",
   "execution_count": 39,
   "id": "e6b7af6a-0a32-40d3-bc69-2b248933ca78",
   "metadata": {},
   "outputs": [
    {
     "data": {
      "text/plain": [
       "int"
      ]
     },
     "execution_count": 39,
     "metadata": {},
     "output_type": "execute_result"
    }
   ],
   "source": [
    "type(X)"
   ]
  },
  {
   "cell_type": "code",
   "execution_count": 49,
   "id": "feed400a-0045-446c-b163-091cf71a18c7",
   "metadata": {},
   "outputs": [
    {
     "data": {
      "text/plain": [
       "float"
      ]
     },
     "execution_count": 49,
     "metadata": {},
     "output_type": "execute_result"
    }
   ],
   "source": [
    "type(Z)"
   ]
  },
  {
   "cell_type": "code",
   "execution_count": 51,
   "id": "6f552da7-b524-4d24-aadf-b1d4ab0b931e",
   "metadata": {},
   "outputs": [
    {
     "data": {
      "text/plain": [
       "bool"
      ]
     },
     "execution_count": 51,
     "metadata": {},
     "output_type": "execute_result"
    }
   ],
   "source": [
    "type(True)"
   ]
  },
  {
   "cell_type": "code",
   "execution_count": 53,
   "id": "422595f9-b674-43c8-912a-167df60ff716",
   "metadata": {},
   "outputs": [
    {
     "data": {
      "text/plain": [
       "bool"
      ]
     },
     "execution_count": 53,
     "metadata": {},
     "output_type": "execute_result"
    }
   ],
   "source": [
    "type(False)"
   ]
  },
  {
   "cell_type": "code",
   "execution_count": 55,
   "id": "f3264fe7-3bb0-4fa3-a1b1-e5837ba190c7",
   "metadata": {},
   "outputs": [
    {
     "data": {
      "text/plain": [
       "6"
      ]
     },
     "execution_count": 55,
     "metadata": {},
     "output_type": "execute_result"
    }
   ],
   "source": [
    "X+ 4"
   ]
  },
  {
   "cell_type": "code",
   "execution_count": 61,
   "id": "23d4f0b5-7576-42b5-b0ed-8634118e7c19",
   "metadata": {},
   "outputs": [
    {
     "data": {
      "text/plain": [
       "8"
      ]
     },
     "execution_count": 61,
     "metadata": {},
     "output_type": "execute_result"
    }
   ],
   "source": [
    " X + A"
   ]
  },
  {
   "cell_type": "code",
   "execution_count": 63,
   "id": "0e37bbe7-ade5-443e-bcb1-c92857952bcb",
   "metadata": {},
   "outputs": [
    {
     "data": {
      "text/plain": [
       "3.5579"
      ]
     },
     "execution_count": 63,
     "metadata": {},
     "output_type": "execute_result"
    }
   ],
   "source": [
    "X + Z"
   ]
  },
  {
   "cell_type": "code",
   "execution_count": 65,
   "id": "490b72e4-04b9-470d-afc0-d5ad4392b0ad",
   "metadata": {},
   "outputs": [],
   "source": [
    "X =X +A"
   ]
  },
  {
   "cell_type": "code",
   "execution_count": 67,
   "id": "90bd9bc7-83e7-469b-ac62-56acc9f8a9f7",
   "metadata": {},
   "outputs": [
    {
     "data": {
      "text/plain": [
       "8"
      ]
     },
     "execution_count": 67,
     "metadata": {},
     "output_type": "execute_result"
    }
   ],
   "source": [
    "X"
   ]
  },
  {
   "cell_type": "code",
   "execution_count": 85,
   "id": "3efc08b7-ba3d-4fde-be0d-dfd238c486b9",
   "metadata": {},
   "outputs": [
    {
     "data": {
      "text/plain": [
       "'poojaThummar'"
      ]
     },
     "execution_count": 85,
     "metadata": {},
     "output_type": "execute_result"
    }
   ],
   "source": [
    "Y+S"
   ]
  },
  {
   "cell_type": "code",
   "execution_count": 75,
   "id": "19611def-da9f-478f-bd2c-5c4ff8deb903",
   "metadata": {},
   "outputs": [
    {
     "data": {
      "text/plain": [
       "'pooja Thummar'"
      ]
     },
     "execution_count": 75,
     "metadata": {},
     "output_type": "execute_result"
    }
   ],
   "source": [
    "Y +' '+ S"
   ]
  },
  {
   "cell_type": "code",
   "execution_count": 81,
   "id": "40b58776-89e2-49e9-b2c3-4ec1052c1e1f",
   "metadata": {},
   "outputs": [],
   "source": [
    "F= Y +' '+ S"
   ]
  },
  {
   "cell_type": "code",
   "execution_count": 83,
   "id": "e41e5741-600e-4a44-aaaf-1b49991f92f8",
   "metadata": {},
   "outputs": [
    {
     "data": {
      "text/plain": [
       "'pooja Thummar'"
      ]
     },
     "execution_count": 83,
     "metadata": {},
     "output_type": "execute_result"
    }
   ],
   "source": [
    "F"
   ]
  },
  {
   "cell_type": "code",
   "execution_count": 97,
   "id": "a2bf1499-fdf7-4bc5-8bd1-035459870fe9",
   "metadata": {},
   "outputs": [
    {
     "data": {
      "text/plain": [
       "'ThummarThummarThummar'"
      ]
     },
     "execution_count": 97,
     "metadata": {},
     "output_type": "execute_result"
    }
   ],
   "source": [
    "S* 3"
   ]
  },
  {
   "cell_type": "code",
   "execution_count": 93,
   "id": "ca2c4f08-3221-4a31-b5e7-f051d87969c7",
   "metadata": {},
   "outputs": [
    {
     "data": {
      "text/plain": [
       "'pooja Thummar,pooja Thummar,pooja Thummar,'"
      ]
     },
     "execution_count": 93,
     "metadata": {},
     "output_type": "execute_result"
    }
   ],
   "source": [
    "((Y+' '+S) +',' )* 3"
   ]
  },
  {
   "cell_type": "code",
   "execution_count": 99,
   "id": "a976526d-ec13-4aef-870b-81ece7bc88b9",
   "metadata": {},
   "outputs": [
    {
     "data": {
      "text/plain": [
       "False"
      ]
     },
     "execution_count": 99,
     "metadata": {},
     "output_type": "execute_result"
    }
   ],
   "source": [
    " X==Y"
   ]
  },
  {
   "cell_type": "code",
   "execution_count": 101,
   "id": "0ff5929b-edc6-462a-abb1-92977ba90360",
   "metadata": {},
   "outputs": [
    {
     "data": {
      "text/plain": [
       "False"
      ]
     },
     "execution_count": 101,
     "metadata": {},
     "output_type": "execute_result"
    }
   ],
   "source": [
    "X==A\n"
   ]
  },
  {
   "cell_type": "code",
   "execution_count": 103,
   "id": "93354ea0-27db-41d9-a5ba-37f92d162419",
   "metadata": {},
   "outputs": [
    {
     "data": {
      "text/plain": [
       "bool"
      ]
     },
     "execution_count": 103,
     "metadata": {},
     "output_type": "execute_result"
    }
   ],
   "source": [
    "type(X==A)"
   ]
  },
  {
   "cell_type": "code",
   "execution_count": 105,
   "id": "9759d752-33c5-4ebc-bd5a-2e55ff446faa",
   "metadata": {},
   "outputs": [
    {
     "data": {
      "text/plain": [
       "bool"
      ]
     },
     "execution_count": 105,
     "metadata": {},
     "output_type": "execute_result"
    }
   ],
   "source": [
    "type(X==Y)\n"
   ]
  },
  {
   "cell_type": "code",
   "execution_count": null,
   "id": "d936c5e3-deda-4d38-933c-a1208158ae73",
   "metadata": {},
   "outputs": [],
   "source": []
  }
 ],
 "metadata": {
  "kernelspec": {
   "display_name": "Python 3 (ipykernel)",
   "language": "python",
   "name": "python3"
  },
  "language_info": {
   "codemirror_mode": {
    "name": "ipython",
    "version": 3
   },
   "file_extension": ".py",
   "mimetype": "text/x-python",
   "name": "python",
   "nbconvert_exporter": "python",
   "pygments_lexer": "ipython3",
   "version": "3.12.4"
  }
 },
 "nbformat": 4,
 "nbformat_minor": 5
}
