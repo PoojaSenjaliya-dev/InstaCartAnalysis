{
 "cells": [
  {
   "cell_type": "markdown",
   "id": "d83e3770-ec75-41c6-aa9f-92117b209441",
   "metadata": {
    "jp-MarkdownHeadingCollapsed": true
   },
   "source": [
    "# Importing libraries"
   ]
  },
  {
   "cell_type": "code",
   "execution_count": 15,
   "id": "2b73eec9-14fb-40bf-b476-c7241f2e1c67",
   "metadata": {},
   "outputs": [],
   "source": [
    "import pandas as pd\n",
    "import numpy as np\n",
    "import os"
   ]
  },
  {
   "cell_type": "markdown",
   "id": "322a76fd-cb5d-4c44-98a2-5a4a061d0736",
   "metadata": {
    "jp-MarkdownHeadingCollapsed": true
   },
   "source": [
    "# Shortcut for Importing Data Files             ( order.csv)"
   ]
  },
  {
   "cell_type": "code",
   "execution_count": 17,
   "id": "fac9bbfa-9615-4a06-9117-f9cef7d42e89",
   "metadata": {},
   "outputs": [],
   "source": [
    "path = r'/Users/poojathummar/Documents/career Foundary/Data Immersion/Achi 4 Python Fundamentals for Data Analysts/Instacart Basket Analysis'"
   ]
  },
  {
   "cell_type": "code",
   "execution_count": 67,
   "id": "e04722eb-6c51-47a7-af59-a76da020f39f",
   "metadata": {},
   "outputs": [],
   "source": [
    "df_ords = pd.read_csv(os.path.join(path,'02 Data/Original Data/orders.csv'), index_col = False)"
   ]
  },
  {
   "cell_type": "markdown",
   "id": "3f740a0e-6a53-43d5-86b1-4bb263a79d70",
   "metadata": {
    "jp-MarkdownHeadingCollapsed": true
   },
   "source": [
    "# Shortcut for Importing Data Files            ( products.csv)"
   ]
  },
  {
   "cell_type": "code",
   "execution_count": 20,
   "id": "e75a579f-67ec-4c51-ac46-a9a9cc52c3a2",
   "metadata": {},
   "outputs": [],
   "source": [
    "path= r'/Users/poojathummar/Documents/career Foundary/Data Immersion/Achi 4 Python Fundamentals for Data Analysts/Instacart Basket Analysis'"
   ]
  },
  {
   "cell_type": "code",
   "execution_count": 21,
   "id": "966186df-a896-4bef-81fa-0350da7fc470",
   "metadata": {},
   "outputs": [],
   "source": [
    "df_prods= pd.read_csv(os.path.join(path,'02 Data/Original Data/products.csv'), index_col = False)"
   ]
  },
  {
   "cell_type": "markdown",
   "id": "f4aaac6f-3f34-4a67-986b-678435d989b6",
   "metadata": {
    "jp-MarkdownHeadingCollapsed": true
   },
   "source": [
    "# DATA WRANGLING  (products.csv)"
   ]
  },
  {
   "cell_type": "markdown",
   "id": "c90e8505-3e61-4466-b289-e91c16144ad9",
   "metadata": {
    "jp-MarkdownHeadingCollapsed": true
   },
   "source": [
    "## DROPPING CLOUMNS -> To remove the \"eval_set\" column from “orders.csv” using Drop() list.   (order.scv)"
   ]
  },
  {
   "cell_type": "code",
   "execution_count": 24,
   "id": "8a8304da-0be6-4454-a4a5-90b6d0d7710c",
   "metadata": {},
   "outputs": [
    {
     "data": {
      "text/html": [
       "<div>\n",
       "<style scoped>\n",
       "    .dataframe tbody tr th:only-of-type {\n",
       "        vertical-align: middle;\n",
       "    }\n",
       "\n",
       "    .dataframe tbody tr th {\n",
       "        vertical-align: top;\n",
       "    }\n",
       "\n",
       "    .dataframe thead th {\n",
       "        text-align: right;\n",
       "    }\n",
       "</style>\n",
       "<table border=\"1\" class=\"dataframe\">\n",
       "  <thead>\n",
       "    <tr style=\"text-align: right;\">\n",
       "      <th></th>\n",
       "      <th>order_id</th>\n",
       "      <th>user_id</th>\n",
       "      <th>order_number</th>\n",
       "      <th>order_dow</th>\n",
       "      <th>order_hour_of_day</th>\n",
       "      <th>days_since_prior_order</th>\n",
       "    </tr>\n",
       "  </thead>\n",
       "  <tbody>\n",
       "    <tr>\n",
       "      <th>0</th>\n",
       "      <td>2539329</td>\n",
       "      <td>1</td>\n",
       "      <td>1</td>\n",
       "      <td>2</td>\n",
       "      <td>8</td>\n",
       "      <td>NaN</td>\n",
       "    </tr>\n",
       "    <tr>\n",
       "      <th>1</th>\n",
       "      <td>2398795</td>\n",
       "      <td>1</td>\n",
       "      <td>2</td>\n",
       "      <td>3</td>\n",
       "      <td>7</td>\n",
       "      <td>15.0</td>\n",
       "    </tr>\n",
       "    <tr>\n",
       "      <th>2</th>\n",
       "      <td>473747</td>\n",
       "      <td>1</td>\n",
       "      <td>3</td>\n",
       "      <td>3</td>\n",
       "      <td>12</td>\n",
       "      <td>21.0</td>\n",
       "    </tr>\n",
       "    <tr>\n",
       "      <th>3</th>\n",
       "      <td>2254736</td>\n",
       "      <td>1</td>\n",
       "      <td>4</td>\n",
       "      <td>4</td>\n",
       "      <td>7</td>\n",
       "      <td>29.0</td>\n",
       "    </tr>\n",
       "    <tr>\n",
       "      <th>4</th>\n",
       "      <td>431534</td>\n",
       "      <td>1</td>\n",
       "      <td>5</td>\n",
       "      <td>4</td>\n",
       "      <td>15</td>\n",
       "      <td>28.0</td>\n",
       "    </tr>\n",
       "    <tr>\n",
       "      <th>...</th>\n",
       "      <td>...</td>\n",
       "      <td>...</td>\n",
       "      <td>...</td>\n",
       "      <td>...</td>\n",
       "      <td>...</td>\n",
       "      <td>...</td>\n",
       "    </tr>\n",
       "    <tr>\n",
       "      <th>3421078</th>\n",
       "      <td>2266710</td>\n",
       "      <td>206209</td>\n",
       "      <td>10</td>\n",
       "      <td>5</td>\n",
       "      <td>18</td>\n",
       "      <td>29.0</td>\n",
       "    </tr>\n",
       "    <tr>\n",
       "      <th>3421079</th>\n",
       "      <td>1854736</td>\n",
       "      <td>206209</td>\n",
       "      <td>11</td>\n",
       "      <td>4</td>\n",
       "      <td>10</td>\n",
       "      <td>30.0</td>\n",
       "    </tr>\n",
       "    <tr>\n",
       "      <th>3421080</th>\n",
       "      <td>626363</td>\n",
       "      <td>206209</td>\n",
       "      <td>12</td>\n",
       "      <td>1</td>\n",
       "      <td>12</td>\n",
       "      <td>18.0</td>\n",
       "    </tr>\n",
       "    <tr>\n",
       "      <th>3421081</th>\n",
       "      <td>2977660</td>\n",
       "      <td>206209</td>\n",
       "      <td>13</td>\n",
       "      <td>1</td>\n",
       "      <td>12</td>\n",
       "      <td>7.0</td>\n",
       "    </tr>\n",
       "    <tr>\n",
       "      <th>3421082</th>\n",
       "      <td>272231</td>\n",
       "      <td>206209</td>\n",
       "      <td>14</td>\n",
       "      <td>6</td>\n",
       "      <td>14</td>\n",
       "      <td>30.0</td>\n",
       "    </tr>\n",
       "  </tbody>\n",
       "</table>\n",
       "<p>3421083 rows × 6 columns</p>\n",
       "</div>"
      ],
      "text/plain": [
       "         order_id  user_id  order_number  order_dow  order_hour_of_day  \\\n",
       "0         2539329        1             1          2                  8   \n",
       "1         2398795        1             2          3                  7   \n",
       "2          473747        1             3          3                 12   \n",
       "3         2254736        1             4          4                  7   \n",
       "4          431534        1             5          4                 15   \n",
       "...           ...      ...           ...        ...                ...   \n",
       "3421078   2266710   206209            10          5                 18   \n",
       "3421079   1854736   206209            11          4                 10   \n",
       "3421080    626363   206209            12          1                 12   \n",
       "3421081   2977660   206209            13          1                 12   \n",
       "3421082    272231   206209            14          6                 14   \n",
       "\n",
       "         days_since_prior_order  \n",
       "0                           NaN  \n",
       "1                          15.0  \n",
       "2                          21.0  \n",
       "3                          29.0  \n",
       "4                          28.0  \n",
       "...                         ...  \n",
       "3421078                    29.0  \n",
       "3421079                    30.0  \n",
       "3421080                    18.0  \n",
       "3421081                     7.0  \n",
       "3421082                    30.0  \n",
       "\n",
       "[3421083 rows x 6 columns]"
      ]
     },
     "execution_count": 24,
     "metadata": {},
     "output_type": "execute_result"
    }
   ],
   "source": [
    "df_ords.drop(columns = ['eval_set'])"
   ]
  },
  {
   "cell_type": "markdown",
   "id": "3a78baa3-9e63-4c10-b570-482f56d622c1",
   "metadata": {},
   "source": [
    "### --> to remove the \"eval_set\" column from df_ords            (order.csv)"
   ]
  },
  {
   "cell_type": "code",
   "execution_count": 26,
   "id": "ab4b0a22-4a13-4503-9520-9e40cfb72a2b",
   "metadata": {},
   "outputs": [],
   "source": [
    "df_ords = df_ords.drop(columns = ['eval_set'])"
   ]
  },
  {
   "cell_type": "markdown",
   "id": "4053b860-f0c3-4d51-a212-1fc9ecc8a627",
   "metadata": {},
   "source": [
    "## ---> to create a new version of df_ords without the \"eval_set\" column called df_ords_2       (order.csv)"
   ]
  },
  {
   "cell_type": "code",
   "execution_count": 69,
   "id": "5e3050ba-a1bf-43f1-8b9c-aaebb9f4f7c3",
   "metadata": {},
   "outputs": [],
   "source": [
    "df_ords_2 = df_ords.drop(columns = ['eval_set'])"
   ]
  },
  {
   "cell_type": "markdown",
   "id": "882ae963-2afe-4373-9622-c4211bc26f60",
   "metadata": {
    "jp-MarkdownHeadingCollapsed": true
   },
   "source": [
    "## ----> spot the missing (NaN) valuein  df_ords dataframe on the \"days_since_prior_order\" columns using the value_counts()  (order.csv)  "
   ]
  },
  {
   "cell_type": "code",
   "execution_count": 71,
   "id": "6a82ab2b-ace9-46c0-9199-9ab6e09c636a",
   "metadata": {},
   "outputs": [
    {
     "data": {
      "text/plain": [
       "days_since_prior_order\n",
       "30.0    369323\n",
       "7.0     320608\n",
       "6.0     240013\n",
       "4.0     221696\n",
       "3.0     217005\n",
       "5.0     214503\n",
       "NaN     206209\n",
       "2.0     193206\n",
       "8.0     181717\n",
       "1.0     145247\n",
       "9.0     118188\n",
       "14.0    100230\n",
       "10.0     95186\n",
       "13.0     83214\n",
       "11.0     80970\n",
       "12.0     76146\n",
       "0.0      67755\n",
       "15.0     66579\n",
       "16.0     46941\n",
       "21.0     45470\n",
       "17.0     39245\n",
       "20.0     38527\n",
       "18.0     35881\n",
       "19.0     34384\n",
       "22.0     32012\n",
       "28.0     26777\n",
       "23.0     23885\n",
       "27.0     22013\n",
       "24.0     20712\n",
       "25.0     19234\n",
       "29.0     19191\n",
       "26.0     19016\n",
       "Name: count, dtype: int64"
      ]
     },
     "execution_count": 71,
     "metadata": {},
     "output_type": "execute_result"
    }
   ],
   "source": [
    "df_ords['days_since_prior_order'].value_counts(dropna = False)"
   ]
  },
  {
   "cell_type": "markdown",
   "id": "a310f3c7-19d8-4281-a865-6b6d87fb98c3",
   "metadata": {
    "jp-MarkdownHeadingCollapsed": true
   },
   "source": [
    "##  RENAMING COLUMNS ->To change the name of a column, use the df.rename() function        (order.csv)"
   ]
  },
  {
   "cell_type": "code",
   "execution_count": 73,
   "id": "b3d06b5a-ce3c-45bb-a87e-de914f109926",
   "metadata": {},
   "outputs": [],
   "source": [
    "df_ords.rename(columns = {'order_dow' : 'orders_day_of_week'}, inplace = True)"
   ]
  },
  {
   "cell_type": "code",
   "execution_count": 75,
   "id": "1b7a9ba0-bf42-43e4-aaf7-df1a669fb7ec",
   "metadata": {},
   "outputs": [
    {
     "data": {
      "text/html": [
       "<div>\n",
       "<style scoped>\n",
       "    .dataframe tbody tr th:only-of-type {\n",
       "        vertical-align: middle;\n",
       "    }\n",
       "\n",
       "    .dataframe tbody tr th {\n",
       "        vertical-align: top;\n",
       "    }\n",
       "\n",
       "    .dataframe thead th {\n",
       "        text-align: right;\n",
       "    }\n",
       "</style>\n",
       "<table border=\"1\" class=\"dataframe\">\n",
       "  <thead>\n",
       "    <tr style=\"text-align: right;\">\n",
       "      <th></th>\n",
       "      <th>order_id</th>\n",
       "      <th>user_id</th>\n",
       "      <th>eval_set</th>\n",
       "      <th>order_number</th>\n",
       "      <th>orders_day_of_week</th>\n",
       "      <th>order_hour_of_day</th>\n",
       "      <th>days_since_prior_order</th>\n",
       "    </tr>\n",
       "  </thead>\n",
       "  <tbody>\n",
       "    <tr>\n",
       "      <th>0</th>\n",
       "      <td>2539329</td>\n",
       "      <td>1</td>\n",
       "      <td>prior</td>\n",
       "      <td>1</td>\n",
       "      <td>2</td>\n",
       "      <td>8</td>\n",
       "      <td>NaN</td>\n",
       "    </tr>\n",
       "    <tr>\n",
       "      <th>1</th>\n",
       "      <td>2398795</td>\n",
       "      <td>1</td>\n",
       "      <td>prior</td>\n",
       "      <td>2</td>\n",
       "      <td>3</td>\n",
       "      <td>7</td>\n",
       "      <td>15.0</td>\n",
       "    </tr>\n",
       "    <tr>\n",
       "      <th>2</th>\n",
       "      <td>473747</td>\n",
       "      <td>1</td>\n",
       "      <td>prior</td>\n",
       "      <td>3</td>\n",
       "      <td>3</td>\n",
       "      <td>12</td>\n",
       "      <td>21.0</td>\n",
       "    </tr>\n",
       "    <tr>\n",
       "      <th>3</th>\n",
       "      <td>2254736</td>\n",
       "      <td>1</td>\n",
       "      <td>prior</td>\n",
       "      <td>4</td>\n",
       "      <td>4</td>\n",
       "      <td>7</td>\n",
       "      <td>29.0</td>\n",
       "    </tr>\n",
       "    <tr>\n",
       "      <th>4</th>\n",
       "      <td>431534</td>\n",
       "      <td>1</td>\n",
       "      <td>prior</td>\n",
       "      <td>5</td>\n",
       "      <td>4</td>\n",
       "      <td>15</td>\n",
       "      <td>28.0</td>\n",
       "    </tr>\n",
       "  </tbody>\n",
       "</table>\n",
       "</div>"
      ],
      "text/plain": [
       "   order_id  user_id eval_set  order_number  orders_day_of_week  \\\n",
       "0   2539329        1    prior             1                   2   \n",
       "1   2398795        1    prior             2                   3   \n",
       "2    473747        1    prior             3                   3   \n",
       "3   2254736        1    prior             4                   4   \n",
       "4    431534        1    prior             5                   4   \n",
       "\n",
       "   order_hour_of_day  days_since_prior_order  \n",
       "0                  8                     NaN  \n",
       "1                  7                    15.0  \n",
       "2                 12                    21.0  \n",
       "3                  7                    29.0  \n",
       "4                 15                    28.0  "
      ]
     },
     "execution_count": 75,
     "metadata": {},
     "output_type": "execute_result"
    }
   ],
   "source": [
    "df_ords.head()"
   ]
  },
  {
   "cell_type": "code",
   "execution_count": 55,
   "id": "7ea8857a-ef76-454d-96d5-492a97a057b7",
   "metadata": {},
   "outputs": [
    {
     "data": {
      "text/html": [
       "<div>\n",
       "<style scoped>\n",
       "    .dataframe tbody tr th:only-of-type {\n",
       "        vertical-align: middle;\n",
       "    }\n",
       "\n",
       "    .dataframe tbody tr th {\n",
       "        vertical-align: top;\n",
       "    }\n",
       "\n",
       "    .dataframe thead th {\n",
       "        text-align: right;\n",
       "    }\n",
       "</style>\n",
       "<table border=\"1\" class=\"dataframe\">\n",
       "  <thead>\n",
       "    <tr style=\"text-align: right;\">\n",
       "      <th></th>\n",
       "      <th>order_id</th>\n",
       "      <th>user_id</th>\n",
       "      <th>order_number</th>\n",
       "      <th>orders_day_of_week</th>\n",
       "      <th>order_hour_of_day</th>\n",
       "      <th>days_since_prior_order</th>\n",
       "    </tr>\n",
       "  </thead>\n",
       "  <tbody>\n",
       "    <tr>\n",
       "      <th>count</th>\n",
       "      <td>3.421083e+06</td>\n",
       "      <td>3.421083e+06</td>\n",
       "      <td>3.421083e+06</td>\n",
       "      <td>3.421083e+06</td>\n",
       "      <td>3.421083e+06</td>\n",
       "      <td>3.214874e+06</td>\n",
       "    </tr>\n",
       "    <tr>\n",
       "      <th>mean</th>\n",
       "      <td>1.710542e+06</td>\n",
       "      <td>1.029782e+05</td>\n",
       "      <td>1.715486e+01</td>\n",
       "      <td>2.776219e+00</td>\n",
       "      <td>1.345202e+01</td>\n",
       "      <td>1.111484e+01</td>\n",
       "    </tr>\n",
       "    <tr>\n",
       "      <th>std</th>\n",
       "      <td>9.875817e+05</td>\n",
       "      <td>5.953372e+04</td>\n",
       "      <td>1.773316e+01</td>\n",
       "      <td>2.046829e+00</td>\n",
       "      <td>4.226088e+00</td>\n",
       "      <td>9.206737e+00</td>\n",
       "    </tr>\n",
       "    <tr>\n",
       "      <th>min</th>\n",
       "      <td>1.000000e+00</td>\n",
       "      <td>1.000000e+00</td>\n",
       "      <td>1.000000e+00</td>\n",
       "      <td>0.000000e+00</td>\n",
       "      <td>0.000000e+00</td>\n",
       "      <td>0.000000e+00</td>\n",
       "    </tr>\n",
       "    <tr>\n",
       "      <th>25%</th>\n",
       "      <td>8.552715e+05</td>\n",
       "      <td>5.139400e+04</td>\n",
       "      <td>5.000000e+00</td>\n",
       "      <td>1.000000e+00</td>\n",
       "      <td>1.000000e+01</td>\n",
       "      <td>4.000000e+00</td>\n",
       "    </tr>\n",
       "    <tr>\n",
       "      <th>50%</th>\n",
       "      <td>1.710542e+06</td>\n",
       "      <td>1.026890e+05</td>\n",
       "      <td>1.100000e+01</td>\n",
       "      <td>3.000000e+00</td>\n",
       "      <td>1.300000e+01</td>\n",
       "      <td>7.000000e+00</td>\n",
       "    </tr>\n",
       "    <tr>\n",
       "      <th>75%</th>\n",
       "      <td>2.565812e+06</td>\n",
       "      <td>1.543850e+05</td>\n",
       "      <td>2.300000e+01</td>\n",
       "      <td>5.000000e+00</td>\n",
       "      <td>1.600000e+01</td>\n",
       "      <td>1.500000e+01</td>\n",
       "    </tr>\n",
       "    <tr>\n",
       "      <th>max</th>\n",
       "      <td>3.421083e+06</td>\n",
       "      <td>2.062090e+05</td>\n",
       "      <td>1.000000e+02</td>\n",
       "      <td>6.000000e+00</td>\n",
       "      <td>2.300000e+01</td>\n",
       "      <td>3.000000e+01</td>\n",
       "    </tr>\n",
       "  </tbody>\n",
       "</table>\n",
       "</div>"
      ],
      "text/plain": [
       "           order_id       user_id  order_number  orders_day_of_week  \\\n",
       "count  3.421083e+06  3.421083e+06  3.421083e+06        3.421083e+06   \n",
       "mean   1.710542e+06  1.029782e+05  1.715486e+01        2.776219e+00   \n",
       "std    9.875817e+05  5.953372e+04  1.773316e+01        2.046829e+00   \n",
       "min    1.000000e+00  1.000000e+00  1.000000e+00        0.000000e+00   \n",
       "25%    8.552715e+05  5.139400e+04  5.000000e+00        1.000000e+00   \n",
       "50%    1.710542e+06  1.026890e+05  1.100000e+01        3.000000e+00   \n",
       "75%    2.565812e+06  1.543850e+05  2.300000e+01        5.000000e+00   \n",
       "max    3.421083e+06  2.062090e+05  1.000000e+02        6.000000e+00   \n",
       "\n",
       "       order_hour_of_day  days_since_prior_order  \n",
       "count       3.421083e+06            3.214874e+06  \n",
       "mean        1.345202e+01            1.111484e+01  \n",
       "std         4.226088e+00            9.206737e+00  \n",
       "min         0.000000e+00            0.000000e+00  \n",
       "25%         1.000000e+01            4.000000e+00  \n",
       "50%         1.300000e+01            7.000000e+00  \n",
       "75%         1.600000e+01            1.500000e+01  \n",
       "max         2.300000e+01            3.000000e+01  "
      ]
     },
     "execution_count": 55,
     "metadata": {},
     "output_type": "execute_result"
    }
   ],
   "source": [
    "df_ords.describe()"
   ]
  },
  {
   "cell_type": "markdown",
   "id": "ed3a6b2c-1589-46e1-81ad-332fc1d40bf6",
   "metadata": {},
   "source": [
    "## CHANGING VARIABLE'S DATA TYPE -> changes the data type of the \"order_id\" column from a number to a string   (ORDERS.CSV)"
   ]
  },
  {
   "cell_type": "code",
   "execution_count": 77,
   "id": "e6a11015-f707-4cea-8443-94761a81b1bf",
   "metadata": {},
   "outputs": [],
   "source": [
    "df_ords['order_id'] = df_ords['order_id'].astype('str')"
   ]
  },
  {
   "cell_type": "markdown",
   "id": "8b1dc0a4-28a6-4c28-94b0-72bf5d17a2bd",
   "metadata": {
    "jp-MarkdownHeadingCollapsed": true
   },
   "source": [
    "### --> to check datatype of single colimns with dtype() function  (order.csv)"
   ]
  },
  {
   "cell_type": "code",
   "execution_count": 59,
   "id": "43bf8c4d-8030-4428-9e35-d15864eb50c0",
   "metadata": {},
   "outputs": [
    {
     "data": {
      "text/plain": [
       "dtype('O')"
      ]
     },
     "execution_count": 59,
     "metadata": {},
     "output_type": "execute_result"
    }
   ],
   "source": [
    "df_ords['order_id'].dtype"
   ]
  },
  {
   "cell_type": "markdown",
   "id": "27b81ef2-8be1-4ae0-a96a-fbefe2cf35a9",
   "metadata": {
    "jp-MarkdownHeadingCollapsed": true
   },
   "source": [
    "# TRANSPOSING --->import csv file    (department.cvs)"
   ]
  },
  {
   "cell_type": "code",
   "execution_count": 61,
   "id": "b2ce5215-ae11-4783-af66-537c45432650",
   "metadata": {},
   "outputs": [],
   "source": [
    "df_dep = pd.read_csv(os.path.join(path,'02 Data/Original Data/departments.csv'), index_col = False)"
   ]
  },
  {
   "cell_type": "code",
   "execution_count": 63,
   "id": "5467011b-239f-43a4-a0c3-4e40fde068c5",
   "metadata": {},
   "outputs": [
    {
     "data": {
      "text/html": [
       "<div>\n",
       "<style scoped>\n",
       "    .dataframe tbody tr th:only-of-type {\n",
       "        vertical-align: middle;\n",
       "    }\n",
       "\n",
       "    .dataframe tbody tr th {\n",
       "        vertical-align: top;\n",
       "    }\n",
       "\n",
       "    .dataframe thead th {\n",
       "        text-align: right;\n",
       "    }\n",
       "</style>\n",
       "<table border=\"1\" class=\"dataframe\">\n",
       "  <thead>\n",
       "    <tr style=\"text-align: right;\">\n",
       "      <th></th>\n",
       "      <th>department_id</th>\n",
       "      <th>1</th>\n",
       "      <th>2</th>\n",
       "      <th>3</th>\n",
       "      <th>4</th>\n",
       "      <th>5</th>\n",
       "      <th>6</th>\n",
       "      <th>7</th>\n",
       "      <th>8</th>\n",
       "      <th>9</th>\n",
       "      <th>...</th>\n",
       "      <th>12</th>\n",
       "      <th>13</th>\n",
       "      <th>14</th>\n",
       "      <th>15</th>\n",
       "      <th>16</th>\n",
       "      <th>17</th>\n",
       "      <th>18</th>\n",
       "      <th>19</th>\n",
       "      <th>20</th>\n",
       "      <th>21</th>\n",
       "    </tr>\n",
       "  </thead>\n",
       "  <tbody>\n",
       "    <tr>\n",
       "      <th>0</th>\n",
       "      <td>department</td>\n",
       "      <td>frozen</td>\n",
       "      <td>other</td>\n",
       "      <td>bakery</td>\n",
       "      <td>produce</td>\n",
       "      <td>alcohol</td>\n",
       "      <td>international</td>\n",
       "      <td>beverages</td>\n",
       "      <td>pets</td>\n",
       "      <td>dry goods pasta</td>\n",
       "      <td>...</td>\n",
       "      <td>meat seafood</td>\n",
       "      <td>pantry</td>\n",
       "      <td>breakfast</td>\n",
       "      <td>canned goods</td>\n",
       "      <td>dairy eggs</td>\n",
       "      <td>household</td>\n",
       "      <td>babies</td>\n",
       "      <td>snacks</td>\n",
       "      <td>deli</td>\n",
       "      <td>missing</td>\n",
       "    </tr>\n",
       "  </tbody>\n",
       "</table>\n",
       "<p>1 rows × 22 columns</p>\n",
       "</div>"
      ],
      "text/plain": [
       "  department_id       1      2       3        4        5              6  \\\n",
       "0    department  frozen  other  bakery  produce  alcohol  international   \n",
       "\n",
       "           7     8                9  ...            12      13         14  \\\n",
       "0  beverages  pets  dry goods pasta  ...  meat seafood  pantry  breakfast   \n",
       "\n",
       "             15          16         17      18      19    20       21  \n",
       "0  canned goods  dairy eggs  household  babies  snacks  deli  missing  \n",
       "\n",
       "[1 rows x 22 columns]"
      ]
     },
     "execution_count": 63,
     "metadata": {},
     "output_type": "execute_result"
    }
   ],
   "source": [
    "df_dep.head(10)"
   ]
  },
  {
   "cell_type": "markdown",
   "id": "33e7c2d2-c922-4c40-8c71-01b59ef2b29d",
   "metadata": {},
   "source": [
    "## TRANSPOSING DATA --> to transpose wode table to long table or visa-versa   (departments.csv)"
   ]
  },
  {
   "cell_type": "code",
   "execution_count": null,
   "id": "ee081dc9-6f1d-4dbf-9576-496360dd7329",
   "metadata": {},
   "outputs": [],
   "source": [
    "df_dep.T"
   ]
  },
  {
   "cell_type": "markdown",
   "id": "1a5562ed-05ee-4367-8540-6a0631afe122",
   "metadata": {},
   "source": [
    "## --->to overwrite the old df_dep dataframe with the new transposed df_dep dataframe (departments.csv)"
   ]
  },
  {
   "cell_type": "code",
   "execution_count": null,
   "id": "740cc598-15f9-441c-9289-3d2d3737fba5",
   "metadata": {},
   "outputs": [],
   "source": [
    "df_dep_t = df_dep.T"
   ]
  },
  {
   "cell_type": "code",
   "execution_count": null,
   "id": "b163c98b-e534-4ca5-a56f-fe188d843f0c",
   "metadata": {},
   "outputs": [],
   "source": [
    "df_dep_t"
   ]
  },
  {
   "cell_type": "markdown",
   "id": "bf769a93-7d19-4f76-8658-8a45e905e6de",
   "metadata": {},
   "source": [
    "## to reset index    (departments.csv)"
   ]
  },
  {
   "cell_type": "code",
   "execution_count": null,
   "id": "c71c8bfa-1aee-47b9-9e57-0d09f3bf3549",
   "metadata": {},
   "outputs": [],
   "source": [
    "df_dep_t.reset_index()"
   ]
  },
  {
   "cell_type": "markdown",
   "id": "7cb4878b-bc11-446e-a09a-e6907f9864e7",
   "metadata": {},
   "source": [
    "## to  creating an object that contains the first row of the dataframe, row 0    (departments.csv)"
   ]
  },
  {
   "cell_type": "code",
   "execution_count": null,
   "id": "cbabd075-bb46-4831-998e-3f3fe4cf32e4",
   "metadata": {},
   "outputs": [],
   "source": [
    "new_header = df_dep_t.iloc[0]"
   ]
  },
  {
   "cell_type": "code",
   "execution_count": null,
   "id": "72730057-cf63-4c89-8c9e-6c5293a8f451",
   "metadata": {},
   "outputs": [],
   "source": [
    "new_header"
   ]
  },
  {
   "cell_type": "markdown",
   "id": "02ef0c80-464c-4a59-95a9-4dee343e86f1",
   "metadata": {},
   "source": [
    "## to create a new dataframe that only copies over rows beyond the first row  (departments.csv)"
   ]
  },
  {
   "cell_type": "code",
   "execution_count": null,
   "id": "e23cf2c6-543a-41ca-a5b5-d37a9f60d5b7",
   "metadata": {},
   "outputs": [],
   "source": [
    "df_dep_t_new = df_dep_t[1:]"
   ]
  },
  {
   "cell_type": "code",
   "execution_count": null,
   "id": "712862a5-dd51-4ef0-892d-e8815afa4052",
   "metadata": {},
   "outputs": [],
   "source": [
    "df_dep_t_new"
   ]
  },
  {
   "cell_type": "markdown",
   "id": "818bd460-ae66-4096-a720-17e4a3ca1dcc",
   "metadata": {},
   "source": [
    "## to do now is set  \"new_header\" variable as the new header for your \"df_dep_t_new\" dataframe.   (departments.csv)"
   ]
  },
  {
   "cell_type": "code",
   "execution_count": null,
   "id": "e5a85a5c-deaf-4600-a947-116f66d96b36",
   "metadata": {},
   "outputs": [],
   "source": [
    "df_dep_t_new.columns = new_header"
   ]
  },
  {
   "cell_type": "code",
   "execution_count": null,
   "id": "d6557bbb-5e36-4478-b507-7c188119b82c",
   "metadata": {},
   "outputs": [],
   "source": [
    "df_dep_t_new"
   ]
  },
  {
   "cell_type": "markdown",
   "id": "86f376e7-2be9-475d-9703-8cab1cc63ae2",
   "metadata": {
    "jp-MarkdownHeadingCollapsed": true
   },
   "source": [
    "# **DATA DICTIONARIES**"
   ]
  },
  {
   "cell_type": "markdown",
   "id": "dfab853f-cce6-4a46-882a-8146ce4bc128",
   "metadata": {
    "jp-MarkdownHeadingCollapsed": true
   },
   "source": [
    "##  to create a data dictionary that contains meanings for the values in the \"department_id\" column    (departments.csv)"
   ]
  },
  {
   "cell_type": "code",
   "execution_count": null,
   "id": "711f39d5-4e09-452a-a8bf-4775f16e8b09",
   "metadata": {},
   "outputs": [],
   "source": [
    "data_dict = df_dep_t_new.to_dict('index')"
   ]
  },
  {
   "cell_type": "code",
   "execution_count": null,
   "id": "bed9f92f-c255-43a8-b48d-08c742d58c04",
   "metadata": {},
   "outputs": [],
   "source": [
    "data_dict"
   ]
  },
  {
   "cell_type": "code",
   "execution_count": null,
   "id": "a501ddd6-b564-4861-a0a6-0651f8f2b2aa",
   "metadata": {},
   "outputs": [],
   "source": [
    "print(data_dict.get('19'))"
   ]
  },
  {
   "cell_type": "markdown",
   "id": "a6c64d09-b4f8-4983-a1f3-52d5cd71df40",
   "metadata": {},
   "source": [
    "## to see the first five rows from     (products.csv)"
   ]
  },
  {
   "cell_type": "code",
   "execution_count": null,
   "id": "624f77bb-a90a-408a-af1f-effa14a949be",
   "metadata": {},
   "outputs": [],
   "source": [
    "df_prods.head()"
   ]
  },
  {
   "cell_type": "markdown",
   "id": "4811ac0e-f2e3-4eb8-b423-18fd91ea2317",
   "metadata": {
    "jp-MarkdownHeadingCollapsed": true
   },
   "source": [
    "# **SUBSETTING**"
   ]
  },
  {
   "cell_type": "markdown",
   "id": "87999655-342d-4b7e-a75e-e2e135ae470c",
   "metadata": {},
   "source": [
    "##  to create a subset for your df_prods dataframe     (products.csv)"
   ]
  },
  {
   "cell_type": "code",
   "execution_count": null,
   "id": "073a3196-2cba-472d-bf61-22b3786748ae",
   "metadata": {},
   "outputs": [],
   "source": [
    "df_snacks =  df_prods[df_prods['department_id']==19] #df_snacks->(departments.csv) \n"
   ]
  },
  {
   "cell_type": "code",
   "execution_count": null,
   "id": "43cd5651-0e83-447b-b99e-0e825362c6bf",
   "metadata": {},
   "outputs": [],
   "source": [
    "df_prods['department_id']==19\n"
   ]
  },
  {
   "cell_type": "code",
   "execution_count": null,
   "id": "91f0fc89-ee1e-493b-b61e-e339421712f7",
   "metadata": {},
   "outputs": [],
   "source": [
    "df_prods[df_prods['department_id' ]==19]"
   ]
  },
  {
   "cell_type": "markdown",
   "id": "6f487e01-2478-4381-8652-52ad00300f98",
   "metadata": {},
   "source": [
    "## to save these results into a new dataframe"
   ]
  },
  {
   "cell_type": "code",
   "execution_count": null,
   "id": "f55e861d-f3ac-416c-a13b-9b1e850751c6",
   "metadata": {},
   "outputs": [],
   "source": [
    "df_snacks =  df_prods[df_prods['department_id']==19]\n"
   ]
  },
  {
   "cell_type": "code",
   "execution_count": null,
   "id": "562f9674-d481-4296-bce4-ff8802023735",
   "metadata": {},
   "outputs": [],
   "source": [
    "df_snacks.head()"
   ]
  },
  {
   "cell_type": "code",
   "execution_count": null,
   "id": "88c8103a-cace-4a91-9c80-d681d137898c",
   "metadata": {},
   "outputs": [],
   "source": [
    "df_snacks_2 = df_prods.loc[df_prods['department_id'] == 19]\n"
   ]
  },
  {
   "cell_type": "code",
   "execution_count": null,
   "id": "265af2d5-0e3c-4827-affe-0cc487b86feb",
   "metadata": {},
   "outputs": [],
   "source": [
    "df_snacks_2"
   ]
  },
  {
   "cell_type": "code",
   "execution_count": null,
   "id": "cbf7354f-599b-45c5-9ada-4e625133cdd4",
   "metadata": {},
   "outputs": [],
   "source": [
    "df_snacks_3 = df_prods.loc[df_prods['department_id'].isin([19,17,18])]"
   ]
  },
  {
   "cell_type": "code",
   "execution_count": null,
   "id": "a1c3a285-9452-45cc-ae90-945996cc1b7d",
   "metadata": {},
   "outputs": [],
   "source": [
    "df_snacks_3"
   ]
  },
  {
   "cell_type": "markdown",
   "id": "bcefb309-2a2e-4a16-9216-ce3dacbfb975",
   "metadata": {
    "jp-MarkdownHeadingCollapsed": true
   },
   "source": [
    "# **EXPORTING DATAFRAMES**"
   ]
  },
  {
   "cell_type": "code",
   "execution_count": 79,
   "id": "7ba6a50c-b794-4f4d-9856-cbdddac5bda6",
   "metadata": {},
   "outputs": [],
   "source": [
    "df_ords.to_csv(os.path.join(path, '02 Data','Prepared Data', 'orders_wrangled4.4.csv'),index=False)"
   ]
  },
  {
   "cell_type": "code",
   "execution_count": null,
   "id": "6402b441-1340-4548-880a-db4954d541c5",
   "metadata": {},
   "outputs": [],
   "source": []
  }
 ],
 "metadata": {
  "kernelspec": {
   "display_name": "Python 3 (ipykernel)",
   "language": "python",
   "name": "python3"
  },
  "language_info": {
   "codemirror_mode": {
    "name": "ipython",
    "version": 3
   },
   "file_extension": ".py",
   "mimetype": "text/x-python",
   "name": "python",
   "nbconvert_exporter": "python",
   "pygments_lexer": "ipython3",
   "version": "3.12.4"
  }
 },
 "nbformat": 4,
 "nbformat_minor": 5
}
