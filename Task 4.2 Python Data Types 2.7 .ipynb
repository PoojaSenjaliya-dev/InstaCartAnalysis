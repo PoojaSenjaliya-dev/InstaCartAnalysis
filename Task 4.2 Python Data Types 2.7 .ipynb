{
 "cells": [
  {
   "cell_type": "markdown",
   "id": "31d167a5-e52f-438f-8178-4e58ac731bcd",
   "metadata": {},
   "source": [
    "# Import libraries\n"
   ]
  },
  {
   "cell_type": "code",
   "execution_count": 2,
   "id": "9b9fd65d-09a8-4abb-9082-5e3bf63cb696",
   "metadata": {},
   "outputs": [],
   "source": [
    "import pandas as pd\n",
    "import numpy as np\n",
    "import os"
   ]
  },
  {
   "cell_type": "markdown",
   "id": "b4ff3a52-2562-4e4b-9a64-7f295e348867",
   "metadata": {},
   "source": [
    "# Coding Section for Python Datatypes"
   ]
  },
  {
   "cell_type": "code",
   "execution_count": 126,
   "id": "11274ed8-2fba-4383-9a4e-254e448f00fa",
   "metadata": {},
   "outputs": [],
   "source": [
    "A= 50\n",
    "B= 25 \n",
    "C= 25\n",
    "D=25\n",
    "E=5.267\n",
    "F= 23.579\n",
    "G= 18.50\n",
    "I=6.5\n",
    "X='pooja'\n",
    "Y='Senjaliya'\n",
    "T=True\n",
    "K=False"
   ]
  },
  {
   "cell_type": "code",
   "execution_count": 87,
   "id": "3e3ea0e2-fd60-472b-90a9-7ed5d113dc8c",
   "metadata": {},
   "outputs": [
    {
     "data": {
      "text/plain": [
       "15625"
      ]
     },
     "execution_count": 87,
     "metadata": {},
     "output_type": "execute_result"
    }
   ],
   "source": [
    "B*C*D"
   ]
  },
  {
   "cell_type": "code",
   "execution_count": 89,
   "id": "a37b16d9-ac28-4096-bf18-59264adb1478",
   "metadata": {},
   "outputs": [],
   "source": [
    "MULL=B*C*D"
   ]
  },
  {
   "cell_type": "code",
   "execution_count": 91,
   "id": "4f8226f6-ea77-4e37-b6c7-f5be2f5d1816",
   "metadata": {},
   "outputs": [
    {
     "name": "stdout",
     "output_type": "stream",
     "text": [
      "MULL: 15625\n"
     ]
    }
   ],
   "source": [
    "print('MULL:',MULL)"
   ]
  },
  {
   "cell_type": "code",
   "execution_count": 107,
   "id": "5c3368fc-8dfc-4215-bf85-a8cd864c42b9",
   "metadata": {},
   "outputs": [],
   "source": [
    "MULL2=((X+' '+Y)+',')*5"
   ]
  },
  {
   "cell_type": "code",
   "execution_count": 111,
   "id": "f78b7c40-3d33-4bf2-aba9-f1f7e1db86ce",
   "metadata": {},
   "outputs": [
    {
     "name": "stdout",
     "output_type": "stream",
     "text": [
      "MULL2: pooja Senjaliya,pooja Senjaliya,pooja Senjaliya,pooja Senjaliya,pooja Senjaliya,\n"
     ]
    }
   ],
   "source": [
    "print('MULL2:',MULL2)"
   ]
  },
  {
   "cell_type": "code",
   "execution_count": 72,
   "id": "e55e5dad-bf4d-4fbb-af17-89b39b35f31b",
   "metadata": {},
   "outputs": [
    {
     "data": {
      "text/plain": [
       "2.8461538461538463"
      ]
     },
     "execution_count": 72,
     "metadata": {},
     "output_type": "execute_result"
    }
   ],
   "source": [
    "G/I"
   ]
  },
  {
   "cell_type": "code",
   "execution_count": 74,
   "id": "31fd49b8-3411-460f-b6f6-6b985e03537e",
   "metadata": {},
   "outputs": [],
   "source": [
    "DIV=(G/I)"
   ]
  },
  {
   "cell_type": "code",
   "execution_count": 76,
   "id": "e930b02b-3b05-46ac-b05f-a2a894e13b3f",
   "metadata": {},
   "outputs": [
    {
     "name": "stdout",
     "output_type": "stream",
     "text": [
      "DIV: 2.8461538461538463\n"
     ]
    }
   ],
   "source": [
    "print('DIV:', DIV)"
   ]
  },
  {
   "cell_type": "code",
   "execution_count": 83,
   "id": "f5b088e4-a1bc-48ec-a6ab-95c3d6329b2c",
   "metadata": {},
   "outputs": [],
   "source": [
    "DIV2=(G/I)/(E/F)"
   ]
  },
  {
   "cell_type": "code",
   "execution_count": 85,
   "id": "77a369da-a98e-4880-aac0-577e6d77e542",
   "metadata": {},
   "outputs": [
    {
     "name": "stdout",
     "output_type": "stream",
     "text": [
      "DIV2:  12.74149639993574\n"
     ]
    }
   ],
   "source": [
    "print('DIV2: ',DIV2)"
   ]
  },
  {
   "cell_type": "code",
   "execution_count": 64,
   "id": "2983826c-217a-44f2-b57c-837308c67328",
   "metadata": {},
   "outputs": [
    {
     "data": {
      "text/plain": [
       "100"
      ]
     },
     "execution_count": 64,
     "metadata": {},
     "output_type": "execute_result"
    }
   ],
   "source": [
    "(A+B+C+D)-D"
   ]
  },
  {
   "cell_type": "code",
   "execution_count": 58,
   "id": "79b0cd2e-feb8-4406-b4a9-a4f2b753415f",
   "metadata": {},
   "outputs": [],
   "source": [
    "MIN=(A+B+C+D)-D"
   ]
  },
  {
   "cell_type": "code",
   "execution_count": 62,
   "id": "6441034a-b778-46cf-882f-bb244aadb4b6",
   "metadata": {},
   "outputs": [
    {
     "name": "stdout",
     "output_type": "stream",
     "text": [
      "MIN: 100\n"
     ]
    }
   ],
   "source": [
    "print('MIN:',MIN)"
   ]
  },
  {
   "cell_type": "code",
   "execution_count": 38,
   "id": "4840c25d-95c3-4d94-9f30-13155eb3084a",
   "metadata": {},
   "outputs": [
    {
     "data": {
      "text/plain": [
       "100"
      ]
     },
     "execution_count": 38,
     "metadata": {},
     "output_type": "execute_result"
    }
   ],
   "source": [
    "A+B+C"
   ]
  },
  {
   "cell_type": "code",
   "execution_count": 44,
   "id": "e1563c57-9901-4268-8631-c42d9cef5af1",
   "metadata": {},
   "outputs": [],
   "source": [
    "ADD=A+B+C"
   ]
  },
  {
   "cell_type": "code",
   "execution_count": 50,
   "id": "b3bbb289-9f63-4795-b6f8-694890db6eac",
   "metadata": {},
   "outputs": [
    {
     "name": "stdout",
     "output_type": "stream",
     "text": [
      "ADD: 100\n"
     ]
    }
   ],
   "source": [
    "print('ADD:',ADD)"
   ]
  },
  {
   "cell_type": "code",
   "execution_count": 8,
   "id": "b905e747-df79-4407-8b6d-351507278884",
   "metadata": {},
   "outputs": [
    {
     "data": {
      "text/plain": [
       "(50, 25, 25, 25, 5.267, 23.579, 18.5, 'pooja', 'Senjaliya')"
      ]
     },
     "execution_count": 8,
     "metadata": {},
     "output_type": "execute_result"
    }
   ],
   "source": [
    "A,B,C,D,E,F,G,X,Y"
   ]
  },
  {
   "cell_type": "code",
   "execution_count": 10,
   "id": "d908fe85-ea26-45f5-8a43-353b864de7ca",
   "metadata": {},
   "outputs": [
    {
     "name": "stdout",
     "output_type": "stream",
     "text": [
      "50 25 25 25 5.267 23.579 18.5 pooja Senjaliya\n"
     ]
    }
   ],
   "source": [
    "print(A,B,C,D,E,F,G,X,Y)"
   ]
  },
  {
   "cell_type": "code",
   "execution_count": 16,
   "id": "c2105e3a-53c5-4b89-ba69-c7f8a7684ba1",
   "metadata": {},
   "outputs": [
    {
     "data": {
      "text/plain": [
       "int"
      ]
     },
     "execution_count": 16,
     "metadata": {},
     "output_type": "execute_result"
    }
   ],
   "source": [
    "type(A)\n"
   ]
  },
  {
   "cell_type": "code",
   "execution_count": 18,
   "id": "7a737ea9-aa5a-4359-8168-ac5f154fe47f",
   "metadata": {},
   "outputs": [
    {
     "data": {
      "text/plain": [
       "float"
      ]
     },
     "execution_count": 18,
     "metadata": {},
     "output_type": "execute_result"
    }
   ],
   "source": [
    "type(E)"
   ]
  },
  {
   "cell_type": "code",
   "execution_count": 20,
   "id": "7a99d496-2727-4222-82f3-eccad427b3a8",
   "metadata": {},
   "outputs": [
    {
     "data": {
      "text/plain": [
       "str"
      ]
     },
     "execution_count": 20,
     "metadata": {},
     "output_type": "execute_result"
    }
   ],
   "source": [
    "type(X)"
   ]
  },
  {
   "cell_type": "code",
   "execution_count": 30,
   "id": "3ac11c9c-a9c6-4169-9463-9ceb8572b936",
   "metadata": {},
   "outputs": [
    {
     "data": {
      "text/plain": [
       "bool"
      ]
     },
     "execution_count": 30,
     "metadata": {},
     "output_type": "execute_result"
    }
   ],
   "source": [
    "type(S)"
   ]
  },
  {
   "cell_type": "code",
   "execution_count": 36,
   "id": "5ed16e65-0a50-4669-82f4-6e47bc0069a4",
   "metadata": {},
   "outputs": [
    {
     "data": {
      "text/plain": [
       "bool"
      ]
     },
     "execution_count": 36,
     "metadata": {},
     "output_type": "execute_result"
    }
   ],
   "source": [
    "type(K)"
   ]
  },
  {
   "cell_type": "code",
   "execution_count": null,
   "id": "47dc49b5-1d33-46b6-9b99-10a7ccdca8dc",
   "metadata": {},
   "outputs": [],
   "source": []
  }
 ],
 "metadata": {
  "kernelspec": {
   "display_name": "Python 3 (ipykernel)",
   "language": "python",
   "name": "python3"
  },
  "language_info": {
   "codemirror_mode": {
    "name": "ipython",
    "version": 3
   },
   "file_extension": ".py",
   "mimetype": "text/x-python",
   "name": "python",
   "nbconvert_exporter": "python",
   "pygments_lexer": "ipython3",
   "version": "3.12.4"
  }
 },
 "nbformat": 4,
 "nbformat_minor": 5
}
