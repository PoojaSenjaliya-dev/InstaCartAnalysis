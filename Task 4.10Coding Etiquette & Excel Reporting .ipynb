{
 "cells": [
  {
   "cell_type": "markdown",
   "id": "3cf41c36-eba6-441d-8b28-a8684e41ddee",
   "metadata": {},
   "source": [
    "# **Step 1:**"
   ]
  },
  {
   "cell_type": "markdown",
   "id": "c7bdc3f3-3ab9-46c5-b369-9389bb44d553",
   "metadata": {
    "jp-MarkdownHeadingCollapsed": true
   },
   "source": [
    "## Import libraries"
   ]
  },
  {
   "cell_type": "code",
   "execution_count": 5,
   "id": "97174288-e7a4-4f7e-925b-c325c9333a6a",
   "metadata": {},
   "outputs": [],
   "source": [
    "import pandas as pd\n",
    "import numpy as np\n",
    "import os\n",
    "import matplotlib.pyplot as plt\n",
    "import seaborn as sns\n",
    "import scipy"
   ]
  },
  {
   "cell_type": "markdown",
   "id": "a2173e04-4b8b-4b3e-bd99-968b3ff4ef35",
   "metadata": {},
   "source": [
    "## import  file"
   ]
  },
  {
   "cell_type": "code",
   "execution_count": 7,
   "id": "057dd0d2-5854-4a30-aa2d-79014fe2513e",
   "metadata": {},
   "outputs": [],
   "source": [
    "#path\n",
    "path = r'/Users/poojathummar/Documents/career Foundary/Data Immersion/Achi 4 Python Fundamentals for Data Analysts/Instacart Basket Analysis'\n"
   ]
  },
  {
   "cell_type": "code",
   "execution_count": 11,
   "id": "4e896d07-450a-4065-92ef-bb3753124e55",
   "metadata": {},
   "outputs": [],
   "source": [
    "ords_prods_cust_merge = pd.read_pickle(os.path.join(path, '02 Data', 'Prepared Data', 'orders_products_customers_merged49.pkl'))"
   ]
  },
  {
   "cell_type": "code",
   "execution_count": 15,
   "id": "271a310c-e96a-4bab-953b-0b9ada741f4a",
   "metadata": {},
   "outputs": [
    {
     "data": {
      "text/plain": [
       "['order_id',\n",
       " 'user_id',\n",
       " 'order_number',\n",
       " 'orders_day_of_week',\n",
       " 'order_hour_of_day',\n",
       " 'days_since_prior_order',\n",
       " 'product_id',\n",
       " 'add_to_cart_order',\n",
       " 'reordered',\n",
       " 'product_name',\n",
       " 'aisle_id',\n",
       " 'department_id',\n",
       " 'prices',\n",
       " 'price_range_loc',\n",
       " 'busiest_day',\n",
       " 'busiest_days',\n",
       " 'busiest_period_of_day',\n",
       " 'max_order',\n",
       " 'loyalty_flag',\n",
       " 'average_spend',\n",
       " 'spender_flag',\n",
       " 'customer_frequency',\n",
       " 'frequency_flag',\n",
       " 'first_name',\n",
       " 'surname',\n",
       " 'gender',\n",
       " 'state',\n",
       " 'age',\n",
       " 'date_joined',\n",
       " 'n_dependants',\n",
       " 'marital_status',\n",
       " 'income',\n",
       " '_merge']"
      ]
     },
     "execution_count": 15,
     "metadata": {},
     "output_type": "execute_result"
    }
   ],
   "source": [
    "# to preview columns name of the table in list formate by usig .tolist() function\n",
    "ords_prods_cust_merge.columns.tolist()"
   ]
  },
  {
   "cell_type": "markdown",
   "id": "7ff88e7a-e2ca-4d63-9e4f-f282eeeaee4c",
   "metadata": {
    "jp-MarkdownHeadingCollapsed": true
   },
   "source": [
    "# **Step 2:**\n",
    "##### Consider any security implications that might exist for this new data. You’ll need to address any PII data in the data before continuing your analysis."
   ]
  },
  {
   "cell_type": "code",
   "execution_count": 19,
   "id": "b5af28d7-f687-4dc6-8168-437998d6a90d",
   "metadata": {},
   "outputs": [
    {
     "data": {
      "text/html": [
       "<div>\n",
       "<style scoped>\n",
       "    .dataframe tbody tr th:only-of-type {\n",
       "        vertical-align: middle;\n",
       "    }\n",
       "\n",
       "    .dataframe tbody tr th {\n",
       "        vertical-align: top;\n",
       "    }\n",
       "\n",
       "    .dataframe thead th {\n",
       "        text-align: right;\n",
       "    }\n",
       "</style>\n",
       "<table border=\"1\" class=\"dataframe\">\n",
       "  <thead>\n",
       "    <tr style=\"text-align: right;\">\n",
       "      <th></th>\n",
       "      <th>order_id</th>\n",
       "      <th>user_id</th>\n",
       "      <th>order_number</th>\n",
       "      <th>orders_day_of_week</th>\n",
       "      <th>order_hour_of_day</th>\n",
       "      <th>days_since_prior_order</th>\n",
       "      <th>product_id</th>\n",
       "      <th>add_to_cart_order</th>\n",
       "      <th>reordered</th>\n",
       "      <th>product_name</th>\n",
       "      <th>...</th>\n",
       "      <th>first_name</th>\n",
       "      <th>surname</th>\n",
       "      <th>gender</th>\n",
       "      <th>state</th>\n",
       "      <th>age</th>\n",
       "      <th>date_joined</th>\n",
       "      <th>n_dependants</th>\n",
       "      <th>marital_status</th>\n",
       "      <th>income</th>\n",
       "      <th>_merge</th>\n",
       "    </tr>\n",
       "  </thead>\n",
       "  <tbody>\n",
       "    <tr>\n",
       "      <th>0</th>\n",
       "      <td>2539329</td>\n",
       "      <td>1</td>\n",
       "      <td>1</td>\n",
       "      <td>2</td>\n",
       "      <td>8</td>\n",
       "      <td>NaN</td>\n",
       "      <td>196</td>\n",
       "      <td>1</td>\n",
       "      <td>0</td>\n",
       "      <td>Soda</td>\n",
       "      <td>...</td>\n",
       "      <td>Linda</td>\n",
       "      <td>Nguyen</td>\n",
       "      <td>Female</td>\n",
       "      <td>Alabama</td>\n",
       "      <td>31</td>\n",
       "      <td>2/17/2019</td>\n",
       "      <td>3</td>\n",
       "      <td>married</td>\n",
       "      <td>40423</td>\n",
       "      <td>both</td>\n",
       "    </tr>\n",
       "    <tr>\n",
       "      <th>1</th>\n",
       "      <td>2539329</td>\n",
       "      <td>1</td>\n",
       "      <td>1</td>\n",
       "      <td>2</td>\n",
       "      <td>8</td>\n",
       "      <td>NaN</td>\n",
       "      <td>14084</td>\n",
       "      <td>2</td>\n",
       "      <td>0</td>\n",
       "      <td>Organic Unsweetened Vanilla Almond Milk</td>\n",
       "      <td>...</td>\n",
       "      <td>Linda</td>\n",
       "      <td>Nguyen</td>\n",
       "      <td>Female</td>\n",
       "      <td>Alabama</td>\n",
       "      <td>31</td>\n",
       "      <td>2/17/2019</td>\n",
       "      <td>3</td>\n",
       "      <td>married</td>\n",
       "      <td>40423</td>\n",
       "      <td>both</td>\n",
       "    </tr>\n",
       "    <tr>\n",
       "      <th>2</th>\n",
       "      <td>2539329</td>\n",
       "      <td>1</td>\n",
       "      <td>1</td>\n",
       "      <td>2</td>\n",
       "      <td>8</td>\n",
       "      <td>NaN</td>\n",
       "      <td>12427</td>\n",
       "      <td>3</td>\n",
       "      <td>0</td>\n",
       "      <td>Original Beef Jerky</td>\n",
       "      <td>...</td>\n",
       "      <td>Linda</td>\n",
       "      <td>Nguyen</td>\n",
       "      <td>Female</td>\n",
       "      <td>Alabama</td>\n",
       "      <td>31</td>\n",
       "      <td>2/17/2019</td>\n",
       "      <td>3</td>\n",
       "      <td>married</td>\n",
       "      <td>40423</td>\n",
       "      <td>both</td>\n",
       "    </tr>\n",
       "    <tr>\n",
       "      <th>3</th>\n",
       "      <td>2539329</td>\n",
       "      <td>1</td>\n",
       "      <td>1</td>\n",
       "      <td>2</td>\n",
       "      <td>8</td>\n",
       "      <td>NaN</td>\n",
       "      <td>26088</td>\n",
       "      <td>4</td>\n",
       "      <td>0</td>\n",
       "      <td>Aged White Cheddar Popcorn</td>\n",
       "      <td>...</td>\n",
       "      <td>Linda</td>\n",
       "      <td>Nguyen</td>\n",
       "      <td>Female</td>\n",
       "      <td>Alabama</td>\n",
       "      <td>31</td>\n",
       "      <td>2/17/2019</td>\n",
       "      <td>3</td>\n",
       "      <td>married</td>\n",
       "      <td>40423</td>\n",
       "      <td>both</td>\n",
       "    </tr>\n",
       "    <tr>\n",
       "      <th>4</th>\n",
       "      <td>2539329</td>\n",
       "      <td>1</td>\n",
       "      <td>1</td>\n",
       "      <td>2</td>\n",
       "      <td>8</td>\n",
       "      <td>NaN</td>\n",
       "      <td>26405</td>\n",
       "      <td>5</td>\n",
       "      <td>0</td>\n",
       "      <td>XL Pick-A-Size Paper Towel Rolls</td>\n",
       "      <td>...</td>\n",
       "      <td>Linda</td>\n",
       "      <td>Nguyen</td>\n",
       "      <td>Female</td>\n",
       "      <td>Alabama</td>\n",
       "      <td>31</td>\n",
       "      <td>2/17/2019</td>\n",
       "      <td>3</td>\n",
       "      <td>married</td>\n",
       "      <td>40423</td>\n",
       "      <td>both</td>\n",
       "    </tr>\n",
       "  </tbody>\n",
       "</table>\n",
       "<p>5 rows × 33 columns</p>\n",
       "</div>"
      ],
      "text/plain": [
       "   order_id user_id  order_number  orders_day_of_week  order_hour_of_day  \\\n",
       "0   2539329       1             1                   2                  8   \n",
       "1   2539329       1             1                   2                  8   \n",
       "2   2539329       1             1                   2                  8   \n",
       "3   2539329       1             1                   2                  8   \n",
       "4   2539329       1             1                   2                  8   \n",
       "\n",
       "   days_since_prior_order  product_id  add_to_cart_order  reordered  \\\n",
       "0                     NaN         196                  1          0   \n",
       "1                     NaN       14084                  2          0   \n",
       "2                     NaN       12427                  3          0   \n",
       "3                     NaN       26088                  4          0   \n",
       "4                     NaN       26405                  5          0   \n",
       "\n",
       "                              product_name  ...  first_name  surname  gender  \\\n",
       "0                                     Soda  ...       Linda   Nguyen  Female   \n",
       "1  Organic Unsweetened Vanilla Almond Milk  ...       Linda   Nguyen  Female   \n",
       "2                      Original Beef Jerky  ...       Linda   Nguyen  Female   \n",
       "3               Aged White Cheddar Popcorn  ...       Linda   Nguyen  Female   \n",
       "4         XL Pick-A-Size Paper Towel Rolls  ...       Linda   Nguyen  Female   \n",
       "\n",
       "     state age date_joined n_dependants  marital_status income  _merge  \n",
       "0  Alabama  31   2/17/2019            3         married  40423    both  \n",
       "1  Alabama  31   2/17/2019            3         married  40423    both  \n",
       "2  Alabama  31   2/17/2019            3         married  40423    both  \n",
       "3  Alabama  31   2/17/2019            3         married  40423    both  \n",
       "4  Alabama  31   2/17/2019            3         married  40423    both  \n",
       "\n",
       "[5 rows x 33 columns]"
      ]
     },
     "execution_count": 19,
     "metadata": {},
     "output_type": "execute_result"
    }
   ],
   "source": [
    "ords_prods_cust_merge.head()"
   ]
  },
  {
   "cell_type": "code",
   "execution_count": null,
   "id": "fa7eba5b-223d-4fa6-96b2-7ce3148ba418",
   "metadata": {},
   "outputs": [],
   "source": []
  },
  {
   "cell_type": "markdown",
   "id": "92d58a8c-17fc-4b28-8bf1-1f6902fcd1df",
   "metadata": {
    "jp-MarkdownHeadingCollapsed": true
   },
   "source": [
    "# **Step 3:**\n",
    "##### The Instacart officers are interested in comparing customer behavior in different geographic areas. Create a regional segmentation of the data. You’ll need to create a “Region” column based on the “State” column from your customers data set.\n",
    "##### Use the region information in this Wikipedia article to create your column (you only need to create regions, not divisions).\n",
    "##### Determine whether there’s a difference in spending habits between the different U.S. regions. "
   ]
  },
  {
   "cell_type": "code",
   "execution_count": 22,
   "id": "90106377-eea7-407e-b8f3-e7ddd304650b",
   "metadata": {},
   "outputs": [],
   "source": [
    "# Creating Northeast Region,Midwest Region,South Region List and est Region List\n",
    "Northeast=['Maine','New Hampshire','Vermont','Massachusetts','Rhode Island','Connecticut','New York','Pennsylvania','New Jersey']\n"
   ]
  },
  {
   "cell_type": "code",
   "execution_count": 24,
   "id": "8e131207-8e55-4c73-8e84-10611aaee7ee",
   "metadata": {},
   "outputs": [],
   "source": [
    "Midwest=['Wisconsin','Michigan','Illinois','Indiana','Ohio','North Dakota','South Dakota','Nebraska','Kansas','Minnesota','Iowa','Missouri']\n"
   ]
  },
  {
   "cell_type": "code",
   "execution_count": 34,
   "id": "9ec356ac-c3a9-492d-923d-3619b5a165ea",
   "metadata": {},
   "outputs": [],
   "source": [
    "South=['Delaware','Maryland','District of Columbia','Virginia','West Virginia','North Carolina','South Carolina','Georgia','Florida','Kentucky','Tennessee','Mississippi','Alabama','Oklahoma','Texas','Arkansas','Louisiana']\n"
   ]
  },
  {
   "cell_type": "code",
   "execution_count": 26,
   "id": "58c65f4e-98c6-4fe5-8d77-c2a415c89011",
   "metadata": {},
   "outputs": [],
   "source": [
    "West=['Idaho','Montana','Wyoming','Nevada','Utah','Colorado','Arizona','New Mexico','Alaska','Washington','Oregon','California','Hawaii']\n",
    "\n"
   ]
  },
  {
   "cell_type": "code",
   "execution_count": 28,
   "id": "a902a18f-df3e-422c-a2d5-c87efe66d674",
   "metadata": {},
   "outputs": [],
   "source": [
    "# Creating Region Column for Northeast region\n",
    "\n",
    "ords_prods_cust_merge.loc[ords_prods_cust_merge['state'].isin(Northeast),'region']='Northeast'"
   ]
  },
  {
   "cell_type": "code",
   "execution_count": 30,
   "id": "40aed4ee-adb3-404b-a2e5-d842bc8ba670",
   "metadata": {},
   "outputs": [],
   "source": [
    "# Creating Region Column for Midwest Region\n",
    "\n",
    "ords_prods_cust_merge.loc[ords_prods_cust_merge['state'].isin(Midwest),'region']='Midwest'"
   ]
  },
  {
   "cell_type": "code",
   "execution_count": 36,
   "id": "db08cb71-2e5a-4072-b361-8591849563bf",
   "metadata": {},
   "outputs": [],
   "source": [
    "# Creating Region Column for South Region\n",
    "\n",
    "ords_prods_cust_merge.loc[ords_prods_cust_merge['state'].isin(South),'region']='South'"
   ]
  },
  {
   "cell_type": "code",
   "execution_count": 38,
   "id": "ed7165ba-9f83-408e-ac57-11f97ed09e94",
   "metadata": {},
   "outputs": [],
   "source": [
    "# Creating Region Column for West Region\n",
    "\n",
    "ords_prods_cust_merge.loc[ords_prods_cust_merge['state'].isin(West),'region']='West'"
   ]
  },
  {
   "cell_type": "code",
   "execution_count": 44,
   "id": "cdf21a4e-49a3-4f00-960e-b1ce34579ab8",
   "metadata": {},
   "outputs": [
    {
     "data": {
      "text/plain": [
       "(32404859, 34)"
      ]
     },
     "execution_count": 44,
     "metadata": {},
     "output_type": "execute_result"
    }
   ],
   "source": [
    "ords_prods_cust_merge.shape"
   ]
  },
  {
   "cell_type": "code",
   "execution_count": 42,
   "id": "a3b69804-796d-44b5-b346-31cb8efdc8ce",
   "metadata": {},
   "outputs": [
    {
     "data": {
      "text/html": [
       "<div>\n",
       "<style scoped>\n",
       "    .dataframe tbody tr th:only-of-type {\n",
       "        vertical-align: middle;\n",
       "    }\n",
       "\n",
       "    .dataframe tbody tr th {\n",
       "        vertical-align: top;\n",
       "    }\n",
       "\n",
       "    .dataframe thead th {\n",
       "        text-align: right;\n",
       "    }\n",
       "</style>\n",
       "<table border=\"1\" class=\"dataframe\">\n",
       "  <thead>\n",
       "    <tr style=\"text-align: right;\">\n",
       "      <th></th>\n",
       "      <th>order_id</th>\n",
       "      <th>user_id</th>\n",
       "      <th>order_number</th>\n",
       "      <th>orders_day_of_week</th>\n",
       "      <th>order_hour_of_day</th>\n",
       "      <th>days_since_prior_order</th>\n",
       "      <th>product_id</th>\n",
       "      <th>add_to_cart_order</th>\n",
       "      <th>reordered</th>\n",
       "      <th>product_name</th>\n",
       "      <th>...</th>\n",
       "      <th>surname</th>\n",
       "      <th>gender</th>\n",
       "      <th>state</th>\n",
       "      <th>age</th>\n",
       "      <th>date_joined</th>\n",
       "      <th>n_dependants</th>\n",
       "      <th>marital_status</th>\n",
       "      <th>income</th>\n",
       "      <th>_merge</th>\n",
       "      <th>region</th>\n",
       "    </tr>\n",
       "  </thead>\n",
       "  <tbody>\n",
       "    <tr>\n",
       "      <th>0</th>\n",
       "      <td>2539329</td>\n",
       "      <td>1</td>\n",
       "      <td>1</td>\n",
       "      <td>2</td>\n",
       "      <td>8</td>\n",
       "      <td>NaN</td>\n",
       "      <td>196</td>\n",
       "      <td>1</td>\n",
       "      <td>0</td>\n",
       "      <td>Soda</td>\n",
       "      <td>...</td>\n",
       "      <td>Nguyen</td>\n",
       "      <td>Female</td>\n",
       "      <td>Alabama</td>\n",
       "      <td>31</td>\n",
       "      <td>2/17/2019</td>\n",
       "      <td>3</td>\n",
       "      <td>married</td>\n",
       "      <td>40423</td>\n",
       "      <td>both</td>\n",
       "      <td>South</td>\n",
       "    </tr>\n",
       "    <tr>\n",
       "      <th>1</th>\n",
       "      <td>2539329</td>\n",
       "      <td>1</td>\n",
       "      <td>1</td>\n",
       "      <td>2</td>\n",
       "      <td>8</td>\n",
       "      <td>NaN</td>\n",
       "      <td>14084</td>\n",
       "      <td>2</td>\n",
       "      <td>0</td>\n",
       "      <td>Organic Unsweetened Vanilla Almond Milk</td>\n",
       "      <td>...</td>\n",
       "      <td>Nguyen</td>\n",
       "      <td>Female</td>\n",
       "      <td>Alabama</td>\n",
       "      <td>31</td>\n",
       "      <td>2/17/2019</td>\n",
       "      <td>3</td>\n",
       "      <td>married</td>\n",
       "      <td>40423</td>\n",
       "      <td>both</td>\n",
       "      <td>South</td>\n",
       "    </tr>\n",
       "    <tr>\n",
       "      <th>2</th>\n",
       "      <td>2539329</td>\n",
       "      <td>1</td>\n",
       "      <td>1</td>\n",
       "      <td>2</td>\n",
       "      <td>8</td>\n",
       "      <td>NaN</td>\n",
       "      <td>12427</td>\n",
       "      <td>3</td>\n",
       "      <td>0</td>\n",
       "      <td>Original Beef Jerky</td>\n",
       "      <td>...</td>\n",
       "      <td>Nguyen</td>\n",
       "      <td>Female</td>\n",
       "      <td>Alabama</td>\n",
       "      <td>31</td>\n",
       "      <td>2/17/2019</td>\n",
       "      <td>3</td>\n",
       "      <td>married</td>\n",
       "      <td>40423</td>\n",
       "      <td>both</td>\n",
       "      <td>South</td>\n",
       "    </tr>\n",
       "    <tr>\n",
       "      <th>3</th>\n",
       "      <td>2539329</td>\n",
       "      <td>1</td>\n",
       "      <td>1</td>\n",
       "      <td>2</td>\n",
       "      <td>8</td>\n",
       "      <td>NaN</td>\n",
       "      <td>26088</td>\n",
       "      <td>4</td>\n",
       "      <td>0</td>\n",
       "      <td>Aged White Cheddar Popcorn</td>\n",
       "      <td>...</td>\n",
       "      <td>Nguyen</td>\n",
       "      <td>Female</td>\n",
       "      <td>Alabama</td>\n",
       "      <td>31</td>\n",
       "      <td>2/17/2019</td>\n",
       "      <td>3</td>\n",
       "      <td>married</td>\n",
       "      <td>40423</td>\n",
       "      <td>both</td>\n",
       "      <td>South</td>\n",
       "    </tr>\n",
       "    <tr>\n",
       "      <th>4</th>\n",
       "      <td>2539329</td>\n",
       "      <td>1</td>\n",
       "      <td>1</td>\n",
       "      <td>2</td>\n",
       "      <td>8</td>\n",
       "      <td>NaN</td>\n",
       "      <td>26405</td>\n",
       "      <td>5</td>\n",
       "      <td>0</td>\n",
       "      <td>XL Pick-A-Size Paper Towel Rolls</td>\n",
       "      <td>...</td>\n",
       "      <td>Nguyen</td>\n",
       "      <td>Female</td>\n",
       "      <td>Alabama</td>\n",
       "      <td>31</td>\n",
       "      <td>2/17/2019</td>\n",
       "      <td>3</td>\n",
       "      <td>married</td>\n",
       "      <td>40423</td>\n",
       "      <td>both</td>\n",
       "      <td>South</td>\n",
       "    </tr>\n",
       "  </tbody>\n",
       "</table>\n",
       "<p>5 rows × 34 columns</p>\n",
       "</div>"
      ],
      "text/plain": [
       "   order_id user_id  order_number  orders_day_of_week  order_hour_of_day  \\\n",
       "0   2539329       1             1                   2                  8   \n",
       "1   2539329       1             1                   2                  8   \n",
       "2   2539329       1             1                   2                  8   \n",
       "3   2539329       1             1                   2                  8   \n",
       "4   2539329       1             1                   2                  8   \n",
       "\n",
       "   days_since_prior_order  product_id  add_to_cart_order  reordered  \\\n",
       "0                     NaN         196                  1          0   \n",
       "1                     NaN       14084                  2          0   \n",
       "2                     NaN       12427                  3          0   \n",
       "3                     NaN       26088                  4          0   \n",
       "4                     NaN       26405                  5          0   \n",
       "\n",
       "                              product_name  ...  surname  gender    state age  \\\n",
       "0                                     Soda  ...   Nguyen  Female  Alabama  31   \n",
       "1  Organic Unsweetened Vanilla Almond Milk  ...   Nguyen  Female  Alabama  31   \n",
       "2                      Original Beef Jerky  ...   Nguyen  Female  Alabama  31   \n",
       "3               Aged White Cheddar Popcorn  ...   Nguyen  Female  Alabama  31   \n",
       "4         XL Pick-A-Size Paper Towel Rolls  ...   Nguyen  Female  Alabama  31   \n",
       "\n",
       "  date_joined n_dependants marital_status  income _merge  region  \n",
       "0   2/17/2019            3        married   40423   both   South  \n",
       "1   2/17/2019            3        married   40423   both   South  \n",
       "2   2/17/2019            3        married   40423   both   South  \n",
       "3   2/17/2019            3        married   40423   both   South  \n",
       "4   2/17/2019            3        married   40423   both   South  \n",
       "\n",
       "[5 rows x 34 columns]"
      ]
     },
     "execution_count": 42,
     "metadata": {},
     "output_type": "execute_result"
    }
   ],
   "source": [
    "ords_prods_cust_merge.head()"
   ]
  },
  {
   "cell_type": "code",
   "execution_count": 46,
   "id": "adf45a9c-fdbf-4621-b22c-660cc743d13f",
   "metadata": {},
   "outputs": [
    {
     "data": {
      "text/plain": [
       "region\n",
       "South        10791885\n",
       "West          8292913\n",
       "Midwest       7597325\n",
       "Northeast     5722736\n",
       "Name: count, dtype: int64"
      ]
     },
     "execution_count": 46,
     "metadata": {},
     "output_type": "execute_result"
    }
   ],
   "source": [
    "ords_prods_cust_merge['region'].value_counts(dropna=False)"
   ]
  },
  {
   "cell_type": "code",
   "execution_count": 50,
   "id": "6ee206cc-4058-4cef-970d-88e7a2d402c1",
   "metadata": {},
   "outputs": [],
   "source": [
    "# Creating Crosstab between region and type_of_spend Columns\n",
    "\n",
    "region_spender_crosstab=pd.crosstab(ords_prods_cust_merge['region'],ords_prods_cust_merge['spender_flag'],dropna=False)"
   ]
  },
  {
   "cell_type": "code",
   "execution_count": 52,
   "id": "0e973fde-cf31-4f15-8553-628872b1856d",
   "metadata": {},
   "outputs": [
    {
     "data": {
      "text/html": [
       "<div>\n",
       "<style scoped>\n",
       "    .dataframe tbody tr th:only-of-type {\n",
       "        vertical-align: middle;\n",
       "    }\n",
       "\n",
       "    .dataframe tbody tr th {\n",
       "        vertical-align: top;\n",
       "    }\n",
       "\n",
       "    .dataframe thead th {\n",
       "        text-align: right;\n",
       "    }\n",
       "</style>\n",
       "<table border=\"1\" class=\"dataframe\">\n",
       "  <thead>\n",
       "    <tr style=\"text-align: right;\">\n",
       "      <th>spender_flag</th>\n",
       "      <th>High_spender</th>\n",
       "      <th>Low_spender</th>\n",
       "    </tr>\n",
       "    <tr>\n",
       "      <th>region</th>\n",
       "      <th></th>\n",
       "      <th></th>\n",
       "    </tr>\n",
       "  </thead>\n",
       "  <tbody>\n",
       "    <tr>\n",
       "      <th>Midwest</th>\n",
       "      <td>155975</td>\n",
       "      <td>7441350</td>\n",
       "    </tr>\n",
       "    <tr>\n",
       "      <th>Northeast</th>\n",
       "      <td>108225</td>\n",
       "      <td>5614511</td>\n",
       "    </tr>\n",
       "    <tr>\n",
       "      <th>South</th>\n",
       "      <td>209691</td>\n",
       "      <td>10582194</td>\n",
       "    </tr>\n",
       "    <tr>\n",
       "      <th>West</th>\n",
       "      <td>160354</td>\n",
       "      <td>8132559</td>\n",
       "    </tr>\n",
       "  </tbody>\n",
       "</table>\n",
       "</div>"
      ],
      "text/plain": [
       "spender_flag  High_spender  Low_spender\n",
       "region                                 \n",
       "Midwest             155975      7441350\n",
       "Northeast           108225      5614511\n",
       "South               209691     10582194\n",
       "West                160354      8132559"
      ]
     },
     "execution_count": 52,
     "metadata": {},
     "output_type": "execute_result"
    }
   ],
   "source": [
    "region_spender_crosstab"
   ]
  },
  {
   "cell_type": "code",
   "execution_count": 54,
   "id": "656db3b4-5211-4bdf-ac72-224f3e1b80c7",
   "metadata": {},
   "outputs": [
    {
     "data": {
      "image/png": "[encoded data removed]",
      "text/plain": [
       "<Figure size 640x480 with 1 Axes>"
      ]
     },
     "metadata": {},
     "output_type": "display_data"
    }
   ],
   "source": [
    "# Bar Chart of region_spender_crosstab \n",
    "bar_region_spender=region_spender_crosstab.plot.bar(color=['orange','green'])"
   ]
  },
  {
   "cell_type": "code",
   "execution_count": null,
   "id": "532c32f6-d6e7-4dae-8ce6-0929525e90ca",
   "metadata": {},
   "outputs": [],
   "source": []
  },
  {
   "cell_type": "markdown",
   "id": "471f14b4-b501-489b-a642-ca7612ba705f",
   "metadata": {},
   "source": [
    "# **Step 4:**\n",
    "##### The Instacart CFO isn’t interested in customers who don’t generate much revenue for the app. Create an exclusion flag for low-activity customers (customers with less than 5 orders) and exclude them from the data. Make sure you export this sample."
   ]
  },
  {
   "cell_type": "code",
   "execution_count": 57,
   "id": "cc5e6826-af4b-4401-b9aa-5bd92c02bd15",
   "metadata": {},
   "outputs": [],
   "source": [
    "#To creating exclusion flag column for High-Activity customers \n",
    "ords_prods_cust_merge.loc[ords_prods_cust_merge['max_order']>=5,'customer_activity_flag']='High Activity'"
   ]
  },
  {
   "cell_type": "code",
   "execution_count": 59,
   "id": "2f0eb406-5b72-470c-b6f5-27675b751d69",
   "metadata": {},
   "outputs": [],
   "source": [
    "#To creating exclusion flag column for Low-Activity customers\n",
    "ords_prods_cust_merge.loc[ords_prods_cust_merge['max_order']<5,'customer_activity_flag']='Low Activity'"
   ]
  },
  {
   "cell_type": "code",
   "execution_count": 61,
   "id": "43066ebd-99c4-49f6-8371-381cee34de08",
   "metadata": {},
   "outputs": [
    {
     "data": {
      "text/html": [
       "<div>\n",
       "<style scoped>\n",
       "    .dataframe tbody tr th:only-of-type {\n",
       "        vertical-align: middle;\n",
       "    }\n",
       "\n",
       "    .dataframe tbody tr th {\n",
       "        vertical-align: top;\n",
       "    }\n",
       "\n",
       "    .dataframe thead th {\n",
       "        text-align: right;\n",
       "    }\n",
       "</style>\n",
       "<table border=\"1\" class=\"dataframe\">\n",
       "  <thead>\n",
       "    <tr style=\"text-align: right;\">\n",
       "      <th></th>\n",
       "      <th>order_id</th>\n",
       "      <th>user_id</th>\n",
       "      <th>order_number</th>\n",
       "      <th>orders_day_of_week</th>\n",
       "      <th>order_hour_of_day</th>\n",
       "      <th>days_since_prior_order</th>\n",
       "      <th>product_id</th>\n",
       "      <th>add_to_cart_order</th>\n",
       "      <th>reordered</th>\n",
       "      <th>product_name</th>\n",
       "      <th>...</th>\n",
       "      <th>gender</th>\n",
       "      <th>state</th>\n",
       "      <th>age</th>\n",
       "      <th>date_joined</th>\n",
       "      <th>n_dependants</th>\n",
       "      <th>marital_status</th>\n",
       "      <th>income</th>\n",
       "      <th>_merge</th>\n",
       "      <th>region</th>\n",
       "      <th>customer_activity_flag</th>\n",
       "    </tr>\n",
       "  </thead>\n",
       "  <tbody>\n",
       "    <tr>\n",
       "      <th>0</th>\n",
       "      <td>2539329</td>\n",
       "      <td>1</td>\n",
       "      <td>1</td>\n",
       "      <td>2</td>\n",
       "      <td>8</td>\n",
       "      <td>NaN</td>\n",
       "      <td>196</td>\n",
       "      <td>1</td>\n",
       "      <td>0</td>\n",
       "      <td>Soda</td>\n",
       "      <td>...</td>\n",
       "      <td>Female</td>\n",
       "      <td>Alabama</td>\n",
       "      <td>31</td>\n",
       "      <td>2/17/2019</td>\n",
       "      <td>3</td>\n",
       "      <td>married</td>\n",
       "      <td>40423</td>\n",
       "      <td>both</td>\n",
       "      <td>South</td>\n",
       "      <td>High Activity</td>\n",
       "    </tr>\n",
       "    <tr>\n",
       "      <th>1</th>\n",
       "      <td>2539329</td>\n",
       "      <td>1</td>\n",
       "      <td>1</td>\n",
       "      <td>2</td>\n",
       "      <td>8</td>\n",
       "      <td>NaN</td>\n",
       "      <td>14084</td>\n",
       "      <td>2</td>\n",
       "      <td>0</td>\n",
       "      <td>Organic Unsweetened Vanilla Almond Milk</td>\n",
       "      <td>...</td>\n",
       "      <td>Female</td>\n",
       "      <td>Alabama</td>\n",
       "      <td>31</td>\n",
       "      <td>2/17/2019</td>\n",
       "      <td>3</td>\n",
       "      <td>married</td>\n",
       "      <td>40423</td>\n",
       "      <td>both</td>\n",
       "      <td>South</td>\n",
       "      <td>High Activity</td>\n",
       "    </tr>\n",
       "    <tr>\n",
       "      <th>2</th>\n",
       "      <td>2539329</td>\n",
       "      <td>1</td>\n",
       "      <td>1</td>\n",
       "      <td>2</td>\n",
       "      <td>8</td>\n",
       "      <td>NaN</td>\n",
       "      <td>12427</td>\n",
       "      <td>3</td>\n",
       "      <td>0</td>\n",
       "      <td>Original Beef Jerky</td>\n",
       "      <td>...</td>\n",
       "      <td>Female</td>\n",
       "      <td>Alabama</td>\n",
       "      <td>31</td>\n",
       "      <td>2/17/2019</td>\n",
       "      <td>3</td>\n",
       "      <td>married</td>\n",
       "      <td>40423</td>\n",
       "      <td>both</td>\n",
       "      <td>South</td>\n",
       "      <td>High Activity</td>\n",
       "    </tr>\n",
       "    <tr>\n",
       "      <th>3</th>\n",
       "      <td>2539329</td>\n",
       "      <td>1</td>\n",
       "      <td>1</td>\n",
       "      <td>2</td>\n",
       "      <td>8</td>\n",
       "      <td>NaN</td>\n",
       "      <td>26088</td>\n",
       "      <td>4</td>\n",
       "      <td>0</td>\n",
       "      <td>Aged White Cheddar Popcorn</td>\n",
       "      <td>...</td>\n",
       "      <td>Female</td>\n",
       "      <td>Alabama</td>\n",
       "      <td>31</td>\n",
       "      <td>2/17/2019</td>\n",
       "      <td>3</td>\n",
       "      <td>married</td>\n",
       "      <td>40423</td>\n",
       "      <td>both</td>\n",
       "      <td>South</td>\n",
       "      <td>High Activity</td>\n",
       "    </tr>\n",
       "    <tr>\n",
       "      <th>4</th>\n",
       "      <td>2539329</td>\n",
       "      <td>1</td>\n",
       "      <td>1</td>\n",
       "      <td>2</td>\n",
       "      <td>8</td>\n",
       "      <td>NaN</td>\n",
       "      <td>26405</td>\n",
       "      <td>5</td>\n",
       "      <td>0</td>\n",
       "      <td>XL Pick-A-Size Paper Towel Rolls</td>\n",
       "      <td>...</td>\n",
       "      <td>Female</td>\n",
       "      <td>Alabama</td>\n",
       "      <td>31</td>\n",
       "      <td>2/17/2019</td>\n",
       "      <td>3</td>\n",
       "      <td>married</td>\n",
       "      <td>40423</td>\n",
       "      <td>both</td>\n",
       "      <td>South</td>\n",
       "      <td>High Activity</td>\n",
       "    </tr>\n",
       "  </tbody>\n",
       "</table>\n",
       "<p>5 rows × 35 columns</p>\n",
       "</div>"
      ],
      "text/plain": [
       "   order_id user_id  order_number  orders_day_of_week  order_hour_of_day  \\\n",
       "0   2539329       1             1                   2                  8   \n",
       "1   2539329       1             1                   2                  8   \n",
       "2   2539329       1             1                   2                  8   \n",
       "3   2539329       1             1                   2                  8   \n",
       "4   2539329       1             1                   2                  8   \n",
       "\n",
       "   days_since_prior_order  product_id  add_to_cart_order  reordered  \\\n",
       "0                     NaN         196                  1          0   \n",
       "1                     NaN       14084                  2          0   \n",
       "2                     NaN       12427                  3          0   \n",
       "3                     NaN       26088                  4          0   \n",
       "4                     NaN       26405                  5          0   \n",
       "\n",
       "                              product_name  ...  gender    state  age  \\\n",
       "0                                     Soda  ...  Female  Alabama   31   \n",
       "1  Organic Unsweetened Vanilla Almond Milk  ...  Female  Alabama   31   \n",
       "2                      Original Beef Jerky  ...  Female  Alabama   31   \n",
       "3               Aged White Cheddar Popcorn  ...  Female  Alabama   31   \n",
       "4         XL Pick-A-Size Paper Towel Rolls  ...  Female  Alabama   31   \n",
       "\n",
       "  date_joined n_dependants marital_status income  _merge region  \\\n",
       "0   2/17/2019            3        married  40423    both  South   \n",
       "1   2/17/2019            3        married  40423    both  South   \n",
       "2   2/17/2019            3        married  40423    both  South   \n",
       "3   2/17/2019            3        married  40423    both  South   \n",
       "4   2/17/2019            3        married  40423    both  South   \n",
       "\n",
       "   customer_activity_flag  \n",
       "0           High Activity  \n",
       "1           High Activity  \n",
       "2           High Activity  \n",
       "3           High Activity  \n",
       "4           High Activity  \n",
       "\n",
       "[5 rows x 35 columns]"
      ]
     },
     "execution_count": 61,
     "metadata": {},
     "output_type": "execute_result"
    }
   ],
   "source": [
    "ords_prods_cust_merge.head()"
   ]
  },
  {
   "cell_type": "code",
   "execution_count": 63,
   "id": "5fabb0ea-616c-4fe6-9a1b-2347637a008f",
   "metadata": {},
   "outputs": [
    {
     "data": {
      "text/plain": [
       "customer_activity_flag\n",
       "High Activity    30964564\n",
       "Low Activity      1440295\n",
       "Name: count, dtype: int64"
      ]
     },
     "execution_count": 63,
     "metadata": {},
     "output_type": "execute_result"
    }
   ],
   "source": [
    "# to check frequency of newly created flag\n",
    "ords_prods_cust_merge['customer_activity_flag'].value_counts(dropna=False)"
   ]
  },
  {
   "cell_type": "code",
   "execution_count": 65,
   "id": "3744e8b5-0533-4980-9729-902924ea1586",
   "metadata": {},
   "outputs": [],
   "source": [
    "# Creating Separate Dataframe for only High-Activity Customers\n",
    "ords_prods_cust_high_activity=ords_prods_cust_merge[ords_prods_cust_merge['customer_activity_flag']=='High Activity']"
   ]
  },
  {
   "cell_type": "code",
   "execution_count": 67,
   "id": "b9961231-0c39-4280-8662-e027979a865f",
   "metadata": {},
   "outputs": [
    {
     "data": {
      "text/plain": [
       "(30964564, 35)"
      ]
     },
     "execution_count": 67,
     "metadata": {},
     "output_type": "execute_result"
    }
   ],
   "source": [
    "# Check new dataframe of only high activity customers\n",
    "ords_prods_cust_high_activity.shape"
   ]
  },
  {
   "cell_type": "code",
   "execution_count": 69,
   "id": "f31ef7dd-24e8-4a34-b331-32083187f6d2",
   "metadata": {},
   "outputs": [],
   "source": [
    "# Exporting New Dataframe of only high activity customers\n",
    "ords_prods_cust_high_activity.to_pickle(os.path.join(path,'02 Data','Prepared Data','orders_products_customers_high_activity410.pkl'))"
   ]
  },
  {
   "cell_type": "code",
   "execution_count": 71,
   "id": "0109d7b5-c883-4d53-8cbe-edfae9880552",
   "metadata": {},
   "outputs": [],
   "source": [
    "# Exporting Updated Dataframe for customer flag column of both low and high activity customers\n",
    "ords_prods_cust_merge.to_pickle(os.path.join(path,'02 Data','Prepared Data','orders_products_customers_activity410.pkl'))"
   ]
  },
  {
   "cell_type": "markdown",
   "id": "867472b6-c277-4c23-860b-9a646dbc0edb",
   "metadata": {},
   "source": [
    "# **Step 5 and 6:**\n",
    "##### The marketing and business strategy units at Instacart want to create more-relevant marketing strategies for different products and are, thus, curious about customer profiling in their database. Create a profiling variable based on age, income, certain goods in the “department_id” column, and number of dependents. You might also use the “orders_day_of_week” and “order_hour_of_day” columns if you can think of a way they would impact customer profiles. (Hint: As an example, try thinking of what characteristics would lead you to the profile “Single adult” or “Young parent.”)\n",
    "##### Create an appropriate visualization to show the distribution of profiles."
   ]
  },
  {
   "cell_type": "markdown",
   "id": "ce3913f8-b920-436c-8e69-84bc0c280351",
   "metadata": {},
   "source": [
    "## Profiling Based on Age"
   ]
  },
  {
   "cell_type": "code",
   "execution_count": 76,
   "id": "002d0f3d-2695-4d11-933e-fc35006a1c89",
   "metadata": {},
   "outputs": [
    {
     "data": {
      "text/plain": [
       "count    3.240486e+07\n",
       "mean     4.946527e+01\n",
       "std      1.848558e+01\n",
       "min      1.800000e+01\n",
       "25%      3.300000e+01\n",
       "50%      4.900000e+01\n",
       "75%      6.500000e+01\n",
       "max      8.100000e+01\n",
       "Name: age, dtype: float64"
      ]
     },
     "execution_count": 76,
     "metadata": {},
     "output_type": "execute_result"
    }
   ],
   "source": [
    "ords_prods_cust_merge['age'].describe()"
   ]
  },
  {
   "cell_type": "code",
   "execution_count": 82,
   "id": "6f677873-59a8-4eab-899f-038c0b8698b8",
   "metadata": {},
   "outputs": [
    {
     "data": {
      "text/plain": [
       "<Axes: ylabel='Frequency'>"
      ]
     },
     "execution_count": 82,
     "metadata": {},
     "output_type": "execute_result"
    },
    {
     "data": {
      "image/png": "[encoded data removed]",
      "text/plain": [
       "<Figure size 640x480 with 1 Axes>"
      ]
     },
     "metadata": {},
     "output_type": "display_data"
    }
   ],
   "source": [
    "#To create histogram \n",
    "ords_prods_cust_merge['age'].plot.hist(bins=81,color='orange')"
   ]
  },
  {
   "cell_type": "code",
   "execution_count": 84,
   "id": "8d293650-d234-4425-9fda-8b9fd4583704",
   "metadata": {},
   "outputs": [],
   "source": [
    "#  Creating Young Adult age group,Middle-Age Adult age group,Senior age group \n",
    "ords_prods_cust_merge.loc[ords_prods_cust_merge['age']<=30,'age_group']='Young Adult'"
   ]
  },
  {
   "cell_type": "code",
   "execution_count": 86,
   "id": "942f77e2-b47c-4268-91b4-bcd9db4a0ef6",
   "metadata": {},
   "outputs": [],
   "source": [
    "ords_prods_cust_merge.loc[(ords_prods_cust_merge['age']>30)&(ords_prods_cust_merge['age']<=60),'age_group']='Middle-Age Adult'"
   ]
  },
  {
   "cell_type": "code",
   "execution_count": 88,
   "id": "98f8c00a-af47-488f-a6f0-fd08e02602d0",
   "metadata": {},
   "outputs": [],
   "source": [
    "ords_prods_cust_merge.loc[ords_prods_cust_merge['age']>60,'age_group']='Senior'"
   ]
  },
  {
   "cell_type": "code",
   "execution_count": 90,
   "id": "94ac4213-d339-450a-9a7c-891c37391d33",
   "metadata": {},
   "outputs": [
    {
     "data": {
      "text/plain": [
       "age_group\n",
       "Middle-Age Adult    15222661\n",
       "Senior              10582839\n",
       "Young Adult          6599359\n",
       "Name: count, dtype: int64"
      ]
     },
     "execution_count": 90,
     "metadata": {},
     "output_type": "execute_result"
    }
   ],
   "source": [
    "ords_prods_cust_merge['age_group'].value_counts(dropna=False)"
   ]
  },
  {
   "cell_type": "code",
   "execution_count": 92,
   "id": "5deb1f16-aed8-4fe5-ab66-b74cab8e92bb",
   "metadata": {},
   "outputs": [
    {
     "data": {
      "image/png": "[encoded data removed]",
      "text/plain": [
       "<Figure size 800x800 with 1 Axes>"
      ]
     },
     "metadata": {},
     "output_type": "display_data"
    }
   ],
   "source": [
    "# Creating Pie Chart of Age Groups\n",
    "age_group_counts = ords_prods_cust_merge['age_group'].value_counts()\n",
    "plt.figure(figsize=(8,8))\n",
    "age_group_pie_chart=age_group_counts.plot.pie(labels=('Middle-Age Adult: Between 31 to 60 Years of Age','Senior: Over 60 Years of Age','Young Adult:30 Years of Age or Younger'), \n",
    "                          autopct='%.1f%%',\n",
    "                          wedgeprops={'edgecolor':'black'})\n",
    "plt.title('Age Group')\n",
    "plt.ylabel('')\n",
    "plt.tight_layout()\n",
    "plt.show()"
   ]
  },
  {
   "cell_type": "code",
   "execution_count": 95,
   "id": "e0201b03-9db1-4caf-8e06-36434aab7dfe",
   "metadata": {},
   "outputs": [],
   "source": [
    "# Exporting Age Group Pie Chart \n",
    "age_group_pie_chart.figure.savefig(os.path.join(path,'04 Analysis','Visualizations','age_group_distribution_pie_chart.png'))\n"
   ]
  },
  {
   "cell_type": "markdown",
   "id": "a35fa969-6b5c-4c12-a5f2-d7bf84f3db58",
   "metadata": {},
   "source": [
    "## Profile Based on Income"
   ]
  },
  {
   "cell_type": "code",
   "execution_count": 99,
   "id": "2e9d6a0e-dde1-4772-a848-7ece2d6b9b79",
   "metadata": {},
   "outputs": [
    {
     "data": {
      "text/plain": [
       "count    3.240486e+07\n",
       "mean     9.943773e+04\n",
       "std      4.305727e+04\n",
       "min      2.590300e+04\n",
       "25%      6.700400e+04\n",
       "50%      9.661800e+04\n",
       "75%      1.279120e+05\n",
       "max      5.939010e+05\n",
       "Name: income, dtype: float64"
      ]
     },
     "execution_count": 99,
     "metadata": {},
     "output_type": "execute_result"
    }
   ],
   "source": [
    "ords_prods_cust_merge['income'].describe()"
   ]
  },
  {
   "cell_type": "code",
   "execution_count": 97,
   "id": "0cc8dbcb-1c3b-4dec-8b32-f702aa8c2873",
   "metadata": {},
   "outputs": [
    {
     "data": {
      "text/plain": [
       "<Axes: ylabel='Frequency'>"
      ]
     },
     "execution_count": 97,
     "metadata": {},
     "output_type": "execute_result"
    },
    {
     "data": {
      "image/png": "[encoded data removed]",
      "text/plain": [
       "<Figure size 640x480 with 1 Axes>"
      ]
     },
     "metadata": {},
     "output_type": "display_data"
    }
   ],
   "source": [
    "ords_prods_cust_merge['income'].plot.hist(bins=26)"
   ]
  },
  {
   "cell_type": "code",
   "execution_count": 101,
   "id": "88d0b0f3-d685-4c2c-b713-c651c092010c",
   "metadata": {},
   "outputs": [],
   "source": [
    "# to create uncome group by low,midd and high\n",
    "ords_prods_cust_merge.loc[ords_prods_cust_merge['income']<=65000,'income_group']='Low Income'"
   ]
  },
  {
   "cell_type": "code",
   "execution_count": 103,
   "id": "12276600-5998-45c9-969d-d5cd01874805",
   "metadata": {},
   "outputs": [],
   "source": [
    "ords_prods_cust_merge.loc[(ords_prods_cust_merge['income']>65000)&(ords_prods_cust_merge['income']<=130000),'income_group']='Middle Income'"
   ]
  },
  {
   "cell_type": "code",
   "execution_count": 105,
   "id": "927c3d15-12bb-439f-a89b-e13a0db23b6b",
   "metadata": {},
   "outputs": [],
   "source": [
    "ords_prods_cust_merge.loc[ords_prods_cust_merge['income']>130000,'income_group']='High Income'"
   ]
  },
  {
   "cell_type": "code",
   "execution_count": 394,
   "id": "954ccfb1-7949-464d-a136-243375c8b9dd",
   "metadata": {},
   "outputs": [
    {
     "data": {
      "text/plain": [
       "income_group\n",
       "Middle Income    17170138\n",
       "High Income       7713528\n",
       "Low Income        7521193\n",
       "Name: count, dtype: int64"
      ]
     },
     "execution_count": 394,
     "metadata": {},
     "output_type": "execute_result"
    }
   ],
   "source": [
    "ords_prods_cust_merge['income_group'].value_counts(dropna=False)"
   ]
  },
  {
   "cell_type": "code",
   "execution_count": 107,
   "id": "198c130b-e190-4585-a50a-710d3a9269da",
   "metadata": {},
   "outputs": [
    {
     "data": {
      "image/png": "[encoded data removed]",
      "text/plain": [
       "<Figure size 600x600 with 1 Axes>"
      ]
     },
     "metadata": {},
     "output_type": "display_data"
    }
   ],
   "source": [
    "# Creating Pie Chart of Income Groups\n",
    "income_group_counts = ords_prods_cust_merge['income_group'].value_counts()\n",
    "plt.figure(figsize=(6,6))\n",
    "income_group_pie_chart=income_group_counts.plot.pie(autopct='%1.1f%%',wedgeprops={'edgecolor':'black'})\n",
    "plt.title('Income Group ')\n",
    "plt.ylabel('')\n",
    "plt.tight_layout()\n",
    "plt.show()"
   ]
  },
  {
   "cell_type": "code",
   "execution_count": 109,
   "id": "4f32724a-44dd-4ef9-8a20-b8deb8611102",
   "metadata": {},
   "outputs": [],
   "source": [
    "# Exporting Income Group Pie Chart\n",
    "income_group_pie_chart.figure.savefig(os.path.join(path,'04 Analysis','Visualizations','income_group_distribution_pie.png'))"
   ]
  },
  {
   "cell_type": "markdown",
   "id": "fa0e7471-2e20-4c12-a38a-d275294aea67",
   "metadata": {},
   "source": [
    "## Profile Number of Dependants"
   ]
  },
  {
   "cell_type": "code",
   "execution_count": 114,
   "id": "a03777a8-57fd-43c1-8836-9da573ccdbcf",
   "metadata": {},
   "outputs": [
    {
     "data": {
      "text/plain": [
       "count    3.240486e+07\n",
       "mean     1.501896e+00\n",
       "std      1.118865e+00\n",
       "min      0.000000e+00\n",
       "25%      1.000000e+00\n",
       "50%      2.000000e+00\n",
       "75%      3.000000e+00\n",
       "max      3.000000e+00\n",
       "Name: n_dependants, dtype: float64"
      ]
     },
     "execution_count": 114,
     "metadata": {},
     "output_type": "execute_result"
    }
   ],
   "source": [
    "ords_prods_cust_merge['n_dependants'].describe()"
   ]
  },
  {
   "cell_type": "code",
   "execution_count": 118,
   "id": "14a2d7bd-af38-4008-a822-099dbdfcaffc",
   "metadata": {},
   "outputs": [],
   "source": [
    "ords_prods_cust_merge.loc[ords_prods_cust_merge['n_dependants']<=1,'dependant_size']='Small'"
   ]
  },
  {
   "cell_type": "code",
   "execution_count": 120,
   "id": "fbcba120-11fd-41cc-a501-1ee05b51a751",
   "metadata": {},
   "outputs": [],
   "source": [
    "ords_prods_cust_merge.loc[ords_prods_cust_merge['n_dependants']==2,'dependant_size']='Medium'"
   ]
  },
  {
   "cell_type": "code",
   "execution_count": 122,
   "id": "4b589995-c2f1-4235-b81b-e7e54e3772e8",
   "metadata": {},
   "outputs": [],
   "source": [
    "ords_prods_cust_merge.loc[ords_prods_cust_merge['n_dependants']>=3,'dependant_size']='Large'"
   ]
  },
  {
   "cell_type": "code",
   "execution_count": 124,
   "id": "de98db0b-1c83-4746-bb65-026de0061bf4",
   "metadata": {},
   "outputs": [
    {
     "data": {
      "text/plain": [
       "dependant_size\n",
       "Small     16178607\n",
       "Large      8135109\n",
       "Medium     8091143\n",
       "Name: count, dtype: int64"
      ]
     },
     "execution_count": 124,
     "metadata": {},
     "output_type": "execute_result"
    }
   ],
   "source": [
    "ords_prods_cust_merge['dependant_size'].value_counts(dropna=False)"
   ]
  },
  {
   "cell_type": "code",
   "execution_count": 128,
   "id": "4bd85933-8065-40fc-bc62-3e93a6bf8b7c",
   "metadata": {},
   "outputs": [
    {
     "data": {
      "image/png": "[encoded data removed]",
      "text/plain": [
       "<Figure size 640x480 with 1 Axes>"
      ]
     },
     "metadata": {},
     "output_type": "display_data"
    }
   ],
   "source": [
    "dependant_group_bar = ords_prods_cust_merge['dependant_size'].value_counts().plot.bar(color =['orange','blue','green'])\n"
   ]
  },
  {
   "cell_type": "code",
   "execution_count": 130,
   "id": "8f32e39d-a909-434b-b096-bca82f0295d6",
   "metadata": {},
   "outputs": [],
   "source": [
    "dependant_group_bar.figure.savefig(os.path.join(path,'04 Analysis','Visualizations','dependant_group_bar.png'))"
   ]
  },
  {
   "cell_type": "markdown",
   "id": "09492a0f-44c5-46c3-8fe3-22a861536bde",
   "metadata": {},
   "source": [
    "## Profile orders_day_of_week"
   ]
  },
  {
   "cell_type": "code",
   "execution_count": 142,
   "id": "bed72f9c-9ee0-432e-8a7b-c8f513ec6988",
   "metadata": {},
   "outputs": [
    {
     "data": {
      "image/png": "[encoded data removed]",
      "text/plain": [
       "<Figure size 700x700 with 1 Axes>"
      ]
     },
     "metadata": {},
     "output_type": "display_data"
    }
   ],
   "source": [
    "day_names = {0: 'Saturday', 1: 'Sunday', 2: 'Monday', 3: 'Tuesday', 4: 'Wednesday', 5: 'Thursday', 6: 'Friday'}\n",
    "\n",
    "plt.figure(figsize=(7, 7))\n",
    "ords_day_by_week = ords_prods_cust_merge['orders_day_of_week'].value_counts().sort_index().plot.bar(edgecolor='black', rot=0)\n",
    "plt.title('Orders by Day of Week')\n",
    "plt.xlabel('Day of Week')\n",
    "plt.ylabel('Count')\n",
    "plt.xticks(ticks=range(7), labels=[day_names[i] for i in range(7)])\n",
    "plt.show()"
   ]
  },
  {
   "cell_type": "code",
   "execution_count": 144,
   "id": "e8f89c7b-2a8f-4022-a106-5c92692bc0a6",
   "metadata": {},
   "outputs": [],
   "source": [
    "ords_day_by_week.figure.savefig(os.path.join(path,'04 Analysis','Visualizations','ords_day_by_week.png'))"
   ]
  },
  {
   "cell_type": "code",
   "execution_count": 152,
   "id": "674e2d51-bc84-4a34-b64b-889a33a02da3",
   "metadata": {},
   "outputs": [],
   "source": [
    "# Creating weekend flag\n",
    "ords_prods_cust_merge.loc[ords_prods_cust_merge['orders_day_of_week'].isin([0,1]),'week_day_category']='Weekend-high'"
   ]
  },
  {
   "cell_type": "code",
   "execution_count": 154,
   "id": "f2bd5f9c-a731-40e2-b84f-c0e06175a921",
   "metadata": {},
   "outputs": [],
   "source": [
    "ords_prods_cust_merge.loc[ords_prods_cust_merge['orders_day_of_week'].isin([2,3,4,5,6]),'week_day_category']='Weekday-low'"
   ]
  },
  {
   "cell_type": "code",
   "execution_count": 156,
   "id": "0f59ecc8-c688-4171-88fa-2bdaa85d48f1",
   "metadata": {},
   "outputs": [
    {
     "data": {
      "text/plain": [
       "week_day_category\n",
       "Weekday-low     20540447\n",
       "Weekend-high    11864412\n",
       "Name: count, dtype: int64"
      ]
     },
     "execution_count": 156,
     "metadata": {},
     "output_type": "execute_result"
    }
   ],
   "source": [
    "ords_prods_cust_merge['week_day_category'].value_counts(dropna=False)"
   ]
  },
  {
   "cell_type": "code",
   "execution_count": 158,
   "id": "f88964a2-21a1-406a-91ab-03325e9377ac",
   "metadata": {},
   "outputs": [
    {
     "data": {
      "image/png": "[encoded data removed]",
      "text/plain": [
       "<Figure size 640x480 with 1 Axes>"
      ]
     },
     "metadata": {},
     "output_type": "display_data"
    }
   ],
   "source": [
    "# ctreating bar chart of week days group\n",
    "week_day_order_count_bar = ords_prods_cust_merge['week_day_category'].value_counts().plot.bar(color =['orange','blue'])\n"
   ]
  },
  {
   "cell_type": "code",
   "execution_count": 160,
   "id": "f7d7cf56-9e97-42be-8112-56ade5792d43",
   "metadata": {},
   "outputs": [],
   "source": [
    "week_day_order_count_bar.figure.savefig(os.path.join(path,'04 Analysis','Visualizations','week_day_order_placement_comparison_bar.png'))"
   ]
  },
  {
   "cell_type": "markdown",
   "id": "65e709d6-ecbb-45f0-8946-53325a849938",
   "metadata": {},
   "source": [
    "## Profile order_hour_of_day"
   ]
  },
  {
   "cell_type": "code",
   "execution_count": 163,
   "id": "6f6559ea-00be-4167-b040-fa6f9b750cc4",
   "metadata": {},
   "outputs": [
    {
     "data": {
      "text/plain": [
       "count    3.240486e+07\n",
       "mean     1.342515e+01\n",
       "std      4.246380e+00\n",
       "min      0.000000e+00\n",
       "25%      1.000000e+01\n",
       "50%      1.300000e+01\n",
       "75%      1.600000e+01\n",
       "max      2.300000e+01\n",
       "Name: order_hour_of_day, dtype: float64"
      ]
     },
     "execution_count": 163,
     "metadata": {},
     "output_type": "execute_result"
    }
   ],
   "source": [
    "ords_prods_cust_merge['order_hour_of_day'].describe()"
   ]
  },
  {
   "cell_type": "code",
   "execution_count": 165,
   "id": "2182024f-1714-432a-b779-cb87f873937c",
   "metadata": {},
   "outputs": [],
   "source": [
    "# Creating order hour group \n",
    "ords_prods_cust_merge.loc[ords_prods_cust_merge['order_hour_of_day']<12,'order_hour_group']='Morning'"
   ]
  },
  {
   "cell_type": "code",
   "execution_count": 167,
   "id": "4f857419-e313-4605-a01c-7117861e7b41",
   "metadata": {},
   "outputs": [],
   "source": [
    "ords_prods_cust_merge.loc[(ords_prods_cust_merge['order_hour_of_day']>=12)&(ords_prods_cust_merge['order_hour_of_day']<=17),'order_hour_group']='Afternoon'"
   ]
  },
  {
   "cell_type": "code",
   "execution_count": 169,
   "id": "4d731782-ce9e-401e-a4bf-4e53102e2e1f",
   "metadata": {},
   "outputs": [],
   "source": [
    "ords_prods_cust_merge.loc[ords_prods_cust_merge['order_hour_of_day']>17,'order_hour_group']='Evening'"
   ]
  },
  {
   "cell_type": "code",
   "execution_count": 171,
   "id": "2a990172-ca70-4801-ae60-3abc932f434d",
   "metadata": {},
   "outputs": [
    {
     "data": {
      "text/plain": [
       "order_hour_group\n",
       "Afternoon    15253622\n",
       "Morning      11448096\n",
       "Evening       5703141\n",
       "Name: count, dtype: int64"
      ]
     },
     "execution_count": 171,
     "metadata": {},
     "output_type": "execute_result"
    }
   ],
   "source": [
    "ords_prods_cust_merge['order_hour_group'].value_counts(dropna=False)"
   ]
  },
  {
   "cell_type": "code",
   "execution_count": 181,
   "id": "adb0047e-7d34-488b-b0af-084cd7b95c9f",
   "metadata": {},
   "outputs": [
    {
     "data": {
      "image/png": "[encoded data removed]",
      "text/plain": [
       "<Figure size 800x800 with 1 Axes>"
      ]
     },
     "metadata": {},
     "output_type": "display_data"
    }
   ],
   "source": [
    "plt.figure(figsize=(8,8))\n",
    "order_hour_group_count = ords_prods_cust_merge['order_hour_group'].value_counts().plot.bar(color =['orange','blue','green'])\n",
    "plt.xlabel('')\n",
    "plt.ylabel('Count')\n",
    "plt.tight_layout()\n"
   ]
  },
  {
   "cell_type": "code",
   "execution_count": 185,
   "id": "30183cc4-3a3d-46cc-a288-02223db30179",
   "metadata": {},
   "outputs": [],
   "source": [
    "order_hour_group_count.figure.savefig(os.path.join(path,'04 Analysis','Visualizations','orders_hour_group_comparison_bar.png'))\n"
   ]
  },
  {
   "cell_type": "markdown",
   "id": "bed47201-f995-4be0-8053-10961418b70a",
   "metadata": {},
   "source": [
    "# **Step:7**\n",
    "##### Aggregate the max, mean, and min variables on a customer-profile level for usage frequency and expenditure."
   ]
  },
  {
   "cell_type": "code",
   "execution_count": 188,
   "id": "5160cfc7-2358-44d6-a9e6-f2d5909949ac",
   "metadata": {},
   "outputs": [
    {
     "data": {
      "text/plain": [
       "['order_id',\n",
       " 'user_id',\n",
       " 'order_number',\n",
       " 'orders_day_of_week',\n",
       " 'order_hour_of_day',\n",
       " 'days_since_prior_order',\n",
       " 'product_id',\n",
       " 'add_to_cart_order',\n",
       " 'reordered',\n",
       " 'product_name',\n",
       " 'aisle_id',\n",
       " 'department_id',\n",
       " 'prices',\n",
       " 'price_range_loc',\n",
       " 'busiest_day',\n",
       " 'busiest_days',\n",
       " 'busiest_period_of_day',\n",
       " 'max_order',\n",
       " 'loyalty_flag',\n",
       " 'average_spend',\n",
       " 'spender_flag',\n",
       " 'customer_frequency',\n",
       " 'frequency_flag',\n",
       " 'first_name',\n",
       " 'surname',\n",
       " 'gender',\n",
       " 'state',\n",
       " 'age',\n",
       " 'date_joined',\n",
       " 'n_dependants',\n",
       " 'marital_status',\n",
       " 'income',\n",
       " '_merge',\n",
       " 'region',\n",
       " 'customer_activity_flag',\n",
       " 'age_group',\n",
       " 'income_group',\n",
       " 'dependant_size',\n",
       " 'week_day_category',\n",
       " 'order_hour_group']"
      ]
     },
     "execution_count": 188,
     "metadata": {},
     "output_type": "execute_result"
    }
   ],
   "source": [
    "ords_prods_cust_merge.columns.tolist()"
   ]
  },
  {
   "cell_type": "code",
   "execution_count": 192,
   "id": "7033f626-764a-4b45-907f-9a637ea07312",
   "metadata": {},
   "outputs": [],
   "source": [
    "# Creating aggregation subset of customer profile\n",
    "cust_profile_agg=ords_prods_cust_merge.groupby(['user_id','order_number','days_since_prior_order','loyalty_flag','spender_flag','customer_frequency','state','region','customer_activity_flag','age_group','income','income_group','marital_status','dependant_size','week_day_category','orders_day_of_week','order_hour_group','order_hour_of_day'])['prices'].sum().reset_index()\n"
   ]
  },
  {
   "cell_type": "code",
   "execution_count": 193,
   "id": "d8982bf9-0afa-45ba-932f-7e520627bd26",
   "metadata": {},
   "outputs": [
    {
     "data": {
      "text/html": [
       "<div>\n",
       "<style scoped>\n",
       "    .dataframe tbody tr th:only-of-type {\n",
       "        vertical-align: middle;\n",
       "    }\n",
       "\n",
       "    .dataframe tbody tr th {\n",
       "        vertical-align: top;\n",
       "    }\n",
       "\n",
       "    .dataframe thead th {\n",
       "        text-align: right;\n",
       "    }\n",
       "</style>\n",
       "<table border=\"1\" class=\"dataframe\">\n",
       "  <thead>\n",
       "    <tr style=\"text-align: right;\">\n",
       "      <th></th>\n",
       "      <th>user_id</th>\n",
       "      <th>order_number</th>\n",
       "      <th>days_since_prior_order</th>\n",
       "      <th>loyalty_flag</th>\n",
       "      <th>spender_flag</th>\n",
       "      <th>customer_frequency</th>\n",
       "      <th>state</th>\n",
       "      <th>region</th>\n",
       "      <th>customer_activity_flag</th>\n",
       "      <th>age_group</th>\n",
       "      <th>income</th>\n",
       "      <th>income_group</th>\n",
       "      <th>marital_status</th>\n",
       "      <th>dependant_size</th>\n",
       "      <th>week_day_category</th>\n",
       "      <th>orders_day_of_week</th>\n",
       "      <th>order_hour_group</th>\n",
       "      <th>order_hour_of_day</th>\n",
       "      <th>prices</th>\n",
       "    </tr>\n",
       "  </thead>\n",
       "  <tbody>\n",
       "    <tr>\n",
       "      <th>0</th>\n",
       "      <td>1</td>\n",
       "      <td>2</td>\n",
       "      <td>15.0</td>\n",
       "      <td>New customer</td>\n",
       "      <td>Low_spender</td>\n",
       "      <td>20.5</td>\n",
       "      <td>Alabama</td>\n",
       "      <td>South</td>\n",
       "      <td>High Activity</td>\n",
       "      <td>Middle-Age Adult</td>\n",
       "      <td>40423</td>\n",
       "      <td>Low Income</td>\n",
       "      <td>married</td>\n",
       "      <td>Large</td>\n",
       "      <td>Weekday-low</td>\n",
       "      <td>3</td>\n",
       "      <td>Morning</td>\n",
       "      <td>7</td>\n",
       "      <td>35.4</td>\n",
       "    </tr>\n",
       "    <tr>\n",
       "      <th>1</th>\n",
       "      <td>1</td>\n",
       "      <td>3</td>\n",
       "      <td>21.0</td>\n",
       "      <td>New customer</td>\n",
       "      <td>Low_spender</td>\n",
       "      <td>20.5</td>\n",
       "      <td>Alabama</td>\n",
       "      <td>South</td>\n",
       "      <td>High Activity</td>\n",
       "      <td>Middle-Age Adult</td>\n",
       "      <td>40423</td>\n",
       "      <td>Low Income</td>\n",
       "      <td>married</td>\n",
       "      <td>Large</td>\n",
       "      <td>Weekday-low</td>\n",
       "      <td>3</td>\n",
       "      <td>Afternoon</td>\n",
       "      <td>12</td>\n",
       "      <td>28.2</td>\n",
       "    </tr>\n",
       "    <tr>\n",
       "      <th>2</th>\n",
       "      <td>1</td>\n",
       "      <td>4</td>\n",
       "      <td>29.0</td>\n",
       "      <td>New customer</td>\n",
       "      <td>Low_spender</td>\n",
       "      <td>20.5</td>\n",
       "      <td>Alabama</td>\n",
       "      <td>South</td>\n",
       "      <td>High Activity</td>\n",
       "      <td>Middle-Age Adult</td>\n",
       "      <td>40423</td>\n",
       "      <td>Low Income</td>\n",
       "      <td>married</td>\n",
       "      <td>Large</td>\n",
       "      <td>Weekday-low</td>\n",
       "      <td>4</td>\n",
       "      <td>Morning</td>\n",
       "      <td>7</td>\n",
       "      <td>26.0</td>\n",
       "    </tr>\n",
       "    <tr>\n",
       "      <th>3</th>\n",
       "      <td>1</td>\n",
       "      <td>5</td>\n",
       "      <td>28.0</td>\n",
       "      <td>New customer</td>\n",
       "      <td>Low_spender</td>\n",
       "      <td>20.5</td>\n",
       "      <td>Alabama</td>\n",
       "      <td>South</td>\n",
       "      <td>High Activity</td>\n",
       "      <td>Middle-Age Adult</td>\n",
       "      <td>40423</td>\n",
       "      <td>Low Income</td>\n",
       "      <td>married</td>\n",
       "      <td>Large</td>\n",
       "      <td>Weekday-low</td>\n",
       "      <td>4</td>\n",
       "      <td>Afternoon</td>\n",
       "      <td>15</td>\n",
       "      <td>57.0</td>\n",
       "    </tr>\n",
       "    <tr>\n",
       "      <th>4</th>\n",
       "      <td>1</td>\n",
       "      <td>6</td>\n",
       "      <td>19.0</td>\n",
       "      <td>New customer</td>\n",
       "      <td>Low_spender</td>\n",
       "      <td>20.5</td>\n",
       "      <td>Alabama</td>\n",
       "      <td>South</td>\n",
       "      <td>High Activity</td>\n",
       "      <td>Middle-Age Adult</td>\n",
       "      <td>40423</td>\n",
       "      <td>Low Income</td>\n",
       "      <td>married</td>\n",
       "      <td>Large</td>\n",
       "      <td>Weekday-low</td>\n",
       "      <td>2</td>\n",
       "      <td>Morning</td>\n",
       "      <td>7</td>\n",
       "      <td>25.0</td>\n",
       "    </tr>\n",
       "  </tbody>\n",
       "</table>\n",
       "</div>"
      ],
      "text/plain": [
       "  user_id  order_number  days_since_prior_order  loyalty_flag spender_flag  \\\n",
       "0       1             2                    15.0  New customer  Low_spender   \n",
       "1       1             3                    21.0  New customer  Low_spender   \n",
       "2       1             4                    29.0  New customer  Low_spender   \n",
       "3       1             5                    28.0  New customer  Low_spender   \n",
       "4       1             6                    19.0  New customer  Low_spender   \n",
       "\n",
       "   customer_frequency    state region customer_activity_flag  \\\n",
       "0                20.5  Alabama  South          High Activity   \n",
       "1                20.5  Alabama  South          High Activity   \n",
       "2                20.5  Alabama  South          High Activity   \n",
       "3                20.5  Alabama  South          High Activity   \n",
       "4                20.5  Alabama  South          High Activity   \n",
       "\n",
       "          age_group  income income_group marital_status dependant_size  \\\n",
       "0  Middle-Age Adult   40423   Low Income        married          Large   \n",
       "1  Middle-Age Adult   40423   Low Income        married          Large   \n",
       "2  Middle-Age Adult   40423   Low Income        married          Large   \n",
       "3  Middle-Age Adult   40423   Low Income        married          Large   \n",
       "4  Middle-Age Adult   40423   Low Income        married          Large   \n",
       "\n",
       "  week_day_category  orders_day_of_week order_hour_group  order_hour_of_day  \\\n",
       "0       Weekday-low                   3          Morning                  7   \n",
       "1       Weekday-low                   3        Afternoon                 12   \n",
       "2       Weekday-low                   4          Morning                  7   \n",
       "3       Weekday-low                   4        Afternoon                 15   \n",
       "4       Weekday-low                   2          Morning                  7   \n",
       "\n",
       "   prices  \n",
       "0    35.4  \n",
       "1    28.2  \n",
       "2    26.0  \n",
       "3    57.0  \n",
       "4    25.0  "
      ]
     },
     "execution_count": 193,
     "metadata": {},
     "output_type": "execute_result"
    }
   ],
   "source": [
    "cust_profile_agg.head()"
   ]
  },
  {
   "cell_type": "code",
   "execution_count": 196,
   "id": "cb19bc69-c484-4dfc-b1f3-c1556198c6c0",
   "metadata": {},
   "outputs": [
    {
     "data": {
      "text/plain": [
       "user_id                    object\n",
       "order_number                int64\n",
       "days_since_prior_order    float64\n",
       "loyalty_flag               object\n",
       "spender_flag               object\n",
       "customer_frequency        float64\n",
       "state                      object\n",
       "region                     object\n",
       "customer_activity_flag     object\n",
       "age_group                  object\n",
       "income                      int64\n",
       "income_group               object\n",
       "marital_status             object\n",
       "dependant_size             object\n",
       "week_day_category          object\n",
       "orders_day_of_week          int64\n",
       "order_hour_group           object\n",
       "order_hour_of_day           int64\n",
       "prices                    float64\n",
       "dtype: object"
      ]
     },
     "execution_count": 196,
     "metadata": {},
     "output_type": "execute_result"
    }
   ],
   "source": [
    "cust_profile_agg.dtypes"
   ]
  },
  {
   "cell_type": "code",
   "execution_count": 198,
   "id": "97c6c0fa-b9fd-42a3-a02f-291f21f8f288",
   "metadata": {},
   "outputs": [],
   "source": [
    "user_agg=cust_profile_agg.groupby('user_id').agg({'order_number': ['mean', 'min', 'max'],'days_since_prior_order': ['mean', 'min', 'max'],\n",
    "                                        'orders_day_of_week': ['mean', 'min', 'max'],'order_hour_of_day': ['mean', 'min', 'max'],\n",
    "                                        'prices': ['mean', 'min', 'max'],'income':['mean','min','max']})"
   ]
  },
  {
   "cell_type": "code",
   "execution_count": 200,
   "id": "87d31d70-a57c-45db-ad5f-04671a73e78d",
   "metadata": {},
   "outputs": [
    {
     "data": {
      "text/html": [
       "<div>\n",
       "<style scoped>\n",
       "    .dataframe tbody tr th:only-of-type {\n",
       "        vertical-align: middle;\n",
       "    }\n",
       "\n",
       "    .dataframe tbody tr th {\n",
       "        vertical-align: top;\n",
       "    }\n",
       "\n",
       "    .dataframe thead tr th {\n",
       "        text-align: left;\n",
       "    }\n",
       "\n",
       "    .dataframe thead tr:last-of-type th {\n",
       "        text-align: right;\n",
       "    }\n",
       "</style>\n",
       "<table border=\"1\" class=\"dataframe\">\n",
       "  <thead>\n",
       "    <tr>\n",
       "      <th></th>\n",
       "      <th colspan=\"3\" halign=\"left\">order_number</th>\n",
       "      <th colspan=\"3\" halign=\"left\">days_since_prior_order</th>\n",
       "      <th colspan=\"3\" halign=\"left\">orders_day_of_week</th>\n",
       "      <th colspan=\"3\" halign=\"left\">order_hour_of_day</th>\n",
       "      <th colspan=\"3\" halign=\"left\">prices</th>\n",
       "      <th colspan=\"3\" halign=\"left\">income</th>\n",
       "    </tr>\n",
       "    <tr>\n",
       "      <th></th>\n",
       "      <th>mean</th>\n",
       "      <th>min</th>\n",
       "      <th>max</th>\n",
       "      <th>mean</th>\n",
       "      <th>min</th>\n",
       "      <th>max</th>\n",
       "      <th>mean</th>\n",
       "      <th>min</th>\n",
       "      <th>max</th>\n",
       "      <th>mean</th>\n",
       "      <th>min</th>\n",
       "      <th>max</th>\n",
       "      <th>mean</th>\n",
       "      <th>min</th>\n",
       "      <th>max</th>\n",
       "      <th>mean</th>\n",
       "      <th>min</th>\n",
       "      <th>max</th>\n",
       "    </tr>\n",
       "    <tr>\n",
       "      <th>user_id</th>\n",
       "      <th></th>\n",
       "      <th></th>\n",
       "      <th></th>\n",
       "      <th></th>\n",
       "      <th></th>\n",
       "      <th></th>\n",
       "      <th></th>\n",
       "      <th></th>\n",
       "      <th></th>\n",
       "      <th></th>\n",
       "      <th></th>\n",
       "      <th></th>\n",
       "      <th></th>\n",
       "      <th></th>\n",
       "      <th></th>\n",
       "      <th></th>\n",
       "      <th></th>\n",
       "      <th></th>\n",
       "    </tr>\n",
       "  </thead>\n",
       "  <tbody>\n",
       "    <tr>\n",
       "      <th>1</th>\n",
       "      <td>6.0</td>\n",
       "      <td>2</td>\n",
       "      <td>10</td>\n",
       "      <td>19.555556</td>\n",
       "      <td>0.0</td>\n",
       "      <td>30.0</td>\n",
       "      <td>2.555556</td>\n",
       "      <td>1</td>\n",
       "      <td>4</td>\n",
       "      <td>10.555556</td>\n",
       "      <td>7</td>\n",
       "      <td>16</td>\n",
       "      <td>38.233333</td>\n",
       "      <td>25.0</td>\n",
       "      <td>63.1</td>\n",
       "      <td>40423.0</td>\n",
       "      <td>40423</td>\n",
       "      <td>40423</td>\n",
       "    </tr>\n",
       "    <tr>\n",
       "      <th>10</th>\n",
       "      <td>3.5</td>\n",
       "      <td>2</td>\n",
       "      <td>5</td>\n",
       "      <td>19.750000</td>\n",
       "      <td>12.0</td>\n",
       "      <td>30.0</td>\n",
       "      <td>4.000000</td>\n",
       "      <td>3</td>\n",
       "      <td>5</td>\n",
       "      <td>17.250000</td>\n",
       "      <td>15</td>\n",
       "      <td>20</td>\n",
       "      <td>299.500000</td>\n",
       "      <td>240.0</td>\n",
       "      <td>429.6</td>\n",
       "      <td>52716.0</td>\n",
       "      <td>52716</td>\n",
       "      <td>52716</td>\n",
       "    </tr>\n",
       "    <tr>\n",
       "      <th>100</th>\n",
       "      <td>3.5</td>\n",
       "      <td>2</td>\n",
       "      <td>5</td>\n",
       "      <td>26.000000</td>\n",
       "      <td>18.0</td>\n",
       "      <td>30.0</td>\n",
       "      <td>2.250000</td>\n",
       "      <td>0</td>\n",
       "      <td>5</td>\n",
       "      <td>17.500000</td>\n",
       "      <td>15</td>\n",
       "      <td>20</td>\n",
       "      <td>60.700000</td>\n",
       "      <td>28.2</td>\n",
       "      <td>97.6</td>\n",
       "      <td>138741.0</td>\n",
       "      <td>138741</td>\n",
       "      <td>138741</td>\n",
       "    </tr>\n",
       "    <tr>\n",
       "      <th>1000</th>\n",
       "      <td>4.5</td>\n",
       "      <td>2</td>\n",
       "      <td>7</td>\n",
       "      <td>12.166667</td>\n",
       "      <td>5.0</td>\n",
       "      <td>30.0</td>\n",
       "      <td>2.833333</td>\n",
       "      <td>0</td>\n",
       "      <td>6</td>\n",
       "      <td>16.833333</td>\n",
       "      <td>14</td>\n",
       "      <td>18</td>\n",
       "      <td>122.916667</td>\n",
       "      <td>112.9</td>\n",
       "      <td>134.4</td>\n",
       "      <td>63581.0</td>\n",
       "      <td>63581</td>\n",
       "      <td>63581</td>\n",
       "    </tr>\n",
       "    <tr>\n",
       "      <th>10000</th>\n",
       "      <td>37.0</td>\n",
       "      <td>2</td>\n",
       "      <td>72</td>\n",
       "      <td>4.507042</td>\n",
       "      <td>0.0</td>\n",
       "      <td>17.0</td>\n",
       "      <td>2.760563</td>\n",
       "      <td>0</td>\n",
       "      <td>6</td>\n",
       "      <td>11.380282</td>\n",
       "      <td>5</td>\n",
       "      <td>22</td>\n",
       "      <td>121.188732</td>\n",
       "      <td>11.8</td>\n",
       "      <td>298.2</td>\n",
       "      <td>61257.0</td>\n",
       "      <td>61257</td>\n",
       "      <td>61257</td>\n",
       "    </tr>\n",
       "    <tr>\n",
       "      <th>...</th>\n",
       "      <td>...</td>\n",
       "      <td>...</td>\n",
       "      <td>...</td>\n",
       "      <td>...</td>\n",
       "      <td>...</td>\n",
       "      <td>...</td>\n",
       "      <td>...</td>\n",
       "      <td>...</td>\n",
       "      <td>...</td>\n",
       "      <td>...</td>\n",
       "      <td>...</td>\n",
       "      <td>...</td>\n",
       "      <td>...</td>\n",
       "      <td>...</td>\n",
       "      <td>...</td>\n",
       "      <td>...</td>\n",
       "      <td>...</td>\n",
       "      <td>...</td>\n",
       "    </tr>\n",
       "    <tr>\n",
       "      <th>99995</th>\n",
       "      <td>3.5</td>\n",
       "      <td>2</td>\n",
       "      <td>5</td>\n",
       "      <td>18.000000</td>\n",
       "      <td>6.0</td>\n",
       "      <td>30.0</td>\n",
       "      <td>3.250000</td>\n",
       "      <td>0</td>\n",
       "      <td>6</td>\n",
       "      <td>13.000000</td>\n",
       "      <td>12</td>\n",
       "      <td>14</td>\n",
       "      <td>88.825000</td>\n",
       "      <td>42.9</td>\n",
       "      <td>132.5</td>\n",
       "      <td>92882.0</td>\n",
       "      <td>92882</td>\n",
       "      <td>92882</td>\n",
       "    </tr>\n",
       "    <tr>\n",
       "      <th>99996</th>\n",
       "      <td>7.0</td>\n",
       "      <td>2</td>\n",
       "      <td>12</td>\n",
       "      <td>22.181818</td>\n",
       "      <td>15.0</td>\n",
       "      <td>30.0</td>\n",
       "      <td>2.272727</td>\n",
       "      <td>1</td>\n",
       "      <td>5</td>\n",
       "      <td>10.545455</td>\n",
       "      <td>8</td>\n",
       "      <td>13</td>\n",
       "      <td>78.118182</td>\n",
       "      <td>2.8</td>\n",
       "      <td>127.1</td>\n",
       "      <td>107293.0</td>\n",
       "      <td>107293</td>\n",
       "      <td>107293</td>\n",
       "    </tr>\n",
       "    <tr>\n",
       "      <th>99997</th>\n",
       "      <td>2.5</td>\n",
       "      <td>2</td>\n",
       "      <td>3</td>\n",
       "      <td>22.000000</td>\n",
       "      <td>14.0</td>\n",
       "      <td>30.0</td>\n",
       "      <td>2.000000</td>\n",
       "      <td>2</td>\n",
       "      <td>2</td>\n",
       "      <td>13.500000</td>\n",
       "      <td>12</td>\n",
       "      <td>15</td>\n",
       "      <td>70.500000</td>\n",
       "      <td>31.6</td>\n",
       "      <td>109.4</td>\n",
       "      <td>71271.0</td>\n",
       "      <td>71271</td>\n",
       "      <td>71271</td>\n",
       "    </tr>\n",
       "    <tr>\n",
       "      <th>99998</th>\n",
       "      <td>3.5</td>\n",
       "      <td>2</td>\n",
       "      <td>5</td>\n",
       "      <td>8.750000</td>\n",
       "      <td>7.0</td>\n",
       "      <td>12.0</td>\n",
       "      <td>2.250000</td>\n",
       "      <td>1</td>\n",
       "      <td>6</td>\n",
       "      <td>12.000000</td>\n",
       "      <td>9</td>\n",
       "      <td>17</td>\n",
       "      <td>42.325000</td>\n",
       "      <td>20.9</td>\n",
       "      <td>51.2</td>\n",
       "      <td>98951.0</td>\n",
       "      <td>98951</td>\n",
       "      <td>98951</td>\n",
       "    </tr>\n",
       "    <tr>\n",
       "      <th>99999</th>\n",
       "      <td>18.0</td>\n",
       "      <td>2</td>\n",
       "      <td>34</td>\n",
       "      <td>6.969697</td>\n",
       "      <td>1.0</td>\n",
       "      <td>24.0</td>\n",
       "      <td>2.454545</td>\n",
       "      <td>0</td>\n",
       "      <td>6</td>\n",
       "      <td>14.606061</td>\n",
       "      <td>7</td>\n",
       "      <td>23</td>\n",
       "      <td>70.118182</td>\n",
       "      <td>6.7</td>\n",
       "      <td>159.7</td>\n",
       "      <td>55497.0</td>\n",
       "      <td>55497</td>\n",
       "      <td>55497</td>\n",
       "    </tr>\n",
       "  </tbody>\n",
       "</table>\n",
       "<p>206208 rows × 18 columns</p>\n",
       "</div>"
      ],
      "text/plain": [
       "        order_number         days_since_prior_order              \\\n",
       "                mean min max                   mean   min   max   \n",
       "user_id                                                           \n",
       "1                6.0   2  10              19.555556   0.0  30.0   \n",
       "10               3.5   2   5              19.750000  12.0  30.0   \n",
       "100              3.5   2   5              26.000000  18.0  30.0   \n",
       "1000             4.5   2   7              12.166667   5.0  30.0   \n",
       "10000           37.0   2  72               4.507042   0.0  17.0   \n",
       "...              ...  ..  ..                    ...   ...   ...   \n",
       "99995            3.5   2   5              18.000000   6.0  30.0   \n",
       "99996            7.0   2  12              22.181818  15.0  30.0   \n",
       "99997            2.5   2   3              22.000000  14.0  30.0   \n",
       "99998            3.5   2   5               8.750000   7.0  12.0   \n",
       "99999           18.0   2  34               6.969697   1.0  24.0   \n",
       "\n",
       "        orders_day_of_week         order_hour_of_day              prices  \\\n",
       "                      mean min max              mean min max        mean   \n",
       "user_id                                                                    \n",
       "1                 2.555556   1   4         10.555556   7  16   38.233333   \n",
       "10                4.000000   3   5         17.250000  15  20  299.500000   \n",
       "100               2.250000   0   5         17.500000  15  20   60.700000   \n",
       "1000              2.833333   0   6         16.833333  14  18  122.916667   \n",
       "10000             2.760563   0   6         11.380282   5  22  121.188732   \n",
       "...                    ...  ..  ..               ...  ..  ..         ...   \n",
       "99995             3.250000   0   6         13.000000  12  14   88.825000   \n",
       "99996             2.272727   1   5         10.545455   8  13   78.118182   \n",
       "99997             2.000000   2   2         13.500000  12  15   70.500000   \n",
       "99998             2.250000   1   6         12.000000   9  17   42.325000   \n",
       "99999             2.454545   0   6         14.606061   7  23   70.118182   \n",
       "\n",
       "                         income                  \n",
       "           min    max      mean     min     max  \n",
       "user_id                                          \n",
       "1         25.0   63.1   40423.0   40423   40423  \n",
       "10       240.0  429.6   52716.0   52716   52716  \n",
       "100       28.2   97.6  138741.0  138741  138741  \n",
       "1000     112.9  134.4   63581.0   63581   63581  \n",
       "10000     11.8  298.2   61257.0   61257   61257  \n",
       "...        ...    ...       ...     ...     ...  \n",
       "99995     42.9  132.5   92882.0   92882   92882  \n",
       "99996      2.8  127.1  107293.0  107293  107293  \n",
       "99997     31.6  109.4   71271.0   71271   71271  \n",
       "99998     20.9   51.2   98951.0   98951   98951  \n",
       "99999      6.7  159.7   55497.0   55497   55497  \n",
       "\n",
       "[206208 rows x 18 columns]"
      ]
     },
     "execution_count": 200,
     "metadata": {},
     "output_type": "execute_result"
    }
   ],
   "source": [
    "user_agg"
   ]
  },
  {
   "cell_type": "code",
   "execution_count": 202,
   "id": "675ffd8e-085e-4780-8018-54bc6ac30b6e",
   "metadata": {},
   "outputs": [],
   "source": [
    "# Creating aggregation by age_group for days_since_prior_order & prices\n",
    "age_group_agg=cust_profile_agg.groupby('age_group').agg({'days_since_prior_order':['mean','min','max'],'prices':['mean','min','max']})"
   ]
  },
  {
   "cell_type": "code",
   "execution_count": 204,
   "id": "0dcb9238-9aa5-40e9-9cd1-214b2c569c4b",
   "metadata": {},
   "outputs": [
    {
     "data": {
      "text/html": [
       "<div>\n",
       "<style scoped>\n",
       "    .dataframe tbody tr th:only-of-type {\n",
       "        vertical-align: middle;\n",
       "    }\n",
       "\n",
       "    .dataframe tbody tr th {\n",
       "        vertical-align: top;\n",
       "    }\n",
       "\n",
       "    .dataframe thead tr th {\n",
       "        text-align: left;\n",
       "    }\n",
       "\n",
       "    .dataframe thead tr:last-of-type th {\n",
       "        text-align: right;\n",
       "    }\n",
       "</style>\n",
       "<table border=\"1\" class=\"dataframe\">\n",
       "  <thead>\n",
       "    <tr>\n",
       "      <th></th>\n",
       "      <th colspan=\"3\" halign=\"left\">days_since_prior_order</th>\n",
       "      <th colspan=\"3\" halign=\"left\">prices</th>\n",
       "    </tr>\n",
       "    <tr>\n",
       "      <th></th>\n",
       "      <th>mean</th>\n",
       "      <th>min</th>\n",
       "      <th>max</th>\n",
       "      <th>mean</th>\n",
       "      <th>min</th>\n",
       "      <th>max</th>\n",
       "    </tr>\n",
       "    <tr>\n",
       "      <th>age_group</th>\n",
       "      <th></th>\n",
       "      <th></th>\n",
       "      <th></th>\n",
       "      <th></th>\n",
       "      <th></th>\n",
       "      <th></th>\n",
       "    </tr>\n",
       "  </thead>\n",
       "  <tbody>\n",
       "    <tr>\n",
       "      <th>Middle-Age Adult</th>\n",
       "      <td>10.693267</td>\n",
       "      <td>0.0</td>\n",
       "      <td>30.0</td>\n",
       "      <td>121.530076</td>\n",
       "      <td>1.0</td>\n",
       "      <td>100442.8</td>\n",
       "    </tr>\n",
       "    <tr>\n",
       "      <th>Senior</th>\n",
       "      <td>10.702699</td>\n",
       "      <td>0.0</td>\n",
       "      <td>30.0</td>\n",
       "      <td>118.998289</td>\n",
       "      <td>1.0</td>\n",
       "      <td>100452.9</td>\n",
       "    </tr>\n",
       "    <tr>\n",
       "      <th>Young Adult</th>\n",
       "      <td>10.746529</td>\n",
       "      <td>0.0</td>\n",
       "      <td>30.0</td>\n",
       "      <td>121.740161</td>\n",
       "      <td>1.0</td>\n",
       "      <td>100311.3</td>\n",
       "    </tr>\n",
       "  </tbody>\n",
       "</table>\n",
       "</div>"
      ],
      "text/plain": [
       "                 days_since_prior_order                 prices               \n",
       "                                   mean  min   max        mean  min       max\n",
       "age_group                                                                    \n",
       "Middle-Age Adult              10.693267  0.0  30.0  121.530076  1.0  100442.8\n",
       "Senior                        10.702699  0.0  30.0  118.998289  1.0  100452.9\n",
       "Young Adult                   10.746529  0.0  30.0  121.740161  1.0  100311.3"
      ]
     },
     "execution_count": 204,
     "metadata": {},
     "output_type": "execute_result"
    }
   ],
   "source": [
    "age_group_agg"
   ]
  },
  {
   "cell_type": "code",
   "execution_count": 206,
   "id": "c5c94a8b-dceb-4a68-9010-f9aea823e3f0",
   "metadata": {},
   "outputs": [
    {
     "data": {
      "text/html": [
       "<div>\n",
       "<style scoped>\n",
       "    .dataframe tbody tr th:only-of-type {\n",
       "        vertical-align: middle;\n",
       "    }\n",
       "\n",
       "    .dataframe tbody tr th {\n",
       "        vertical-align: top;\n",
       "    }\n",
       "\n",
       "    .dataframe thead tr th {\n",
       "        text-align: left;\n",
       "    }\n",
       "\n",
       "    .dataframe thead tr:last-of-type th {\n",
       "        text-align: right;\n",
       "    }\n",
       "</style>\n",
       "<table border=\"1\" class=\"dataframe\">\n",
       "  <thead>\n",
       "    <tr>\n",
       "      <th></th>\n",
       "      <th colspan=\"3\" halign=\"left\">days_since_prior_order</th>\n",
       "      <th colspan=\"3\" halign=\"left\">prices</th>\n",
       "    </tr>\n",
       "    <tr>\n",
       "      <th></th>\n",
       "      <th>mean</th>\n",
       "      <th>min</th>\n",
       "      <th>max</th>\n",
       "      <th>mean</th>\n",
       "      <th>min</th>\n",
       "      <th>max</th>\n",
       "    </tr>\n",
       "    <tr>\n",
       "      <th>income_group</th>\n",
       "      <th></th>\n",
       "      <th></th>\n",
       "      <th></th>\n",
       "      <th></th>\n",
       "      <th></th>\n",
       "      <th></th>\n",
       "    </tr>\n",
       "  </thead>\n",
       "  <tbody>\n",
       "    <tr>\n",
       "      <th>High Income</th>\n",
       "      <td>10.514026</td>\n",
       "      <td>0.0</td>\n",
       "      <td>30.0</td>\n",
       "      <td>237.037517</td>\n",
       "      <td>1.0</td>\n",
       "      <td>100452.9</td>\n",
       "    </tr>\n",
       "    <tr>\n",
       "      <th>Low Income</th>\n",
       "      <td>11.165659</td>\n",
       "      <td>0.0</td>\n",
       "      <td>30.0</td>\n",
       "      <td>63.922136</td>\n",
       "      <td>1.0</td>\n",
       "      <td>15298.4</td>\n",
       "    </tr>\n",
       "    <tr>\n",
       "      <th>Middle Income</th>\n",
       "      <td>10.555562</td>\n",
       "      <td>0.0</td>\n",
       "      <td>30.0</td>\n",
       "      <td>97.993749</td>\n",
       "      <td>1.0</td>\n",
       "      <td>100384.5</td>\n",
       "    </tr>\n",
       "  </tbody>\n",
       "</table>\n",
       "</div>"
      ],
      "text/plain": [
       "              days_since_prior_order                 prices               \n",
       "                                mean  min   max        mean  min       max\n",
       "income_group                                                              \n",
       "High Income                10.514026  0.0  30.0  237.037517  1.0  100452.9\n",
       "Low Income                 11.165659  0.0  30.0   63.922136  1.0   15298.4\n",
       "Middle Income              10.555562  0.0  30.0   97.993749  1.0  100384.5"
      ]
     },
     "execution_count": 206,
     "metadata": {},
     "output_type": "execute_result"
    }
   ],
   "source": [
    "# Creating aggregation by income_group for days_since_prior_order & prices\n",
    "income_group_agg=cust_profile_agg.groupby('income_group').agg({'days_since_prior_order':['mean','min','max'],'prices':['mean','min','max']})\n",
    "income_group_agg"
   ]
  },
  {
   "cell_type": "code",
   "execution_count": 208,
   "id": "36b7658a-99b9-427f-a361-ed1d4aeed3ef",
   "metadata": {},
   "outputs": [
    {
     "data": {
      "text/html": [
       "<div>\n",
       "<style scoped>\n",
       "    .dataframe tbody tr th:only-of-type {\n",
       "        vertical-align: middle;\n",
       "    }\n",
       "\n",
       "    .dataframe tbody tr th {\n",
       "        vertical-align: top;\n",
       "    }\n",
       "\n",
       "    .dataframe thead tr th {\n",
       "        text-align: left;\n",
       "    }\n",
       "\n",
       "    .dataframe thead tr:last-of-type th {\n",
       "        text-align: right;\n",
       "    }\n",
       "</style>\n",
       "<table border=\"1\" class=\"dataframe\">\n",
       "  <thead>\n",
       "    <tr>\n",
       "      <th></th>\n",
       "      <th colspan=\"3\" halign=\"left\">days_since_prior_order</th>\n",
       "      <th colspan=\"3\" halign=\"left\">prices</th>\n",
       "    </tr>\n",
       "    <tr>\n",
       "      <th></th>\n",
       "      <th>mean</th>\n",
       "      <th>min</th>\n",
       "      <th>max</th>\n",
       "      <th>mean</th>\n",
       "      <th>min</th>\n",
       "      <th>max</th>\n",
       "    </tr>\n",
       "    <tr>\n",
       "      <th>dependant_size</th>\n",
       "      <th></th>\n",
       "      <th></th>\n",
       "      <th></th>\n",
       "      <th></th>\n",
       "      <th></th>\n",
       "      <th></th>\n",
       "    </tr>\n",
       "  </thead>\n",
       "  <tbody>\n",
       "    <tr>\n",
       "      <th>Large</th>\n",
       "      <td>10.680234</td>\n",
       "      <td>0.0</td>\n",
       "      <td>30.0</td>\n",
       "      <td>118.299006</td>\n",
       "      <td>1.0</td>\n",
       "      <td>100330.2</td>\n",
       "    </tr>\n",
       "    <tr>\n",
       "      <th>Medium</th>\n",
       "      <td>10.736552</td>\n",
       "      <td>0.0</td>\n",
       "      <td>30.0</td>\n",
       "      <td>125.860276</td>\n",
       "      <td>1.0</td>\n",
       "      <td>100452.9</td>\n",
       "    </tr>\n",
       "    <tr>\n",
       "      <th>Small</th>\n",
       "      <td>10.706005</td>\n",
       "      <td>0.0</td>\n",
       "      <td>30.0</td>\n",
       "      <td>119.421591</td>\n",
       "      <td>1.0</td>\n",
       "      <td>100442.8</td>\n",
       "    </tr>\n",
       "  </tbody>\n",
       "</table>\n",
       "</div>"
      ],
      "text/plain": [
       "               days_since_prior_order                 prices               \n",
       "                                 mean  min   max        mean  min       max\n",
       "dependant_size                                                             \n",
       "Large                       10.680234  0.0  30.0  118.299006  1.0  100330.2\n",
       "Medium                      10.736552  0.0  30.0  125.860276  1.0  100452.9\n",
       "Small                       10.706005  0.0  30.0  119.421591  1.0  100442.8"
      ]
     },
     "execution_count": 208,
     "metadata": {},
     "output_type": "execute_result"
    }
   ],
   "source": [
    "# Creating aggregation by dependant_size group for days_since_prior_order & prices dependant_size\n",
    "dependant_size_agg=cust_profile_agg.groupby('dependant_size').agg({'days_since_prior_order':['mean','min','max'],'prices':['mean','min','max']})\n",
    "dependant_size_agg"
   ]
  },
  {
   "cell_type": "code",
   "execution_count": 212,
   "id": "2d992309-91d4-4e8a-ae3f-dc5315f15af8",
   "metadata": {},
   "outputs": [
    {
     "data": {
      "text/html": [
       "<div>\n",
       "<style scoped>\n",
       "    .dataframe tbody tr th:only-of-type {\n",
       "        vertical-align: middle;\n",
       "    }\n",
       "\n",
       "    .dataframe tbody tr th {\n",
       "        vertical-align: top;\n",
       "    }\n",
       "\n",
       "    .dataframe thead tr th {\n",
       "        text-align: left;\n",
       "    }\n",
       "\n",
       "    .dataframe thead tr:last-of-type th {\n",
       "        text-align: right;\n",
       "    }\n",
       "</style>\n",
       "<table border=\"1\" class=\"dataframe\">\n",
       "  <thead>\n",
       "    <tr>\n",
       "      <th></th>\n",
       "      <th colspan=\"3\" halign=\"left\">days_since_prior_order</th>\n",
       "      <th colspan=\"3\" halign=\"left\">prices</th>\n",
       "    </tr>\n",
       "    <tr>\n",
       "      <th></th>\n",
       "      <th>mean</th>\n",
       "      <th>min</th>\n",
       "      <th>max</th>\n",
       "      <th>mean</th>\n",
       "      <th>min</th>\n",
       "      <th>max</th>\n",
       "    </tr>\n",
       "    <tr>\n",
       "      <th>week_day_category</th>\n",
       "      <th></th>\n",
       "      <th></th>\n",
       "      <th></th>\n",
       "      <th></th>\n",
       "      <th></th>\n",
       "      <th></th>\n",
       "    </tr>\n",
       "  </thead>\n",
       "  <tbody>\n",
       "    <tr>\n",
       "      <th>Weekday-low</th>\n",
       "      <td>10.479112</td>\n",
       "      <td>0.0</td>\n",
       "      <td>30.0</td>\n",
       "      <td>119.016233</td>\n",
       "      <td>1.0</td>\n",
       "      <td>100403.8</td>\n",
       "    </tr>\n",
       "    <tr>\n",
       "      <th>Weekend-high</th>\n",
       "      <td>11.138152</td>\n",
       "      <td>0.0</td>\n",
       "      <td>30.0</td>\n",
       "      <td>124.008368</td>\n",
       "      <td>1.0</td>\n",
       "      <td>100452.9</td>\n",
       "    </tr>\n",
       "  </tbody>\n",
       "</table>\n",
       "</div>"
      ],
      "text/plain": [
       "                  days_since_prior_order                 prices               \n",
       "                                    mean  min   max        mean  min       max\n",
       "week_day_category                                                             \n",
       "Weekday-low                    10.479112  0.0  30.0  119.016233  1.0  100403.8\n",
       "Weekend-high                   11.138152  0.0  30.0  124.008368  1.0  100452.9"
      ]
     },
     "execution_count": 212,
     "metadata": {},
     "output_type": "execute_result"
    }
   ],
   "source": [
    "# Creating aggregation by week_day_category group for days_since_prior_order & prices\n",
    "week_day_category_agg=cust_profile_agg.groupby('week_day_category').agg({'days_since_prior_order':['mean','min','max'],'prices':['mean','min','max']})\n",
    "week_day_category_agg"
   ]
  },
  {
   "cell_type": "code",
   "execution_count": 214,
   "id": "4fc99d3e-86ed-4227-aaa3-682fac31151e",
   "metadata": {},
   "outputs": [
    {
     "data": {
      "text/html": [
       "<div>\n",
       "<style scoped>\n",
       "    .dataframe tbody tr th:only-of-type {\n",
       "        vertical-align: middle;\n",
       "    }\n",
       "\n",
       "    .dataframe tbody tr th {\n",
       "        vertical-align: top;\n",
       "    }\n",
       "\n",
       "    .dataframe thead tr th {\n",
       "        text-align: left;\n",
       "    }\n",
       "\n",
       "    .dataframe thead tr:last-of-type th {\n",
       "        text-align: right;\n",
       "    }\n",
       "</style>\n",
       "<table border=\"1\" class=\"dataframe\">\n",
       "  <thead>\n",
       "    <tr>\n",
       "      <th></th>\n",
       "      <th colspan=\"3\" halign=\"left\">days_since_prior_order</th>\n",
       "      <th colspan=\"3\" halign=\"left\">prices</th>\n",
       "    </tr>\n",
       "    <tr>\n",
       "      <th></th>\n",
       "      <th>mean</th>\n",
       "      <th>min</th>\n",
       "      <th>max</th>\n",
       "      <th>mean</th>\n",
       "      <th>min</th>\n",
       "      <th>max</th>\n",
       "    </tr>\n",
       "    <tr>\n",
       "      <th>order_hour_group</th>\n",
       "      <th></th>\n",
       "      <th></th>\n",
       "      <th></th>\n",
       "      <th></th>\n",
       "      <th></th>\n",
       "      <th></th>\n",
       "    </tr>\n",
       "  </thead>\n",
       "  <tbody>\n",
       "    <tr>\n",
       "      <th>Afternoon</th>\n",
       "      <td>10.836544</td>\n",
       "      <td>0.0</td>\n",
       "      <td>30.0</td>\n",
       "      <td>121.307800</td>\n",
       "      <td>1.0</td>\n",
       "      <td>100452.9</td>\n",
       "    </tr>\n",
       "    <tr>\n",
       "      <th>Evening</th>\n",
       "      <td>10.587939</td>\n",
       "      <td>0.0</td>\n",
       "      <td>30.0</td>\n",
       "      <td>116.803526</td>\n",
       "      <td>1.0</td>\n",
       "      <td>100301.1</td>\n",
       "    </tr>\n",
       "    <tr>\n",
       "      <th>Morning</th>\n",
       "      <td>10.593427</td>\n",
       "      <td>0.0</td>\n",
       "      <td>30.0</td>\n",
       "      <td>121.961765</td>\n",
       "      <td>1.0</td>\n",
       "      <td>100322.1</td>\n",
       "    </tr>\n",
       "  </tbody>\n",
       "</table>\n",
       "</div>"
      ],
      "text/plain": [
       "                 days_since_prior_order                 prices               \n",
       "                                   mean  min   max        mean  min       max\n",
       "order_hour_group                                                             \n",
       "Afternoon                     10.836544  0.0  30.0  121.307800  1.0  100452.9\n",
       "Evening                       10.587939  0.0  30.0  116.803526  1.0  100301.1\n",
       "Morning                       10.593427  0.0  30.0  121.961765  1.0  100322.1"
      ]
     },
     "execution_count": 214,
     "metadata": {},
     "output_type": "execute_result"
    }
   ],
   "source": [
    "# Creating aggregation by order_hour_group for days_since_prior_order & prices\n",
    "order_hour_group_agg=cust_profile_agg.groupby('order_hour_group').agg({'days_since_prior_order':['mean','min','max'],'prices':['mean','min','max']})\n",
    "order_hour_group_agg"
   ]
  },
  {
   "cell_type": "markdown",
   "id": "50c368cf-4066-4380-8bf6-d0498318d570",
   "metadata": {},
   "source": [
    "# **Step 8:**\n",
    "##### Compare your customer profiles with regions and departments. Can you identify a link between them? Customers may demonstrate different behaviors across regions, which could make this information important.\n"
   ]
  },
  {
   "cell_type": "code",
   "execution_count": 219,
   "id": "31c5b2da-7491-415d-9288-dd9dfd14ce68",
   "metadata": {},
   "outputs": [
    {
     "data": {
      "text/html": [
       "<div>\n",
       "<style scoped>\n",
       "    .dataframe tbody tr th:only-of-type {\n",
       "        vertical-align: middle;\n",
       "    }\n",
       "\n",
       "    .dataframe tbody tr th {\n",
       "        vertical-align: top;\n",
       "    }\n",
       "\n",
       "    .dataframe thead th {\n",
       "        text-align: right;\n",
       "    }\n",
       "</style>\n",
       "<table border=\"1\" class=\"dataframe\">\n",
       "  <thead>\n",
       "    <tr style=\"text-align: right;\">\n",
       "      <th>region</th>\n",
       "      <th>Midwest</th>\n",
       "      <th>Northeast</th>\n",
       "      <th>South</th>\n",
       "      <th>West</th>\n",
       "    </tr>\n",
       "    <tr>\n",
       "      <th>age_group</th>\n",
       "      <th></th>\n",
       "      <th></th>\n",
       "      <th></th>\n",
       "      <th></th>\n",
       "    </tr>\n",
       "  </thead>\n",
       "  <tbody>\n",
       "    <tr>\n",
       "      <th>Middle-Age Adult</th>\n",
       "      <td>3601775</td>\n",
       "      <td>2666903</td>\n",
       "      <td>5046936</td>\n",
       "      <td>3907047</td>\n",
       "    </tr>\n",
       "    <tr>\n",
       "      <th>Senior</th>\n",
       "      <td>2465259</td>\n",
       "      <td>1894192</td>\n",
       "      <td>3518088</td>\n",
       "      <td>2705300</td>\n",
       "    </tr>\n",
       "    <tr>\n",
       "      <th>Young Adult</th>\n",
       "      <td>1530291</td>\n",
       "      <td>1161641</td>\n",
       "      <td>2226861</td>\n",
       "      <td>1680566</td>\n",
       "    </tr>\n",
       "  </tbody>\n",
       "</table>\n",
       "</div>"
      ],
      "text/plain": [
       "region            Midwest  Northeast    South     West\n",
       "age_group                                             \n",
       "Middle-Age Adult  3601775    2666903  5046936  3907047\n",
       "Senior            2465259    1894192  3518088  2705300\n",
       "Young Adult       1530291    1161641  2226861  1680566"
      ]
     },
     "execution_count": 219,
     "metadata": {},
     "output_type": "execute_result"
    }
   ],
   "source": [
    "# Creating crosstab to compare age_group profile with region locations\n",
    "age_region_comparison=pd.crosstab(ords_prods_cust_merge['age_group'],ords_prods_cust_merge['region'],dropna=False)\n",
    "age_region_comparison"
   ]
  },
  {
   "cell_type": "code",
   "execution_count": 221,
   "id": "cc329812-21e4-4496-8cf4-c2b590086afc",
   "metadata": {},
   "outputs": [
    {
     "data": {
      "text/plain": [
       "<Figure size 700x700 with 0 Axes>"
      ]
     },
     "metadata": {},
     "output_type": "display_data"
    },
    {
     "data": {
      "image/png": "[encoded data removed]",
      "text/plain": [
       "<Figure size 640x480 with 1 Axes>"
      ]
     },
     "metadata": {},
     "output_type": "display_data"
    }
   ],
   "source": [
    "# Creating Bar Chart for Age Group By Region Comparison\n",
    "plt.figure(figsize=(7, 7))\n",
    "age_region_comparison_bar= age_region_comparison.plot(kind='bar',rot=0)\n",
    "plt.title('Age Group By Region')\n",
    "plt.xlabel('Age Group')\n",
    "plt.ylabel('Count')\n",
    "plt.legend(title='Region')\n",
    "plt.tight_layout()\n",
    "plt.show()"
   ]
  },
  {
   "cell_type": "code",
   "execution_count": 223,
   "id": "8b549cd8-713e-4918-bafe-f0f5e010841c",
   "metadata": {},
   "outputs": [],
   "source": [
    "age_region_comparison_bar.figure.savefig(os.path.join(path,'04 Analysis','Visualizations','age_region_comparison_bar.png'))"
   ]
  },
  {
   "cell_type": "code",
   "execution_count": 263,
   "id": "614fe930-e3e2-40b2-b9cd-77287e405707",
   "metadata": {},
   "outputs": [
    {
     "data": {
      "text/html": [
       "<div>\n",
       "<style scoped>\n",
       "    .dataframe tbody tr th:only-of-type {\n",
       "        vertical-align: middle;\n",
       "    }\n",
       "\n",
       "    .dataframe tbody tr th {\n",
       "        vertical-align: top;\n",
       "    }\n",
       "\n",
       "    .dataframe thead th {\n",
       "        text-align: right;\n",
       "    }\n",
       "</style>\n",
       "<table border=\"1\" class=\"dataframe\">\n",
       "  <thead>\n",
       "    <tr style=\"text-align: right;\">\n",
       "      <th>frequency_flag</th>\n",
       "      <th>Frequent customer</th>\n",
       "      <th>Non-frequent customer</th>\n",
       "      <th>Regular customer</th>\n",
       "    </tr>\n",
       "    <tr>\n",
       "      <th>age_group</th>\n",
       "      <th></th>\n",
       "      <th></th>\n",
       "      <th></th>\n",
       "    </tr>\n",
       "  </thead>\n",
       "  <tbody>\n",
       "    <tr>\n",
       "      <th>Middle-Age Adult</th>\n",
       "      <td>10110383</td>\n",
       "      <td>1711300</td>\n",
       "      <td>3400978</td>\n",
       "    </tr>\n",
       "    <tr>\n",
       "      <th>Senior</th>\n",
       "      <td>7060357</td>\n",
       "      <td>1183102</td>\n",
       "      <td>2339375</td>\n",
       "    </tr>\n",
       "    <tr>\n",
       "      <th>Young Adult</th>\n",
       "      <td>4389113</td>\n",
       "      <td>742035</td>\n",
       "      <td>1468211</td>\n",
       "    </tr>\n",
       "  </tbody>\n",
       "</table>\n",
       "</div>"
      ],
      "text/plain": [
       "frequency_flag    Frequent customer  Non-frequent customer  Regular customer\n",
       "age_group                                                                   \n",
       "Middle-Age Adult           10110383                1711300           3400978\n",
       "Senior                      7060357                1183102           2339375\n",
       "Young Adult                 4389113                 742035           1468211"
      ]
     },
     "execution_count": 263,
     "metadata": {},
     "output_type": "execute_result"
    }
   ],
   "source": [
    "# Creating crosstab to compare age_group profile with customer frequency type\n",
    "age_customer_frequency_comparison=pd.crosstab(ords_prods_cust_merge['age_group'],ords_prods_cust_merge['frequency_flag'])\n",
    "age_customer_frequency_comparison"
   ]
  },
  {
   "cell_type": "code",
   "execution_count": 265,
   "id": "e0b500aa-a1d2-400d-956a-9f9284ad2af5",
   "metadata": {},
   "outputs": [
    {
     "data": {
      "text/plain": [
       "<Figure size 1000x700 with 0 Axes>"
      ]
     },
     "metadata": {},
     "output_type": "display_data"
    },
    {
     "data": {
      "image/png": "[encoded data removed]",
      "text/plain": [
       "<Figure size 640x480 with 1 Axes>"
      ]
     },
     "metadata": {},
     "output_type": "display_data"
    }
   ],
   "source": [
    "# Creating Bar Chart for age_group By customer frequency Comparison\n",
    "plt.figure(figsize=(10, 7))\n",
    "age_customer_frequency_comparison_bar= age_customer_frequency_comparison.plot.bar()\n",
    "plt.xlabel('Age Group')\n",
    "plt.ylabel('Count')\n",
    "plt.tight_layout()\n"
   ]
  },
  {
   "cell_type": "code",
   "execution_count": 267,
   "id": "a968f31d-a289-409a-93ed-f6e111ff736a",
   "metadata": {},
   "outputs": [],
   "source": [
    "age_customer_frequency_comparison_bar.figure.savefig(os.path.join(path,'04 Analysis','Visualizations','age_customer_frequency_comparison_bar.png'))"
   ]
  },
  {
   "cell_type": "code",
   "execution_count": 269,
   "id": "29c1b1c3-5f04-4d51-b078-dc1502c6997b",
   "metadata": {},
   "outputs": [
    {
     "data": {
      "text/html": [
       "<div>\n",
       "<style scoped>\n",
       "    .dataframe tbody tr th:only-of-type {\n",
       "        vertical-align: middle;\n",
       "    }\n",
       "\n",
       "    .dataframe tbody tr th {\n",
       "        vertical-align: top;\n",
       "    }\n",
       "\n",
       "    .dataframe thead th {\n",
       "        text-align: right;\n",
       "    }\n",
       "</style>\n",
       "<table border=\"1\" class=\"dataframe\">\n",
       "  <thead>\n",
       "    <tr style=\"text-align: right;\">\n",
       "      <th>loyalty_flag</th>\n",
       "      <th>Loyal customer</th>\n",
       "      <th>New customer</th>\n",
       "      <th>Regular customer</th>\n",
       "    </tr>\n",
       "    <tr>\n",
       "      <th>age_group</th>\n",
       "      <th></th>\n",
       "      <th></th>\n",
       "      <th></th>\n",
       "    </tr>\n",
       "  </thead>\n",
       "  <tbody>\n",
       "    <tr>\n",
       "      <th>Middle-Age Adult</th>\n",
       "      <td>4860439</td>\n",
       "      <td>2917844</td>\n",
       "      <td>7444378</td>\n",
       "    </tr>\n",
       "    <tr>\n",
       "      <th>Senior</th>\n",
       "      <td>3364684</td>\n",
       "      <td>2049433</td>\n",
       "      <td>5168722</td>\n",
       "    </tr>\n",
       "    <tr>\n",
       "      <th>Young Adult</th>\n",
       "      <td>2058970</td>\n",
       "      <td>1276713</td>\n",
       "      <td>3263676</td>\n",
       "    </tr>\n",
       "  </tbody>\n",
       "</table>\n",
       "</div>"
      ],
      "text/plain": [
       "loyalty_flag      Loyal customer  New customer  Regular customer\n",
       "age_group                                                       \n",
       "Middle-Age Adult         4860439       2917844           7444378\n",
       "Senior                   3364684       2049433           5168722\n",
       "Young Adult              2058970       1276713           3263676"
      ]
     },
     "execution_count": 269,
     "metadata": {},
     "output_type": "execute_result"
    }
   ],
   "source": [
    "# Creating Crosstab Bewtween age_group and loyalty_flag\n",
    "age_group_loyalty_comparison=pd.crosstab(ords_prods_cust_merge['age_group'],ords_prods_cust_merge['loyalty_flag'],dropna=False)\n",
    "age_group_loyalty_comparison"
   ]
  },
  {
   "cell_type": "code",
   "execution_count": 271,
   "id": "4ebc5eb4-ea94-4c54-b32e-ba824c0d022f",
   "metadata": {},
   "outputs": [
    {
     "data": {
      "text/plain": [
       "<Figure size 1000x700 with 0 Axes>"
      ]
     },
     "metadata": {},
     "output_type": "display_data"
    },
    {
     "data": {
      "image/png": "[encoded data removed]",
      "text/plain": [
       "<Figure size 640x480 with 1 Axes>"
      ]
     },
     "metadata": {},
     "output_type": "display_data"
    }
   ],
   "source": [
    "# Creating Bar Chart for age_group By customer loyalty\n",
    "plt.figure(figsize=(10, 7))\n",
    "age_group_loaylty_comparison_bar= age_group_loyalty_comparison.plot(kind='bar', rot=0)\n",
    "plt.title('Age Group By Customer Loyalty')\n",
    "plt.xlabel('Age Group')\n",
    "plt.ylabel('Count')\n",
    "plt.tight_layout()\n",
    "plt.show()"
   ]
  },
  {
   "cell_type": "code",
   "execution_count": 273,
   "id": "321e831b-3042-4f27-9af2-2d24b1602503",
   "metadata": {},
   "outputs": [],
   "source": [
    "age_group_loaylty_comparison_bar.figure.savefig(os.path.join(path,'04 Analysis','Visualizations','age_group_loaylty_comparison_bar.png'))"
   ]
  },
  {
   "cell_type": "code",
   "execution_count": 275,
   "id": "0ab33050-cf41-4cc4-ba4f-117a9d100870",
   "metadata": {},
   "outputs": [
    {
     "data": {
      "text/plain": [
       "income_group\n",
       "Middle Income    17170138\n",
       "High Income       7713528\n",
       "Low Income        7521193\n",
       "Name: count, dtype: int64"
      ]
     },
     "execution_count": 275,
     "metadata": {},
     "output_type": "execute_result"
    }
   ],
   "source": [
    "ords_prods_cust_merge['income_group'].value_counts(dropna=False)"
   ]
  },
  {
   "cell_type": "code",
   "execution_count": 279,
   "id": "7d196a11-5cea-4283-a1ff-6f916ac0acd6",
   "metadata": {},
   "outputs": [
    {
     "data": {
      "text/html": [
       "<div>\n",
       "<style scoped>\n",
       "    .dataframe tbody tr th:only-of-type {\n",
       "        vertical-align: middle;\n",
       "    }\n",
       "\n",
       "    .dataframe tbody tr th {\n",
       "        vertical-align: top;\n",
       "    }\n",
       "\n",
       "    .dataframe thead th {\n",
       "        text-align: right;\n",
       "    }\n",
       "</style>\n",
       "<table border=\"1\" class=\"dataframe\">\n",
       "  <thead>\n",
       "    <tr style=\"text-align: right;\">\n",
       "      <th>region</th>\n",
       "      <th>Midwest</th>\n",
       "      <th>Northeast</th>\n",
       "      <th>South</th>\n",
       "      <th>West</th>\n",
       "    </tr>\n",
       "    <tr>\n",
       "      <th>income_group</th>\n",
       "      <th></th>\n",
       "      <th></th>\n",
       "      <th></th>\n",
       "      <th></th>\n",
       "    </tr>\n",
       "  </thead>\n",
       "  <tbody>\n",
       "    <tr>\n",
       "      <th>High Income</th>\n",
       "      <td>1835777</td>\n",
       "      <td>1367168</td>\n",
       "      <td>2546153</td>\n",
       "      <td>1964430</td>\n",
       "    </tr>\n",
       "    <tr>\n",
       "      <th>Low Income</th>\n",
       "      <td>1737985</td>\n",
       "      <td>1317307</td>\n",
       "      <td>2532055</td>\n",
       "      <td>1933846</td>\n",
       "    </tr>\n",
       "    <tr>\n",
       "      <th>Middle Income</th>\n",
       "      <td>4023563</td>\n",
       "      <td>3038261</td>\n",
       "      <td>5713677</td>\n",
       "      <td>4394637</td>\n",
       "    </tr>\n",
       "  </tbody>\n",
       "</table>\n",
       "</div>"
      ],
      "text/plain": [
       "region         Midwest  Northeast    South     West\n",
       "income_group                                       \n",
       "High Income    1835777    1367168  2546153  1964430\n",
       "Low Income     1737985    1317307  2532055  1933846\n",
       "Middle Income  4023563    3038261  5713677  4394637"
      ]
     },
     "execution_count": 279,
     "metadata": {},
     "output_type": "execute_result"
    }
   ],
   "source": [
    "# Creating Crosstab Bewtween income_group and region\n",
    "income_region_comparison=pd.crosstab(ords_prods_cust_merge['income_group'],ords_prods_cust_merge['region'],dropna=False)\n",
    "income_region_comparison"
   ]
  },
  {
   "cell_type": "code",
   "execution_count": 281,
   "id": "edc52afd-0eb3-4b50-9688-c712b2e885d4",
   "metadata": {},
   "outputs": [
    {
     "data": {
      "text/plain": [
       "<Figure size 1000x700 with 0 Axes>"
      ]
     },
     "metadata": {},
     "output_type": "display_data"
    },
    {
     "data": {
      "image/png": "[encoded data removed]",
      "text/plain": [
       "<Figure size 640x480 with 1 Axes>"
      ]
     },
     "metadata": {},
     "output_type": "display_data"
    }
   ],
   "source": [
    "# Creating Bar Chart for Income Group By Region Comparison\n",
    "plt.figure(figsize=(10, 7))\n",
    "income_region_comparison_bar= income_region_comparison.plot(kind='bar',rot=0)\n",
    "plt.title('Income Group By Region')\n",
    "plt.xlabel('Income Group')\n",
    "plt.ylabel('Count')\n",
    "plt.legend(title='Region')\n",
    "plt.tight_layout()\n",
    "plt.show()"
   ]
  },
  {
   "cell_type": "code",
   "execution_count": 283,
   "id": "2ce25bd0-9929-4869-b8b5-399888f0f597",
   "metadata": {},
   "outputs": [],
   "source": [
    "income_region_comparison_bar.figure.savefig(os.path.join(path,'04 Analysis','Visualizations','income_region_comparison_bar.png'))"
   ]
  },
  {
   "cell_type": "code",
   "execution_count": 285,
   "id": "5cc8850e-e5b9-4039-a898-9d24f6b03d3c",
   "metadata": {},
   "outputs": [
    {
     "data": {
      "text/html": [
       "<div>\n",
       "<style scoped>\n",
       "    .dataframe tbody tr th:only-of-type {\n",
       "        vertical-align: middle;\n",
       "    }\n",
       "\n",
       "    .dataframe tbody tr th {\n",
       "        vertical-align: top;\n",
       "    }\n",
       "\n",
       "    .dataframe thead th {\n",
       "        text-align: right;\n",
       "    }\n",
       "</style>\n",
       "<table border=\"1\" class=\"dataframe\">\n",
       "  <thead>\n",
       "    <tr style=\"text-align: right;\">\n",
       "      <th>region</th>\n",
       "      <th>Midwest</th>\n",
       "      <th>Northeast</th>\n",
       "      <th>South</th>\n",
       "      <th>West</th>\n",
       "    </tr>\n",
       "    <tr>\n",
       "      <th>dependant_size</th>\n",
       "      <th></th>\n",
       "      <th></th>\n",
       "      <th></th>\n",
       "      <th></th>\n",
       "    </tr>\n",
       "  </thead>\n",
       "  <tbody>\n",
       "    <tr>\n",
       "      <th>Large</th>\n",
       "      <td>1874667</td>\n",
       "      <td>1445080</td>\n",
       "      <td>2706538</td>\n",
       "      <td>2108824</td>\n",
       "    </tr>\n",
       "    <tr>\n",
       "      <th>Medium</th>\n",
       "      <td>1890986</td>\n",
       "      <td>1417102</td>\n",
       "      <td>2723958</td>\n",
       "      <td>2059097</td>\n",
       "    </tr>\n",
       "    <tr>\n",
       "      <th>Small</th>\n",
       "      <td>3831672</td>\n",
       "      <td>2860554</td>\n",
       "      <td>5361389</td>\n",
       "      <td>4124992</td>\n",
       "    </tr>\n",
       "  </tbody>\n",
       "</table>\n",
       "</div>"
      ],
      "text/plain": [
       "region          Midwest  Northeast    South     West\n",
       "dependant_size                                      \n",
       "Large           1874667    1445080  2706538  2108824\n",
       "Medium          1890986    1417102  2723958  2059097\n",
       "Small           3831672    2860554  5361389  4124992"
      ]
     },
     "execution_count": 285,
     "metadata": {},
     "output_type": "execute_result"
    }
   ],
   "source": [
    "# Creating Crosstab for dependant_size of customers by region\n",
    "dependant_size_region_comparison=pd.crosstab(ords_prods_cust_merge['dependant_size'],ords_prods_cust_merge['region'],dropna=False)\n",
    "dependant_size_region_comparison"
   ]
  },
  {
   "cell_type": "code",
   "execution_count": 287,
   "id": "603ccf89-955a-4dcc-9bb5-b85b50369b35",
   "metadata": {},
   "outputs": [
    {
     "data": {
      "text/plain": [
       "<Figure size 1000x700 with 0 Axes>"
      ]
     },
     "metadata": {},
     "output_type": "display_data"
    },
    {
     "data": {
      "image/png": "[encoded data removed]",
      "text/plain": [
       "<Figure size 640x480 with 1 Axes>"
      ]
     },
     "metadata": {},
     "output_type": "display_data"
    }
   ],
   "source": [
    "# Creating Bar Chart for dependant_size Group By Region Comparison\n",
    "plt.figure(figsize=(10, 7))\n",
    "dependant_size_region_comparison_bar= dependant_size_region_comparison.plot(kind='bar',rot=0)\n",
    "plt.title('Customer Dependant Size By Region')\n",
    "plt.xlabel('Dependant Size')\n",
    "plt.ylabel('Count')\n",
    "plt.legend(title='Region')\n",
    "plt.tight_layout()\n",
    "plt.show()"
   ]
  },
  {
   "cell_type": "code",
   "execution_count": 289,
   "id": "017248f3-9cfa-437b-b6a6-a9fd30dbe38f",
   "metadata": {},
   "outputs": [],
   "source": [
    "dependant_size_region_comparison_bar.figure.savefig(os.path.join(path,'04 Analysis','Visualizations','dependant_size_region_comparison_bar.png'))"
   ]
  },
  {
   "cell_type": "code",
   "execution_count": 291,
   "id": "91fffb86-b473-42b7-b2be-8ac3b93730eb",
   "metadata": {},
   "outputs": [
    {
     "data": {
      "text/html": [
       "<div>\n",
       "<style scoped>\n",
       "    .dataframe tbody tr th:only-of-type {\n",
       "        vertical-align: middle;\n",
       "    }\n",
       "\n",
       "    .dataframe tbody tr th {\n",
       "        vertical-align: top;\n",
       "    }\n",
       "\n",
       "    .dataframe thead th {\n",
       "        text-align: right;\n",
       "    }\n",
       "</style>\n",
       "<table border=\"1\" class=\"dataframe\">\n",
       "  <thead>\n",
       "    <tr style=\"text-align: right;\">\n",
       "      <th>region</th>\n",
       "      <th>Midwest</th>\n",
       "      <th>Northeast</th>\n",
       "      <th>South</th>\n",
       "      <th>West</th>\n",
       "    </tr>\n",
       "    <tr>\n",
       "      <th>week_day_category</th>\n",
       "      <th></th>\n",
       "      <th></th>\n",
       "      <th></th>\n",
       "      <th></th>\n",
       "    </tr>\n",
       "  </thead>\n",
       "  <tbody>\n",
       "    <tr>\n",
       "      <th>Weekday-low</th>\n",
       "      <td>4816380</td>\n",
       "      <td>3625525</td>\n",
       "      <td>6847052</td>\n",
       "      <td>5251490</td>\n",
       "    </tr>\n",
       "    <tr>\n",
       "      <th>Weekend-high</th>\n",
       "      <td>2780945</td>\n",
       "      <td>2097211</td>\n",
       "      <td>3944833</td>\n",
       "      <td>3041423</td>\n",
       "    </tr>\n",
       "  </tbody>\n",
       "</table>\n",
       "</div>"
      ],
      "text/plain": [
       "region             Midwest  Northeast    South     West\n",
       "week_day_category                                      \n",
       "Weekday-low        4816380    3625525  6847052  5251490\n",
       "Weekend-high       2780945    2097211  3944833  3041423"
      ]
     },
     "execution_count": 291,
     "metadata": {},
     "output_type": "execute_result"
    }
   ],
   "source": [
    "week_day_category_region_comparison=pd.crosstab(ords_prods_cust_merge['week_day_category'],ords_prods_cust_merge['region'],dropna=False)\n",
    "week_day_category_region_comparison"
   ]
  },
  {
   "cell_type": "code",
   "execution_count": 293,
   "id": "e8f84fb5-b3ff-454e-90be-a26b5cccaeda",
   "metadata": {},
   "outputs": [
    {
     "data": {
      "text/plain": [
       "<Figure size 1000x700 with 0 Axes>"
      ]
     },
     "metadata": {},
     "output_type": "display_data"
    },
    {
     "data": {
      "image/png": "[encoded data removed]",
      "text/plain": [
       "<Figure size 640x480 with 1 Axes>"
      ]
     },
     "metadata": {},
     "output_type": "display_data"
    }
   ],
   "source": [
    "plt.figure(figsize=(10, 7))\n",
    "week_day_category_region_comparison_bar= week_day_category_region_comparison.plot(kind='bar',rot=0)\n",
    "plt.title('Weekday Orders By Region')\n",
    "plt.xlabel('Weekday')\n",
    "plt.ylabel('Count')\n",
    "plt.legend(title='Region')\n",
    "plt.tight_layout()\n",
    "plt.show()"
   ]
  },
  {
   "cell_type": "code",
   "execution_count": 295,
   "id": "49c724ec-028f-47c6-a9de-153c64e52bb4",
   "metadata": {},
   "outputs": [],
   "source": [
    "week_day_category_region_comparison_bar.figure.savefig(os.path.join(path,'04 Analysis','Visualizations','week_day_category_region_comparison_bar.png'))"
   ]
  },
  {
   "cell_type": "code",
   "execution_count": 299,
   "id": "b2587ac4-38b2-487f-8cfe-713584f07544",
   "metadata": {},
   "outputs": [],
   "source": [
    "# Creating Crosstabfor Weekday Order placement by Region\n",
    "order_hour_group_region_comparison=pd.crosstab(ords_prods_cust_merge['order_hour_group'],ords_prods_cust_merge['region'],dropna=False)"
   ]
  },
  {
   "cell_type": "code",
   "execution_count": 301,
   "id": "2bd5fa93-8beb-4930-8894-86b86f100da2",
   "metadata": {},
   "outputs": [
    {
     "data": {
      "text/plain": [
       "<Figure size 1000x700 with 0 Axes>"
      ]
     },
     "metadata": {},
     "output_type": "display_data"
    },
    {
     "data": {
      "image/png": "[encoded data removed]",
      "text/plain": [
       "<Figure size 640x480 with 1 Axes>"
      ]
     },
     "metadata": {},
     "output_type": "display_data"
    }
   ],
   "source": [
    "plt.figure(figsize=(10, 7))\n",
    "order_hour_group_region_comparison_bar= order_hour_group_region_comparison.plot(kind='bar',rot=0)\n",
    "plt.title('Hourly Grouping of Orders By Region')\n",
    "plt.xlabel('Time of Day')\n",
    "plt.ylabel('Count')\n",
    "plt.legend(title='Region')\n",
    "plt.tight_layout()\n",
    "plt.show()"
   ]
  },
  {
   "cell_type": "code",
   "execution_count": 303,
   "id": "a034f819-130d-416d-9f8b-a6fb15e1f921",
   "metadata": {},
   "outputs": [],
   "source": [
    "order_hour_group_region_comparison_bar.figure.savefig(os.path.join(path,'04 Analysis','Visualizations','order_hour_group_region_comparison_bar.png'))"
   ]
  },
  {
   "cell_type": "code",
   "execution_count": 309,
   "id": "ce978e66-bc42-4d80-b487-cb96fa46192a",
   "metadata": {},
   "outputs": [
    {
     "data": {
      "text/plain": [
       "frequency_flag\n",
       "Frequent customer        21559853\n",
       "Regular customer          7208564\n",
       "Non-frequent customer     3636437\n",
       "Name: count, dtype: int64"
      ]
     },
     "execution_count": 309,
     "metadata": {},
     "output_type": "execute_result"
    }
   ],
   "source": [
    "ords_prods_cust_merge['frequency_flag'].value_counts()"
   ]
  },
  {
   "cell_type": "code",
   "execution_count": 317,
   "id": "072b32ab-6e8c-496c-9f54-cd671af37ad4",
   "metadata": {},
   "outputs": [],
   "source": [
    " #Creating crosstab to compare region with frequency_flag\n",
    "region_customer_frequency_comparison=pd.crosstab(ords_prods_cust_merge['region'],ords_prods_cust_merge['frequency_flag'])\n"
   ]
  },
  {
   "cell_type": "code",
   "execution_count": 319,
   "id": "3c3fd54c-c01c-4cac-9898-539b575d8b5f",
   "metadata": {},
   "outputs": [
    {
     "data": {
      "text/plain": [
       "<Figure size 1000x700 with 0 Axes>"
      ]
     },
     "metadata": {},
     "output_type": "display_data"
    },
    {
     "data": {
      "image/png": "[encoded data removed]",
      "text/plain": [
       "<Figure size 640x480 with 1 Axes>"
      ]
     },
     "metadata": {},
     "output_type": "display_data"
    }
   ],
   "source": [
    "plt.figure(figsize=(10, 7))\n",
    "region_customer_frequency_comparison_bar= region_customer_frequency_comparison.plot(kind='bar', rot=0)\n",
    "plt.title('Region By Customer Frequency')\n",
    "plt.xlabel('Region')\n",
    "plt.ylabel('Count')\n",
    "plt.tight_layout()\n",
    "plt.show()"
   ]
  },
  {
   "cell_type": "code",
   "execution_count": 321,
   "id": "92c7efe1-9407-4e6c-b973-61e99383f735",
   "metadata": {},
   "outputs": [],
   "source": [
    "region_customer_frequency_comparison_bar.figure.savefig(os.path.join(path,'04 Analysis','Visualizations','region_customer_frequency_comparison_bar.png'))"
   ]
  },
  {
   "cell_type": "code",
   "execution_count": 325,
   "id": "45f608aa-30e1-4575-925e-4f01c9cf7da2",
   "metadata": {},
   "outputs": [],
   "source": [
    "# Creating crosstab to compare region with spender_flag\n",
    "region_type_of_spender_comparison=pd.crosstab(ords_prods_cust_merge['region'],ords_prods_cust_merge['spender_flag'],dropna=False)\n"
   ]
  },
  {
   "cell_type": "code",
   "execution_count": 327,
   "id": "53e0a77e-cdc5-4056-81e9-65e549e974bd",
   "metadata": {},
   "outputs": [
    {
     "data": {
      "text/plain": [
       "<Figure size 0x0 with 0 Axes>"
      ]
     },
     "metadata": {},
     "output_type": "display_data"
    },
    {
     "data": {
      "image/png": "[encoded data removed]",
      "text/plain": [
       "<Figure size 640x480 with 1 Axes>"
      ]
     },
     "metadata": {},
     "output_type": "display_data"
    }
   ],
   "source": [
    "# Creating Bar Chart for region By type of spender\n",
    "plt.figure(figsize=(0, 0))\n",
    "region_type_of_spender_comparison_bar= region_type_of_spender_comparison.plot(kind='bar', rot=0)\n",
    "plt.title('Region By Type of Customer Spender')\n",
    "plt.xlabel('Region')\n",
    "plt.ylabel('Count')\n",
    "plt.show()"
   ]
  },
  {
   "cell_type": "code",
   "execution_count": 329,
   "id": "3cf6242d-be40-4e03-8d4c-d1b252c27709",
   "metadata": {},
   "outputs": [],
   "source": [
    "region_type_of_spender_comparison_bar.figure.savefig(os.path.join(path,'04 Analysis','Visualizations','region_type_of_spender_comparison_bar.png'))"
   ]
  },
  {
   "cell_type": "code",
   "execution_count": 331,
   "id": "f799688e-c2fa-4200-8f8b-bcc7e2a14c8a",
   "metadata": {},
   "outputs": [],
   "source": [
    "# Creating crosstab to compare loyalty_flag with spender_flag\n",
    "loyalty_type_of_spender_comparison=pd.crosstab(ords_prods_cust_merge['loyalty_flag'],ords_prods_cust_merge['spender_flag'],dropna=False)"
   ]
  },
  {
   "cell_type": "code",
   "execution_count": 333,
   "id": "bd04f23e-d330-4e72-a841-f63229ed06a0",
   "metadata": {},
   "outputs": [
    {
     "data": {
      "text/plain": [
       "<Figure size 0x0 with 0 Axes>"
      ]
     },
     "metadata": {},
     "output_type": "display_data"
    },
    {
     "data": {
      "image/png": "[encoded data removed]",
      "text/plain": [
       "<Figure size 640x480 with 1 Axes>"
      ]
     },
     "metadata": {},
     "output_type": "display_data"
    }
   ],
   "source": [
    "# Creating Bar Chart for Loyalty spending By type of spender\n",
    "plt.figure(figsize=(0, 0))\n",
    "loyalty_type_of_spender_comparison_bar= loyalty_type_of_spender_comparison.plot(kind='bar', rot=0)\n",
    "plt.title('Loyalty Spending By Type of Customer Spender')\n",
    "plt.xlabel('Type of Spender')\n",
    "plt.ylabel('Loyalty_Flag')\n",
    "plt.show()"
   ]
  },
  {
   "cell_type": "code",
   "execution_count": 335,
   "id": "e814ab55-0ba5-41dc-9cfd-7bd39014a779",
   "metadata": {},
   "outputs": [],
   "source": [
    "loyalty_type_of_spender_comparison_bar.figure.savefig(os.path.join(path,'04 Analysis','Visualizations','loyalty_type_of_spender_comparison_bar.png'))"
   ]
  },
  {
   "cell_type": "markdown",
   "id": "2ebf2ca6-b6cb-4f9e-a472-67c803201fa9",
   "metadata": {},
   "source": [
    "## Profiles Compared with Departments"
   ]
  },
  {
   "cell_type": "code",
   "execution_count": 338,
   "id": "df74922f-b024-4a1e-b68c-dff6d9f2f592",
   "metadata": {},
   "outputs": [],
   "source": [
    "# Importing department wrangled dataframe\n",
    "df_dept=pd.read_csv(os.path.join(path,'02 Data','Prepared Data','departments_wrangled44.csv'))"
   ]
  },
  {
   "cell_type": "code",
   "execution_count": 340,
   "id": "27197d9a-1ab9-4866-b344-48438a04ca36",
   "metadata": {},
   "outputs": [
    {
     "data": {
      "text/html": [
       "<div>\n",
       "<style scoped>\n",
       "    .dataframe tbody tr th:only-of-type {\n",
       "        vertical-align: middle;\n",
       "    }\n",
       "\n",
       "    .dataframe tbody tr th {\n",
       "        vertical-align: top;\n",
       "    }\n",
       "\n",
       "    .dataframe thead th {\n",
       "        text-align: right;\n",
       "    }\n",
       "</style>\n",
       "<table border=\"1\" class=\"dataframe\">\n",
       "  <thead>\n",
       "    <tr style=\"text-align: right;\">\n",
       "      <th></th>\n",
       "      <th>Unnamed: 0</th>\n",
       "      <th>department</th>\n",
       "    </tr>\n",
       "  </thead>\n",
       "  <tbody>\n",
       "    <tr>\n",
       "      <th>0</th>\n",
       "      <td>1</td>\n",
       "      <td>frozen</td>\n",
       "    </tr>\n",
       "    <tr>\n",
       "      <th>1</th>\n",
       "      <td>2</td>\n",
       "      <td>other</td>\n",
       "    </tr>\n",
       "    <tr>\n",
       "      <th>2</th>\n",
       "      <td>3</td>\n",
       "      <td>bakery</td>\n",
       "    </tr>\n",
       "    <tr>\n",
       "      <th>3</th>\n",
       "      <td>4</td>\n",
       "      <td>produce</td>\n",
       "    </tr>\n",
       "    <tr>\n",
       "      <th>4</th>\n",
       "      <td>5</td>\n",
       "      <td>alcohol</td>\n",
       "    </tr>\n",
       "    <tr>\n",
       "      <th>5</th>\n",
       "      <td>6</td>\n",
       "      <td>international</td>\n",
       "    </tr>\n",
       "    <tr>\n",
       "      <th>6</th>\n",
       "      <td>7</td>\n",
       "      <td>beverages</td>\n",
       "    </tr>\n",
       "  </tbody>\n",
       "</table>\n",
       "</div>"
      ],
      "text/plain": [
       "   Unnamed: 0     department\n",
       "0           1         frozen\n",
       "1           2          other\n",
       "2           3         bakery\n",
       "3           4        produce\n",
       "4           5        alcohol\n",
       "5           6  international\n",
       "6           7      beverages"
      ]
     },
     "execution_count": 340,
     "metadata": {},
     "output_type": "execute_result"
    }
   ],
   "source": [
    "df_dept"
   ]
  },
  {
   "cell_type": "code",
   "execution_count": 342,
   "id": "059f0cc2-9fb8-433d-ba46-91e2b6296dd2",
   "metadata": {},
   "outputs": [],
   "source": [
    "df_dept.rename(columns={'Unnamed: 0':'department_id'},inplace=True)"
   ]
  },
  {
   "cell_type": "code",
   "execution_count": 356,
   "id": "8a473539-554d-47dc-9469-ad2eadecb4f3",
   "metadata": {},
   "outputs": [
    {
     "data": {
      "text/plain": [
       "department_id    object\n",
       "department       object\n",
       "dtype: object"
      ]
     },
     "execution_count": 356,
     "metadata": {},
     "output_type": "execute_result"
    }
   ],
   "source": [
    "df_dept.dtypes"
   ]
  },
  {
   "cell_type": "code",
   "execution_count": 358,
   "id": "13d7065e-f6d0-4c6d-be13-83b0e0c8b841",
   "metadata": {},
   "outputs": [],
   "source": [
    "# Changing department_id from int64 to str for merge\n",
    "df_dept['department_id']=df_dept['department_id'].astype(str)"
   ]
  },
  {
   "cell_type": "code",
   "execution_count": 360,
   "id": "7f24dd53-ab59-433e-ba80-8541b32fc096",
   "metadata": {},
   "outputs": [
    {
     "data": {
      "text/plain": [
       "department_id    object\n",
       "department       object\n",
       "dtype: object"
      ]
     },
     "execution_count": 360,
     "metadata": {},
     "output_type": "execute_result"
    }
   ],
   "source": [
    "df_dept.dtypes"
   ]
  },
  {
   "cell_type": "code",
   "execution_count": 348,
   "id": "798d3f97-30b1-4b20-b507-bf3cba891230",
   "metadata": {},
   "outputs": [],
   "source": [
    "ords_prods_cust_merge=ords_prods_cust_merge.drop(columns=['_merge'])"
   ]
  },
  {
   "cell_type": "code",
   "execution_count": 362,
   "id": "0a281c99-d458-4af1-ad1d-56b2626690c2",
   "metadata": {},
   "outputs": [],
   "source": [
    "ords_prods_cust_merge['department_id']=ords_prods_cust_merge['department_id'].astype(str)"
   ]
  },
  {
   "cell_type": "code",
   "execution_count": 364,
   "id": "1d2ee0b5-f490-42d1-af84-cc3f8d61f0c5",
   "metadata": {},
   "outputs": [
    {
     "data": {
      "text/plain": [
       "order_id                    int64\n",
       "user_id                    object\n",
       "order_number                int64\n",
       "orders_day_of_week          int64\n",
       "order_hour_of_day           int64\n",
       "days_since_prior_order    float64\n",
       "product_id                  int64\n",
       "add_to_cart_order           int64\n",
       "reordered                   int64\n",
       "product_name               object\n",
       "aisle_id                    int64\n",
       "department_id              object\n",
       "prices                    float64\n",
       "price_range_loc            object\n",
       "busiest_day                object\n",
       "busiest_days               object\n",
       "busiest_period_of_day      object\n",
       "max_order                   int64\n",
       "loyalty_flag               object\n",
       "average_spend             float64\n",
       "spender_flag               object\n",
       "customer_frequency        float64\n",
       "frequency_flag             object\n",
       "first_name                 object\n",
       "surname                    object\n",
       "gender                     object\n",
       "state                      object\n",
       "age                         int64\n",
       "date_joined                object\n",
       "n_dependants                int64\n",
       "marital_status             object\n",
       "income                      int64\n",
       "region                     object\n",
       "customer_activity_flag     object\n",
       "age_group                  object\n",
       "income_group               object\n",
       "dependant_size             object\n",
       "week_day_category          object\n",
       "order_hour_group           object\n",
       "dtype: object"
      ]
     },
     "execution_count": 364,
     "metadata": {},
     "output_type": "execute_result"
    }
   ],
   "source": [
    "ords_prods_cust_merge.dtypes"
   ]
  },
  {
   "cell_type": "code",
   "execution_count": 366,
   "id": "3d99415b-6a3e-4a2e-9087-d13efcc2277d",
   "metadata": {},
   "outputs": [],
   "source": [
    "ords_prods_cust_dept_merge=ords_prods_cust_merge.merge(df_dept,on='department_id',indicator=True)"
   ]
  },
  {
   "cell_type": "code",
   "execution_count": 370,
   "id": "963bbd7d-4b09-4970-a9f2-9add3ecc2fe9",
   "metadata": {},
   "outputs": [],
   "source": [
    "# Exporting new dataframe with deptartment merged to main dataframe\n",
    "ords_prods_cust_dept_merge.to_pickle(os.path.join(path,'02 Data','Prepared Data','orders_products_customer_department_merge410.pkl'))"
   ]
  },
  {
   "cell_type": "code",
   "execution_count": 390,
   "id": "7f2b249e-3ff4-47d3-a047-8093b01e3020",
   "metadata": {},
   "outputs": [
    {
     "data": {
      "text/plain": [
       "(16033825, 41)"
      ]
     },
     "execution_count": 390,
     "metadata": {},
     "output_type": "execute_result"
    }
   ],
   "source": [
    "ords_prods_cust_dept_merge.shape"
   ]
  },
  {
   "cell_type": "code",
   "execution_count": 372,
   "id": "ad909e93-f5ab-4fa2-8b60-bf27bf4445d6",
   "metadata": {},
   "outputs": [
    {
     "data": {
      "text/plain": [
       "department\n",
       "produce          9479291\n",
       "beverages        2688123\n",
       "frozen           2234743\n",
       "bakery           1172428\n",
       "international     269253\n",
       "alcohol           153696\n",
       "other              36291\n",
       "Name: count, dtype: int64"
      ]
     },
     "execution_count": 372,
     "metadata": {},
     "output_type": "execute_result"
    }
   ],
   "source": [
    "ords_prods_cust_dept_merge['department'].value_counts()"
   ]
  },
  {
   "cell_type": "code",
   "execution_count": 374,
   "id": "d49d8db5-9a95-43a9-80b1-26b5d6045f0e",
   "metadata": {},
   "outputs": [
    {
     "data": {
      "image/png": "[encoded data removed]",
      "text/plain": [
       "<Figure size 640x480 with 1 Axes>"
      ]
     },
     "metadata": {},
     "output_type": "display_data"
    }
   ],
   "source": [
    "dept_bar=ords_prods_cust_dept_merge['department'].value_counts().sort_values(ascending=True).plot(kind='barh')\n",
    "plt.title('Product Department Sales')\n",
    "plt.xlabel('Count')\n",
    "plt.ylabel('Department')\n",
    "plt.tight_layout()"
   ]
  },
  {
   "cell_type": "code",
   "execution_count": 376,
   "id": "53dfc461-025d-4e23-9d7e-13874615f7e2",
   "metadata": {},
   "outputs": [],
   "source": [
    "dept_bar.figure.savefig(os.path.join(path,'04 Analysis','Visualizations','department_product_bar.png'))"
   ]
  },
  {
   "cell_type": "code",
   "execution_count": 378,
   "id": "86968b42-57a2-4ad6-aa6a-0fef55e1ce28",
   "metadata": {},
   "outputs": [],
   "source": [
    "age_department_comparison=pd.crosstab(ords_prods_cust_dept_merge['age_group'],ords_prods_cust_dept_merge['department'],dropna=False)"
   ]
  },
  {
   "cell_type": "code",
   "execution_count": 380,
   "id": "6333d307-79f0-4768-9868-fb6d4886555d",
   "metadata": {},
   "outputs": [
    {
     "data": {
      "text/plain": [
       "<Figure size 2500x2500 with 0 Axes>"
      ]
     },
     "metadata": {},
     "output_type": "display_data"
    },
    {
     "data": {
      "image/png": "[encoded data removed]",
      "text/plain": [
       "<Figure size 1400x1000 with 1 Axes>"
      ]
     },
     "metadata": {},
     "output_type": "display_data"
    }
   ],
   "source": [
    "plt.figure(figsize=(25, 25))\n",
    "age_department_comparison_bar = age_department_comparison.plot(kind='barh', figsize=(14, 10), colormap='tab20', rot=0)\n",
    "\n",
    "# Add title and labels with larger font size\n",
    "plt.title('Age Groups By Department', fontsize=16)\n",
    "plt.xlabel('Count', fontsize=14)\n",
    "plt.ylabel('Age Group', fontsize=14)\n",
    "\n",
    "# Increase font size for ticks\n",
    "plt.xticks(fontsize=12)\n",
    "plt.yticks(fontsize=12)\n",
    "\n",
    "# Move legend outside of plot\n",
    "plt.legend(title='Department', bbox_to_anchor=(1.05, 1), loc='upper left', fontsize=12, title_fontsize=14)\n",
    "\n",
    "# Add gridlines\n",
    "plt.grid(True, axis='x', linestyle='--', alpha=0.7)\n",
    "\n",
    "# Adjust layout to make room for legend\n",
    "plt.tight_layout(rect=[0, 0, 0.85, 1])\n",
    "\n",
    "plt.show()"
   ]
  },
  {
   "cell_type": "code",
   "execution_count": 382,
   "id": "3390be56-1af2-4320-a163-bc3745a7b964",
   "metadata": {},
   "outputs": [],
   "source": [
    "age_department_comparison_bar.figure.savefig(os.path.join(path,'04 Analysis','Visualizations','age_department_comparison_bar.png'))"
   ]
  },
  {
   "cell_type": "code",
   "execution_count": 384,
   "id": "4f984ce7-6e69-4d9c-bf92-052689358afd",
   "metadata": {},
   "outputs": [],
   "source": [
    "region_department_comparison=pd.crosstab(ords_prods_cust_dept_merge['region'],ords_prods_cust_dept_merge['department'],dropna=False)"
   ]
  },
  {
   "cell_type": "code",
   "execution_count": 386,
   "id": "3d904d42-566d-4ba8-b425-e3358667ff3f",
   "metadata": {},
   "outputs": [
    {
     "data": {
      "text/plain": [
       "<Figure size 2000x2500 with 0 Axes>"
      ]
     },
     "metadata": {},
     "output_type": "display_data"
    },
    {
     "data": {
      "image/png": "[encoded data removed]",
      "text/plain": [
       "<Figure size 2000x2500 with 1 Axes>"
      ]
     },
     "metadata": {},
     "output_type": "display_data"
    }
   ],
   "source": [
    "plt.figure(figsize=(20, 25))\n",
    "region_department_comparison_bar = region_department_comparison.plot(kind='barh', figsize=(20, 25), colormap='tab20', rot=0)\n",
    "\n",
    "# Add title and labels with larger font size\n",
    "plt.title('Regions By Department', fontsize=16)\n",
    "plt.xlabel('Count', fontsize=14)\n",
    "plt.ylabel('Regions', fontsize=14)\n",
    "\n",
    "# Increase font size for ticks\n",
    "plt.xticks(fontsize=12)\n",
    "plt.yticks(fontsize=12)\n",
    "\n",
    "# Move legend outside of plot\n",
    "plt.legend(title='Department', bbox_to_anchor=(1.05, 1), loc='upper left', fontsize=12, title_fontsize=14)\n",
    "\n",
    "# Add gridlines\n",
    "plt.grid(True, axis='x', linestyle='--', alpha=0.7)\n",
    "\n",
    "# Adjust layout to make room for legend\n",
    "plt.tight_layout(rect=[0, 0, 0.85, 1])\n",
    "\n",
    "plt.show()"
   ]
  },
  {
   "cell_type": "code",
   "execution_count": 388,
   "id": "196a78bf-e4c0-4f23-8fea-a12090b77d1a",
   "metadata": {},
   "outputs": [],
   "source": [
    "region_department_comparison_bar.figure.savefig(os.path.join(path,'04 Analysis','Visualizations','region_department_comparison_bar.png'))"
   ]
  },
  {
   "cell_type": "code",
   "execution_count": null,
   "id": "cc05c1a5-700b-43f8-b47d-8ef37aa15be4",
   "metadata": {},
   "outputs": [],
   "source": []
  }
 ],
 "metadata": {
  "kernelspec": {
   "display_name": "Python 3 (ipykernel)",
   "language": "python",
   "name": "python3"
  },
  "language_info": {
   "codemirror_mode": {
    "name": "ipython",
    "version": 3
   },
   "file_extension": ".py",
   "mimetype": "text/x-python",
   "name": "python",
   "nbconvert_exporter": "python",
   "pygments_lexer": "ipython3",
   "version": "3.12.4"
  }
 },
 "nbformat": 4,
 "nbformat_minor": 5
}
